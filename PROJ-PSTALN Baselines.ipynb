{
 "cells": [
  {
   "cell_type": "markdown",
   "metadata": {
    "id": "pIRc2kF8XIko"
   },
   "source": [
    "**Consigne 'BASELINES'**\n",
    "\n",
    "Développement d’une méthode baseline “aléatoire” qui prédit des étiquettes aléatoirement, calcul de la performance obtenue par cette méthode.\n",
    "\n",
    "Évaluation d’une méthode baseline plus sophistiquée, par exemple: \n",
    "- la classe majoritaire, \n",
    "- la baseline proposée à l’époque par les organisateur.rice.s,\n",
    "- ou l’exécution d’un système soumis par les participant.e.s en 2016."
   ]
  },
  {
   "cell_type": "markdown",
   "metadata": {
    "id": "-oYxvnSq68hm"
   },
   "source": [
    "# Travail précédent Wiwi\n",
    "\n",
    "Vous pouvez réutiliser des parties"
   ]
  },
  {
   "cell_type": "markdown",
   "metadata": {
    "id": "NE2mqtGfXvXL"
   },
   "source": [
    "## Imports"
   ]
  },
  {
   "cell_type": "code",
   "execution_count": 2,
   "metadata": {
    "colab": {
     "base_uri": "https://localhost:8080/"
    },
    "executionInfo": {
     "elapsed": 21582,
     "status": "ok",
     "timestamp": 1640850697443,
     "user": {
      "displayName": "William Jonas",
      "photoUrl": "https://lh3.googleusercontent.com/a/default-user=s64",
      "userId": "07205973325962472450"
     },
     "user_tz": -60
    },
    "id": "k0ClVHL0F2Ag",
    "outputId": "22363b0a-10bb-4e56-c519-2a1f43c2a275"
   },
   "outputs": [],
   "source": [
    "import os\n",
    "import numpy as np\n",
    "import matplotlib.pyplot as plt"
   ]
  },
  {
   "cell_type": "code",
   "execution_count": 4,
   "metadata": {
    "colab": {
     "base_uri": "https://localhost:8080/"
    },
    "executionInfo": {
     "elapsed": 844,
     "status": "ok",
     "timestamp": 1640850698282,
     "user": {
      "displayName": "William Jonas",
      "photoUrl": "https://lh3.googleusercontent.com/a/default-user=s64",
      "userId": "07205973325962472450"
     },
     "user_tz": -60
    },
    "id": "_hyoWRIEMwl1",
    "outputId": "4872a577-3533-474c-f54b-99961faf831f"
   },
   "outputs": [
    {
     "name": "stdout",
     "output_type": "stream",
     "text": [
      " Le volume dans le lecteur E s'appelle DATA\n",
      " Le num‚ro de s‚rie du volume est C61F-A303\n",
      "\n",
      " R‚pertoire de E:\\timot\\Documents\\1 - Centrale Marseille\\0.6 - Semestre S9\\0_PSTALN\\TP\\Semantic_chunk_identification\n",
      "\n",
      "30/12/2021  15:14    <DIR>          .\n",
      "30/12/2021  15:14    <DIR>          ..\n",
      "17/12/2021  15:41               266 .gitignore\n",
      "30/12/2021  15:12    <DIR>          .ipynb_checkpoints\n",
      "30/12/2021  15:14           107ÿ913 PROJ-PSTALN Baselines.ipynb\n",
      "17/12/2021  15:21                78 README.md\n",
      "17/12/2021  15:29                25 requirements.txt\n",
      "23/10/2015  14:49    <DIR>          train_2015_10_22.utf-8\n",
      "               4 fichier(s)          108ÿ282 octets\n",
      "               4 R‚p(s)  662ÿ275ÿ137ÿ536 octets libres\n"
     ]
    }
   ],
   "source": [
    "path = '../Semantic_chunk_identification'\n",
    "os.chdir(path)\n",
    "%ls"
   ]
  },
  {
   "cell_type": "markdown",
   "metadata": {
    "id": "y_EQt5prdq8z"
   },
   "source": [
    "## Chargement et lecture des données"
   ]
  },
  {
   "cell_type": "code",
   "execution_count": 5,
   "metadata": {
    "executionInfo": {
     "elapsed": 17,
     "status": "ok",
     "timestamp": 1640850698292,
     "user": {
      "displayName": "William Jonas",
      "photoUrl": "https://lh3.googleusercontent.com/a/default-user=s64",
      "userId": "07205973325962472450"
     },
     "user_tz": -60
    },
    "id": "5mJO-OqQdfkq"
   },
   "outputs": [],
   "source": [
    "import re #Regular expressions operation\n",
    "\n",
    "def readFile(filename):\n",
    "    return [line.strip() for line in open(filename)]\n",
    "#.decode(\"utf-8\")\n",
    "\n",
    "def readFileWithChunks(filename):\n",
    "    lines_marked = [line.strip() for line in open(filename)]\n",
    "    # .decode(\"utf-8\")\n",
    "    lines_clean1 = [line.replace('[ ', \"\") for line in lines_marked]\n",
    "    lines_clean2 = [line.replace(' ]', \"\") for line in lines_clean1]\n",
    "    return lines_clean2"
   ]
  },
  {
   "cell_type": "code",
   "execution_count": 6,
   "metadata": {
    "executionInfo": {
     "elapsed": 1767,
     "status": "ok",
     "timestamp": 1640850700045,
     "user": {
      "displayName": "William Jonas",
      "photoUrl": "https://lh3.googleusercontent.com/a/default-user=s64",
      "userId": "07205973325962472450"
     },
     "user_tz": -60
    },
    "id": "Tds8EbSFNYoL"
   },
   "outputs": [],
   "source": [
    "path_headline1_chunked = '/content/drive/MyDrive/CENTRALE MARSEILLE/3A/PSTALN/Projet/Downloaded files/train_2015_10_22.utf-8/STSint.input.headlines.sent1.chunk.txt'\n",
    "path_headline2_chunked = '/content/drive/MyDrive/CENTRALE MARSEILLE/3A/PSTALN/Projet/Downloaded files/train_2015_10_22.utf-8/STSint.input.headlines.sent2.chunk.txt'\n",
    "path_headline1 = '/content/drive/MyDrive/CENTRALE MARSEILLE/3A/PSTALN/Projet/Downloaded files/train_2015_10_22.utf-8/STSint.input.headlines.sent1.txt'\n",
    "path_headline2 = '/content/drive/MyDrive/CENTRALE MARSEILLE/3A/PSTALN/Projet/Downloaded files/train_2015_10_22.utf-8/STSint.input.headlines.sent2.txt'\n",
    "\n",
    "lines_chunked = True  #False\n",
    "\n",
    "if lines_chunked == True:\n",
    "    sent1_lines = readFileWithChunks(path_headline1_chunked)\n",
    "    sent2_lines = readFileWithChunks(path_headline2_chunked)\n",
    "    sent1_lines_chunked = readFile(path_headline1_chunked)\n",
    "    sent2_lines_chunked = readFile(path_headline2_chunked)\n",
    "else:\n",
    "    sent1_lines = readFile(path_headline1)\n",
    "    sent2_lines = readFile(path_headline2)\n",
    "\n",
    "if len(sent1_lines) != len(sent2_lines):\n",
    "    print (\"files have different number of lines... quiting\")\n",
    "    exit(-1)\n"
   ]
  },
  {
   "cell_type": "code",
   "execution_count": 7,
   "metadata": {
    "colab": {
     "base_uri": "https://localhost:8080/"
    },
    "executionInfo": {
     "elapsed": 10,
     "status": "ok",
     "timestamp": 1640850700047,
     "user": {
      "displayName": "William Jonas",
      "photoUrl": "https://lh3.googleusercontent.com/a/default-user=s64",
      "userId": "07205973325962472450"
     },
     "user_tz": -60
    },
    "id": "oHmDM2Ii6tir",
    "outputId": "6ad34ceb-c1e7-433e-fb44-d3c1c718a7c1"
   },
   "outputs": [
    {
     "name": "stdout",
     "output_type": "stream",
     "text": [
      "Syria peace plan conditions \" unacceptable , \" opposition says\n",
      "[ Syria peace plan conditions ] [ \" ] [ unacceptable ] [ , ] [ \" ] [ opposition ] [ says ]\n"
     ]
    }
   ],
   "source": [
    "idx = 3\n",
    "print(sent1_lines[idx])\n",
    "print(sent1_lines_chunked[idx])"
   ]
  },
  {
   "cell_type": "markdown",
   "metadata": {
    "id": "rfCH2_dLX1Qv"
   },
   "source": [
    "## Baseline Aléatoire"
   ]
  },
  {
   "cell_type": "code",
   "execution_count": null,
   "metadata": {
    "id": "7oB2oEyeYoht"
   },
   "outputs": [],
   "source": [
    "#Preprocessing\n",
    "#Définition modèle approprié\n",
    "#Prédiction parmis les 5 étiquettes\n",
    "# Evaluation"
   ]
  },
  {
   "cell_type": "markdown",
   "metadata": {
    "id": "PVtxRuSASXbl"
   },
   "source": [
    "## Identification des morceaux de phrases (‘chunks’) ayant chacun une unité de sens\n",
    "\n",
    ">Utilisation des chunks déja définis dans le dataset 'chunked' (pour le moment)\n",
    "> TODO : doit ont prédire les chunks à l'aide d'un modèle de ML ?"
   ]
  },
  {
   "cell_type": "markdown",
   "metadata": {
    "id": "aZjVxGJ0iAwX"
   },
   "source": [
    "#### Preprocessing"
   ]
  },
  {
   "cell_type": "code",
   "execution_count": null,
   "metadata": {
    "id": "TNJr_Jti5hWA"
   },
   "outputs": [],
   "source": [
    "# Nettoyage du bruit\n",
    "def removeNoise(line):\n",
    "    noiseTokens = ['[', ']', ',', '.', ':', ';', '\"', \"'\", \"''\", \"`\", \"-\",]\n",
    "    for token in noiseTokens:\n",
    "        line = line.replace(token, \"\")\n",
    "    return line\n",
    "\n",
    "# Passage en minuscule\n",
    "def lowerCase(line):\n",
    "    return line.lower()\n",
    "\n",
    "# Séparation des phrases en mots\n",
    "def splitSentence(line):\n",
    "    return line.split(' ')\n",
    "\n",
    "def preprocessPipeline(line):\n",
    "    return splitSentence(lowerCase(removeNoise(line)))"
   ]
  },
  {
   "cell_type": "code",
   "execution_count": null,
   "metadata": {
    "id": "Qd9hS38S9cdY"
   },
   "outputs": [],
   "source": []
  },
  {
   "cell_type": "markdown",
   "metadata": {
    "id": "cu7D2dr_iSK9"
   },
   "source": [
    "#### Alignement des mots obtenus"
   ]
  },
  {
   "cell_type": "code",
   "execution_count": null,
   "metadata": {
    "id": "MuQ_t-Hm4zxl"
   },
   "outputs": [],
   "source": [
    "#Utilisation db WordNet ?"
   ]
  },
  {
   "cell_type": "markdown",
   "metadata": {
    "id": "cxu48kLsiXut"
   },
   "source": [
    "#### Extraits de code des baselines 'officielles'"
   ]
  },
  {
   "cell_type": "code",
   "execution_count": null,
   "metadata": {
    "id": "cgzoItvNQl3a"
   },
   "outputs": [],
   "source": [
    "def extractChunksFromSentence(sentence):\n",
    "    chunks = re.findall(r\"\\[[^\\[]+\\]\", sentence)\n",
    "    return chunks\n",
    "\n",
    "############################################\n",
    "################ MAIN SCRIPT ###############\n",
    "############################################\n",
    "\n",
    "lines_chunked = \"True\"\n",
    "# lines_chunked = args['chunked']\n",
    "\n",
    "if lines_chunked == \"True\":\n",
    "    sent1_lines = readFileWithChunks(args['sent1'])\n",
    "    sent2_lines = readFileWithChunks(args['sent2'])\n",
    "    sent1_lines_chunked = readFile(args['sent1'])\n",
    "    sent2_lines_chunked = readFile(args['sent2'])\n",
    "else:\n",
    "    sent1_lines = readFile(args['sent1'])\n",
    "    sent2_lines = readFile(args['sent2'])\n",
    "\n",
    "if len(sent1_lines) != len(sent2_lines):\n",
    "    print \"files have different number of lines... quiting\"\n",
    "    exit(-1)\n",
    "\n",
    "for pair_id in range(len(sent1_lines)):\n",
    "    sentence1 = sent1_lines[pair_id]\n",
    "    sentence2 = sent2_lines[pair_id]\n",
    "\n",
    "    sentence1Tokens = []\n",
    "    index = 1\n",
    "    for element in re.findall(r\"[^ ]+\", sentence1):\n",
    "        sentence1Tokens.append([index, element, element])\n",
    "        index += 1\n",
    "\n",
    "    sentence2Tokens = []\n",
    "    index = 1\n",
    "    for element in re.findall(r\"[^ ]+\", sentence2):\n",
    "        sentence2Tokens.append([index, element, element])\n",
    "        index += 1\n",
    "\n",
    "    idAlignments = findSameTokens(sentence1Tokens,sentence2Tokens)\n",
    "\n",
    "    sentence1Chunks = []\n",
    "    sentence2Chunks = []\n",
    "    sentence1TokensChunk = []\n",
    "    sentence2TokensChunk = []\n",
    "\n",
    "    if lines_chunked == \"True\":\n",
    "        sentence1Chunks = extractChunksFromSentence(sent1_lines_chunked[pair_id])\n",
    "        sentence2Chunks = extractChunksFromSentence(sent2_lines_chunked[pair_id])\n",
    "    else:       \n",
    "        sentence1Chunks = extractChunksFromIxaPipes(sentence1Tokens)\n",
    "        sentence2Chunks = extractChunksFromIxaPipes(sentence2Tokens)\n",
    "\n",
    "    #TODO comprendre utilité findTokensForChunk\n",
    "    sentence1TokensChunk = findTokensForChunk(sentence1Chunks, sentence1Tokens)\n",
    "    sentence2TokensChunk = findTokensForChunk(sentence2Chunks, sentence2Tokens)\n",
    "\n",
    "    token2tokenLinkMatrix = createToken2tokenLinkMatrix(sentence1TokensChunk, sentence2TokensChunk, idAlignments)\n",
    "    chunk2chunkLinkMatrix = createChunk2chunkLinkMatrix(sentence1TokensChunk, sentence2TokensChunk, token2tokenLinkMatrix)\n",
    "\n",
    "    #Définition des relations entre Tokens et relations entre Chunks\n",
    "    Sentence1_NotAlignable_tokens = getNotAlignableTokenIds(sentence1Tokens, sentence1TokensChunk)\n",
    "    Sentence2_NotAlignable_tokens = getNotAlignableTokenIds(sentence2Tokens, sentence2TokensChunk)\n",
    "    \n",
    "    Sentence1_NotAlignable_chunks = getChunksForNotAlignableTokens(Sentence1_NotAlignable_tokens)\n",
    "    Sentence2_NotAlignable_chunks = getChunksForNotAlignableTokens(Sentence2_NotAlignable_tokens)\n",
    "\n",
    "    Sentence1_NotLinked_chunks = getNotLinkedChunkIdsSentence1(chunk2chunkLinkMatrix, sentence1TokensChunk)\n",
    "    Sentence2_NotLinked_chunks = getNotLinkedChunkIdsSentence2(chunk2chunkLinkMatrix, sentence2TokensChunk)\n",
    "\n",
    "    Sentence1_Linked_chunks = getLinkedChunkIdsSentence1(chunk2chunkLinkMatrix, sentence1TokensChunk)\n",
    "    Sentence2_Linked_chunks = getLinkedChunkIdsSentence2(chunk2chunkLinkMatrix, sentence2TokensChunk)\n",
    "   \n",
    "    Sentence1_Noali_Tokens = Sentence1_NotAlignable_tokens + chunkIds2TokenIds(Sentence1_NotLinked_chunks, sentence1TokensChunk)\n",
    "    Sentence2_Noali_Tokens = Sentence2_NotAlignable_tokens + chunkIds2TokenIds(Sentence2_NotLinked_chunks, sentence2TokensChunk)\n",
    "\n",
    "    chunk2chunkReducedLinkMatrix = createChunk2chunkReducedLinkMatrix(chunk2chunkLinkMatrix, Sentence1_Linked_chunks, sentence1TokensChunk, Sentence2_Linked_chunks, sentence2TokensChunk)\n",
    "    cleanMatrix = cleanEpsilons(chunk2chunkReducedLinkMatrix)\n",
    "    LinkCostMatrix = munkres.make_cost_matrix(cleanMatrix, lambda cost: 100 - cost)\n",
    "    hungarianMunkres = Munkres()\n",
    "    \n",
    "    try:\n",
    "        bestIndexes = hungarianMunkres.compute(LinkCostMatrix)\n",
    "    except:\n",
    "        bestIndexes = []\n",
    "\n",
    "    MaximunRelatedChunkIds = getMaximunRelatedChunkIds(bestIndexes, Sentence1_Linked_chunks, Sentence2_Linked_chunks)\n",
    "    OtherRelatedChunkIds = getOtherRelatedChunkIds(chunk2chunkReducedLinkMatrix, bestIndexes, Sentence1_Linked_chunks, Sentence2_Linked_chunks)\n",
    "    OtherRelatedChunkIdsSentence1 = OtherRelatedChunkIds[0]\n",
    "    OtherRelatedChunkIdsSentence2 = OtherRelatedChunkIds[1]\n",
    "\n",
    "    S1AlignmentControl = {}\n",
    "    S2AlignmentControl = {}\n",
    "\n",
    "    print '<sentence id=\"' + str(pair_id+1) + '\" status=\"\">'\n",
    "    print '// ' + sentence1.encode(\"utf-8\")\n",
    "    print '// ' + sentence2.encode(\"utf-8\")\n",
    "    print '<source>'\n",
    "    for item in sentence1Tokens:\n",
    "        print str(item[0]) + \" \" + item[1].encode(\"utf-8\") + \" : \"\n",
    "        S1AlignmentControl[item[0]] = False\n",
    "    print '</source>'\n",
    "    print '<translation>'\n",
    "    for item in sentence2Tokens:\n",
    "        print str(item[0]) + \" \" + item[1].encode(\"utf-8\") + \" : \"\n",
    "        S2AlignmentControl[item[0]] = False\n",
    "    print '</translation>'\n",
    "    print '<alignment>'\n",
    "\n",
    "    writeMaximunRelatedChunkIds(MaximunRelatedChunkIds, sentence1TokensChunk, sentence2TokensChunk)\n",
    "    writeOtherRelatedChunkIds(OtherRelatedChunkIdsSentence1, OtherRelatedChunkIdsSentence2, sentence1TokensChunk, sentence2TokensChunk)\n",
    "    writeAllNotLinkedChunkIds(Sentence1_NotLinked_chunks,Sentence2_NotLinked_chunks, sentence1TokensChunk, sentence2TokensChunk)\n",
    "    writeAllNotAlignableTokenIds(Sentence1_NotAlignable_tokens, Sentence2_NotAlignable_tokens)\n",
    "\n",
    "    sentence1_forgottens = []\n",
    "\n",
    "    for key in S1AlignmentControl.keys():\n",
    "        if S1AlignmentControl[key] == False:\n",
    "            sentence1_forgottens.append(int(key))\n",
    "\n",
    "    sentence2_forgottens = []\n",
    "\n",
    "    for key in S2AlignmentControl.keys():\n",
    "        if S2AlignmentControl[key] == False:\n",
    "            sentence2_forgottens.append(int(key))\n",
    "\n",
    "    writeAllForgottenTokenIds(sentence1_forgottens, sentence2_forgottens, sentence1Tokens, sentence2Tokens)\n",
    "\n",
    "    print '</alignment>'\n",
    "    print\n",
    "    print\n"
   ]
  },
  {
   "cell_type": "markdown",
   "metadata": {
    "id": "RqjfHp2z2UAt"
   },
   "source": [
    "# TODO\n",
    "\n",
    "Ou mettre les embeddings\n",
    "\n",
    "- POS tagging (Tim)\n",
    "> utilisation modèle entrainé ?\n",
    "- Chunking (wiwi)\n",
    "> BIO encoding (si nécessaire aléatoire)\n",
    "> utilisations de regles fixes définies\n",
    "- Alignement (Maxime)"
   ]
  },
  {
   "cell_type": "markdown",
   "metadata": {
    "id": "nn1T8BMN7E8p"
   },
   "source": [
    "# POS Tagging"
   ]
  },
  {
   "cell_type": "code",
   "execution_count": null,
   "metadata": {
    "id": "_SYXCFOA2gyw"
   },
   "outputs": [],
   "source": []
  },
  {
   "cell_type": "markdown",
   "metadata": {
    "id": "EN3_Qiv17k1t"
   },
   "source": [
    "# Chunking\n",
    "\n",
    "- Essai pred aléatoire\n",
    "- Essai entrainement a partir des phrases chunkées"
   ]
  },
  {
   "cell_type": "markdown",
   "metadata": {
    "id": "LksnpqE24Kpi"
   },
   "source": [
    "#### Chargement données"
   ]
  },
  {
   "cell_type": "code",
   "execution_count": 119,
   "metadata": {
    "executionInfo": {
     "elapsed": 486,
     "status": "ok",
     "timestamp": 1640860028677,
     "user": {
      "displayName": "William Jonas",
      "photoUrl": "https://lh3.googleusercontent.com/a/default-user=s64",
      "userId": "07205973325962472450"
     },
     "user_tz": -60
    },
    "id": "ZgTIdJUi4M5L"
   },
   "outputs": [],
   "source": [
    "path_headline1_chunked = '/content/drive/MyDrive/CENTRALE MARSEILLE/3A/PSTALN/Projet/Downloaded files/train_2015_10_22.utf-8/STSint.input.headlines.sent1.chunk.txt'\n",
    "path_headline2_chunked = '/content/drive/MyDrive/CENTRALE MARSEILLE/3A/PSTALN/Projet/Downloaded files/train_2015_10_22.utf-8/STSint.input.headlines.sent2.chunk.txt'\n",
    "path_headline1 = '/content/drive/MyDrive/CENTRALE MARSEILLE/3A/PSTALN/Projet/Downloaded files/train_2015_10_22.utf-8/STSint.input.headlines.sent1.txt'\n",
    "path_headline2 = '/content/drive/MyDrive/CENTRALE MARSEILLE/3A/PSTALN/Projet/Downloaded files/train_2015_10_22.utf-8/STSint.input.headlines.sent2.txt'\n",
    "\n",
    "\n",
    "sent1_lines = readFileWithChunks(path_headline1_chunked)\n",
    "sent2_lines = readFileWithChunks(path_headline2_chunked)\n",
    "sent1_lines_chunked = readFile(path_headline1_chunked)\n",
    "sent2_lines_chunked = readFile(path_headline2_chunked)"
   ]
  },
  {
   "cell_type": "markdown",
   "metadata": {
    "id": "gpUs6AEc43fn"
   },
   "source": [
    "Train Test split"
   ]
  },
  {
   "cell_type": "code",
   "execution_count": 121,
   "metadata": {
    "colab": {
     "base_uri": "https://localhost:8080/"
    },
    "executionInfo": {
     "elapsed": 336,
     "status": "ok",
     "timestamp": 1640860194260,
     "user": {
      "displayName": "William Jonas",
      "photoUrl": "https://lh3.googleusercontent.com/a/default-user=s64",
      "userId": "07205973325962472450"
     },
     "user_tz": -60
    },
    "id": "_tsh4zcF43HW",
    "outputId": "65037a9f-7901-46d9-ae2c-bc010657dc88"
   },
   "outputs": [
    {
     "name": "stdout",
     "output_type": "stream",
     "text": [
      "Train size: 756\n",
      "Test size: 756\n"
     ]
    }
   ],
   "source": [
    "trainSamples = sent1_lines\n",
    "trainSamplesChunked = sent1_lines_chunked\n",
    "\n",
    "testSamples = sent2_lines\n",
    "testSamplesChunked = sent2_lines_chunked\n",
    "\n",
    "print('Train size:', len(trainSamples))\n",
    "print('Test size:', len(testSamples))"
   ]
  },
  {
   "cell_type": "markdown",
   "metadata": {
    "id": "nzND6A7ziOfC"
   },
   "source": [
    "#### Embedding temporaire\n",
    "\n",
    "> attente embed mouss\n",
    "\n",
    "Inspiré de : https://keras.io/examples/nlp/pretrained_word_embeddings/"
   ]
  },
  {
   "cell_type": "code",
   "execution_count": 1,
   "metadata": {
    "executionInfo": {
     "elapsed": 2910,
     "status": "ok",
     "timestamp": 1640849604204,
     "user": {
      "displayName": "William Jonas",
      "photoUrl": "https://lh3.googleusercontent.com/a/default-user=s64",
      "userId": "07205973325962472450"
     },
     "user_tz": -60
    },
    "id": "TRXOEVkB7nBw"
   },
   "outputs": [],
   "source": [
    "#On suppose que l'embedding est disponible (voire préentrainé si possible) : cf Mouss\n",
    "\n",
    "import numpy as np\n",
    "import tensorflow as tf\n",
    "from tensorflow import keras"
   ]
  },
  {
   "cell_type": "markdown",
   "metadata": {
    "id": "OjM4R4o9UGiR"
   },
   "source": [
    "Creation vocabulaire indexes"
   ]
  },
  {
   "cell_type": "code",
   "execution_count": 8,
   "metadata": {
    "executionInfo": {
     "elapsed": 850,
     "status": "ok",
     "timestamp": 1640850743348,
     "user": {
      "displayName": "William Jonas",
      "photoUrl": "https://lh3.googleusercontent.com/a/default-user=s64",
      "userId": "07205973325962472450"
     },
     "user_tz": -60
    },
    "id": "3dbf0JDnUIp4"
   },
   "outputs": [],
   "source": [
    "from tensorflow.keras.layers import TextVectorization\n",
    "\n",
    "vectorizer = TextVectorization(max_tokens=20000, output_sequence_length=200)\n",
    "text_ds = tf.data.Dataset.from_tensor_slices(trainSamples).batch(128)\n",
    "vectorizer.adapt(text_ds)"
   ]
  },
  {
   "cell_type": "code",
   "execution_count": 9,
   "metadata": {
    "colab": {
     "base_uri": "https://localhost:8080/"
    },
    "executionInfo": {
     "elapsed": 6,
     "status": "ok",
     "timestamp": 1640850756610,
     "user": {
      "displayName": "William Jonas",
      "photoUrl": "https://lh3.googleusercontent.com/a/default-user=s64",
      "userId": "07205973325962472450"
     },
     "user_tz": -60
    },
    "id": "i5qV8cFYU4nK",
    "outputId": "816049dc-da92-4b17-f06b-b28b73d40725"
   },
   "outputs": [
    {
     "data": {
      "text/plain": [
       "['', '[UNK]', 'in', 'to', 'on']"
      ]
     },
     "execution_count": 9,
     "metadata": {},
     "output_type": "execute_result"
    }
   ],
   "source": [
    "vectorizer.get_vocabulary()[:5]"
   ]
  },
  {
   "cell_type": "code",
   "execution_count": 11,
   "metadata": {
    "colab": {
     "base_uri": "https://localhost:8080/"
    },
    "executionInfo": {
     "elapsed": 411,
     "status": "ok",
     "timestamp": 1640850833637,
     "user": {
      "displayName": "William Jonas",
      "photoUrl": "https://lh3.googleusercontent.com/a/default-user=s64",
      "userId": "07205973325962472450"
     },
     "user_tz": -60
    },
    "id": "XJXhykbkU8gD",
    "outputId": "a8b07b0e-345a-4edf-cf3b-441735aa3857"
   },
   "outputs": [
    {
     "data": {
      "text/plain": [
       "array([17,  1,  1,  4, 17,  1])"
      ]
     },
     "execution_count": 11,
     "metadata": {},
     "output_type": "execute_result"
    }
   ],
   "source": [
    "output = vectorizer([[\"the cat sat on the mat\"]])\n",
    "output.numpy()[0, :6]\n",
    "#Dans cette phrase test : 3 mots ne font pas partie du voc de notre db et sont donc '<UNK>'"
   ]
  },
  {
   "cell_type": "code",
   "execution_count": 12,
   "metadata": {
    "executionInfo": {
     "elapsed": 376,
     "status": "ok",
     "timestamp": 1640850847124,
     "user": {
      "displayName": "William Jonas",
      "photoUrl": "https://lh3.googleusercontent.com/a/default-user=s64",
      "userId": "07205973325962472450"
     },
     "user_tz": -60
    },
    "id": "UlhgWvL4VOxd"
   },
   "outputs": [],
   "source": [
    "voc = vectorizer.get_vocabulary()\n",
    "word_index = dict(zip(voc, range(len(voc))))"
   ]
  },
  {
   "cell_type": "code",
   "execution_count": 13,
   "metadata": {
    "colab": {
     "base_uri": "https://localhost:8080/",
     "height": 249
    },
    "executionInfo": {
     "elapsed": 375,
     "status": "error",
     "timestamp": 1640850857203,
     "user": {
      "displayName": "William Jonas",
      "photoUrl": "https://lh3.googleusercontent.com/a/default-user=s64",
      "userId": "07205973325962472450"
     },
     "user_tz": -60
    },
    "id": "H0LXZZHUVRMd",
    "outputId": "041f4a76-629b-44c0-bcff-2f404d14704f"
   },
   "outputs": [
    {
     "ename": "KeyError",
     "evalue": "ignored",
     "output_type": "error",
     "traceback": [
      "\u001B[0;31m---------------------------------------------------------------------------\u001B[0m",
      "\u001B[0;31mKeyError\u001B[0m                                  Traceback (most recent call last)",
      "\u001B[0;32m<ipython-input-13-63277bda255d>\u001B[0m in \u001B[0;36m<module>\u001B[0;34m()\u001B[0m\n\u001B[1;32m      1\u001B[0m \u001B[0mtest\u001B[0m \u001B[0;34m=\u001B[0m \u001B[0;34m[\u001B[0m\u001B[0;34m\"the\"\u001B[0m\u001B[0;34m,\u001B[0m \u001B[0;34m\"cat\"\u001B[0m\u001B[0;34m,\u001B[0m \u001B[0;34m\"sat\"\u001B[0m\u001B[0;34m,\u001B[0m \u001B[0;34m\"on\"\u001B[0m\u001B[0;34m,\u001B[0m \u001B[0;34m\"the\"\u001B[0m\u001B[0;34m,\u001B[0m \u001B[0;34m\"mat\"\u001B[0m\u001B[0;34m]\u001B[0m\u001B[0;34m\u001B[0m\u001B[0;34m\u001B[0m\u001B[0m\n\u001B[0;32m----> 2\u001B[0;31m \u001B[0;34m[\u001B[0m\u001B[0mword_index\u001B[0m\u001B[0;34m[\u001B[0m\u001B[0mw\u001B[0m\u001B[0;34m]\u001B[0m \u001B[0;32mfor\u001B[0m \u001B[0mw\u001B[0m \u001B[0;32min\u001B[0m \u001B[0mtest\u001B[0m\u001B[0;34m]\u001B[0m\u001B[0;34m\u001B[0m\u001B[0;34m\u001B[0m\u001B[0m\n\u001B[0m",
      "\u001B[0;32m<ipython-input-13-63277bda255d>\u001B[0m in \u001B[0;36m<listcomp>\u001B[0;34m(.0)\u001B[0m\n\u001B[1;32m      1\u001B[0m \u001B[0mtest\u001B[0m \u001B[0;34m=\u001B[0m \u001B[0;34m[\u001B[0m\u001B[0;34m\"the\"\u001B[0m\u001B[0;34m,\u001B[0m \u001B[0;34m\"cat\"\u001B[0m\u001B[0;34m,\u001B[0m \u001B[0;34m\"sat\"\u001B[0m\u001B[0;34m,\u001B[0m \u001B[0;34m\"on\"\u001B[0m\u001B[0;34m,\u001B[0m \u001B[0;34m\"the\"\u001B[0m\u001B[0;34m,\u001B[0m \u001B[0;34m\"mat\"\u001B[0m\u001B[0;34m]\u001B[0m\u001B[0;34m\u001B[0m\u001B[0;34m\u001B[0m\u001B[0m\n\u001B[0;32m----> 2\u001B[0;31m \u001B[0;34m[\u001B[0m\u001B[0mword_index\u001B[0m\u001B[0;34m[\u001B[0m\u001B[0mw\u001B[0m\u001B[0;34m]\u001B[0m \u001B[0;32mfor\u001B[0m \u001B[0mw\u001B[0m \u001B[0;32min\u001B[0m \u001B[0mtest\u001B[0m\u001B[0;34m]\u001B[0m\u001B[0;34m\u001B[0m\u001B[0;34m\u001B[0m\u001B[0m\n\u001B[0m",
      "\u001B[0;31mKeyError\u001B[0m: 'cat'"
     ]
    }
   ],
   "source": [
    "test = [\"the\", \"cat\", \"sat\", \"on\", \"the\", \"mat\"]\n",
    "[word_index[w] for w in test]"
   ]
  },
  {
   "cell_type": "markdown",
   "metadata": {
    "id": "70KnPXjEQbmR"
   },
   "source": [
    "Download GloVe embeddings"
   ]
  },
  {
   "cell_type": "code",
   "execution_count": 2,
   "metadata": {
    "colab": {
     "base_uri": "https://localhost:8080/"
    },
    "executionInfo": {
     "elapsed": 185983,
     "status": "ok",
     "timestamp": 1640849790162,
     "user": {
      "displayName": "William Jonas",
      "photoUrl": "https://lh3.googleusercontent.com/a/default-user=s64",
      "userId": "07205973325962472450"
     },
     "user_tz": -60
    },
    "id": "GXIKaoUDQeHt",
    "outputId": "a3d61943-6ee0-49a0-decb-a5e7bac7fb27"
   },
   "outputs": [
    {
     "name": "stdout",
     "output_type": "stream",
     "text": [
      "--2021-12-30 07:33:23--  http://nlp.stanford.edu/data/glove.6B.zip\n",
      "Resolving nlp.stanford.edu (nlp.stanford.edu)... 171.64.67.140\n",
      "Connecting to nlp.stanford.edu (nlp.stanford.edu)|171.64.67.140|:80... connected.\n",
      "HTTP request sent, awaiting response... 302 Found\n",
      "Location: https://nlp.stanford.edu/data/glove.6B.zip [following]\n",
      "--2021-12-30 07:33:23--  https://nlp.stanford.edu/data/glove.6B.zip\n",
      "Connecting to nlp.stanford.edu (nlp.stanford.edu)|171.64.67.140|:443... connected.\n",
      "HTTP request sent, awaiting response... 301 Moved Permanently\n",
      "Location: http://downloads.cs.stanford.edu/nlp/data/glove.6B.zip [following]\n",
      "--2021-12-30 07:33:24--  http://downloads.cs.stanford.edu/nlp/data/glove.6B.zip\n",
      "Resolving downloads.cs.stanford.edu (downloads.cs.stanford.edu)... 171.64.64.22\n",
      "Connecting to downloads.cs.stanford.edu (downloads.cs.stanford.edu)|171.64.64.22|:80... connected.\n",
      "HTTP request sent, awaiting response... 200 OK\n",
      "Length: 862182613 (822M) [application/zip]\n",
      "Saving to: ‘glove.6B.zip’\n",
      "\n",
      "glove.6B.zip        100%[===================>] 822.24M  5.01MB/s    in 2m 40s  \n",
      "\n",
      "2021-12-30 07:36:04 (5.14 MB/s) - ‘glove.6B.zip’ saved [862182613/862182613]\n",
      "\n"
     ]
    }
   ],
   "source": [
    "!wget http://nlp.stanford.edu/data/glove.6B.zip\n",
    "!unzip -q glove.6B.zip"
   ]
  },
  {
   "cell_type": "code",
   "execution_count": 15,
   "metadata": {
    "colab": {
     "base_uri": "https://localhost:8080/"
    },
    "executionInfo": {
     "elapsed": 7976,
     "status": "ok",
     "timestamp": 1640850977612,
     "user": {
      "displayName": "William Jonas",
      "photoUrl": "https://lh3.googleusercontent.com/a/default-user=s64",
      "userId": "07205973325962472450"
     },
     "user_tz": -60
    },
    "id": "2YBsm3snRISU",
    "outputId": "82a7907b-384e-46fb-8fa0-968a676f3e11"
   },
   "outputs": [
    {
     "name": "stdout",
     "output_type": "stream",
     "text": [
      "Found 400000 word vectors.\n"
     ]
    }
   ],
   "source": [
    "# path_to_glove_file = os.path.join(\n",
    "#     os.path.expanduser(\"~\"), \".keras/datasets/glove.6B.100d.txt\"\n",
    "# )\n",
    "path_to_glove_file = '/content/glove.6B.100d.txt'\n",
    "\n",
    "embeddings_index = {}\n",
    "with open(path_to_glove_file) as f:\n",
    "    for line in f:\n",
    "        word, coefs = line.split(maxsplit=1)\n",
    "        coefs = np.fromstring(coefs, \"f\", sep=\" \")\n",
    "        embeddings_index[word] = coefs\n",
    "\n",
    "print(\"Found %s word vectors.\" % len(embeddings_index))"
   ]
  },
  {
   "cell_type": "code",
   "execution_count": 16,
   "metadata": {
    "colab": {
     "base_uri": "https://localhost:8080/"
    },
    "executionInfo": {
     "elapsed": 251,
     "status": "ok",
     "timestamp": 1640850982372,
     "user": {
      "displayName": "William Jonas",
      "photoUrl": "https://lh3.googleusercontent.com/a/default-user=s64",
      "userId": "07205973325962472450"
     },
     "user_tz": -60
    },
    "id": "GYHB-aRoRLWM",
    "outputId": "a77267b2-0896-48e5-b5cd-6fb3e4968bc8"
   },
   "outputs": [
    {
     "name": "stdout",
     "output_type": "stream",
     "text": [
      "Converted 2075 words (58 misses)\n"
     ]
    }
   ],
   "source": [
    "num_tokens = len(voc) + 2\n",
    "embedding_dim = 100\n",
    "hits = 0\n",
    "misses = 0\n",
    "\n",
    "# Prepare embedding matrix\n",
    "embedding_matrix = np.zeros((num_tokens, embedding_dim))\n",
    "for word, i in word_index.items():\n",
    "    embedding_vector = embeddings_index.get(word)\n",
    "    if embedding_vector is not None:\n",
    "        # Words not found in embedding index will be all-zeros.\n",
    "        # This includes the representation for \"padding\" and \"OOV\"\n",
    "        embedding_matrix[i] = embedding_vector\n",
    "        hits += 1\n",
    "    else:\n",
    "        misses += 1\n",
    "print(\"Converted %d words (%d misses)\" % (hits, misses))"
   ]
  },
  {
   "cell_type": "markdown",
   "metadata": {
    "id": "EaNiMAa3ZJA-"
   },
   "source": [
    "#### Preprocessing\n",
    "\n",
    "> y_train / y_test"
   ]
  },
  {
   "cell_type": "markdown",
   "metadata": {
    "id": "RJfx6Nlv2P9Q"
   },
   "source": [
    "##### Definition méthodes"
   ]
  },
  {
   "cell_type": "code",
   "execution_count": 96,
   "metadata": {
    "executionInfo": {
     "elapsed": 250,
     "status": "ok",
     "timestamp": 1640858552887,
     "user": {
      "displayName": "William Jonas",
      "photoUrl": "https://lh3.googleusercontent.com/a/default-user=s64",
      "userId": "07205973325962472450"
     },
     "user_tz": -60
    },
    "id": "tJ3WhMTNhxj7"
   },
   "outputs": [],
   "source": [
    "def removeNoise(line):\n",
    "    noiseTokens = ['[', ']', ',', '.', ':', ';', '\"', \"'\", \"''\", \"`\", \"-\",]\n",
    "    for token in noiseTokens:\n",
    "        line = line.replace(token, \"\")\n",
    "    return line\n",
    "\n",
    "\n",
    "def chunkedLine2ListChunks(line):\n",
    "    line = removeNoise(line)\n",
    "    line = line.split('  ') #Ca c'est de la bidouille mais ça marchera eheh\n",
    "    for chunk in line:\n",
    "    if len(chunk)==0: \n",
    "        while chunk in line:\n",
    "            del line[line.index(chunk)]\n",
    "    return line\n",
    "\n",
    "\n",
    "def isInsideChunk(word, chunk):\n",
    "    \"\"\"\n",
    "    Returns True if word have to be encoded as a O (BIO)\n",
    "    Else False\n",
    "    \"\"\"\n",
    "    return word in chunk\n",
    "\n",
    "# ex = sent1_lines_chunked[0]\n",
    "# l = chunkedLine2ListChunks(ex)\n",
    "# print(\"Nazi\" in l[0])\n",
    "# print(isInsideChunk(\"Nazi\", l[0]))\n",
    "\n",
    "\n",
    "def isFirstChunkWord(word, chunk):\n",
    "    \"\"\"\n",
    "    On suppose que le mot est présent dans le chunk\n",
    "\n",
    "    Returns True if word have to be encoded as a B (BIO)\n",
    "    Else False if word have to be encoded as a I (BIO)\n",
    "    \"\"\"\n",
    "    chunk = chunk.split()\n",
    "    return chunk[0] == word\n",
    "\n",
    "# isFirstChunkWord(\"Nazi\", l[0])\n",
    "\n",
    "def wordBIOencoding(word, chunk):\n",
    "    if isInsideChunk(word, chunk):\n",
    "        if isFirstChunkWord(word, chunk): return 'B'\n",
    "        else : return 'I'\n",
    "    else : return 'O'\n",
    "\n",
    "def sentenceBIOencoding(line, chunkedLine):\n",
    "    '''\n",
    "    La pertinence du 'O' n'est pas évidente ici étant donné que tous les mots de line semblent faire partie d'un chunk de chunkedLine\n",
    "    '''\n",
    "\n",
    "    words = line.split()\n",
    "    chunks = chunkedLine2ListChunks(chunkedLine)\n",
    "    BIOcodes = []\n",
    "\n",
    "    currentChunk = 0\n",
    "\n",
    "    for word in words:\n",
    "        code = wordBIOencoding(word, chunks[currentChunk])\n",
    "\n",
    "        if code == 'O':\n",
    "            if currentChunk+1<len(chunks):\n",
    "                currentChunk+=1 #Attention on explore le chunk suivant (si jamais c'est le début d'un autre chunk)\n",
    "                test_code = wordBIOencoding(word, chunks[currentChunk])\n",
    "                if test_code == 'B':\n",
    "                    code = test_code\n",
    "\n",
    "        BIOcodes.append(code)\n",
    "    return BIOcodes\n",
    "\n",
    "\n",
    "# for idx in range(3):\n",
    "#   ex = sent1_lines_chunked[idx]\n",
    "#   print(ex)\n",
    "#   l = chunkedLine2ListChunks(ex)\n",
    "#   print(l)\n",
    "#   print()\n",
    "\n",
    "\n",
    "# nbSamples = 3 #len(sent1_lines)\n",
    "# for line, chunkedLine in zip(sent1_lines[:nbSamples], sent1_lines_chunked[:nbSamples]):\n",
    "#   BIOcodes = sentenceBIOencoding(line, chunkedLine)\n",
    "#   print(line.split())\n",
    "#   print(BIOcodes)\n",
    "#   print(chunkedLine)\n",
    "#   print()"
   ]
  },
  {
   "cell_type": "markdown",
   "metadata": {
    "id": "H806JWb2h3iH"
   },
   "source": [
    "##### Execution"
   ]
  },
  {
   "cell_type": "markdown",
   "metadata": {
    "id": "3iEBBCpt2Ugh"
   },
   "source": [
    "BIO encoding"
   ]
  },
  {
   "cell_type": "code",
   "execution_count": 166,
   "metadata": {
    "colab": {
     "base_uri": "https://localhost:8080/"
    },
    "executionInfo": {
     "elapsed": 263,
     "status": "ok",
     "timestamp": 1640862448497,
     "user": {
      "displayName": "William Jonas",
      "photoUrl": "https://lh3.googleusercontent.com/a/default-user=s64",
      "userId": "07205973325962472450"
     },
     "user_tz": -60
    },
    "id": "SMebgLvAiLVv",
    "outputId": "8afdcedf-58a2-4eae-b73b-36709d0a5fe7"
   },
   "outputs": [
    {
     "name": "stdout",
     "output_type": "stream",
     "text": [
      "756 756\n",
      "[ Former Nazi death camp guard Demjanjuk ] [ dead ] [ at 91 ]\n",
      "['B', 'I', 'I', 'I', 'I', 'I', 'B', 'B', 'I']\n"
     ]
    }
   ],
   "source": [
    "BIO_y_train = []  #Contains BIO codes\n",
    "BIO_y_test = []\n",
    "\n",
    "nbSamples = len(trainSamples)\n",
    "for line, chunkedLine in zip(trainSamples[:nbSamples], trainSamplesChunked[:nbSamples]):\n",
    "    BIOcodes = sentenceBIOencoding(line, chunkedLine)\n",
    "    BIO_y_train.append(BIOcodes)\n",
    "\n",
    "nbSamples = len(testSamples)\n",
    "for line, chunkedLine in zip(testSamples[:nbSamples], testSamplesChunked[:nbSamples]):\n",
    "    BIOcodes = sentenceBIOencoding(line, chunkedLine)\n",
    "    BIO_y_test.append(BIOcodes)\n",
    "\n",
    "print(len(trainSamples), len(BIO_y_train))\n",
    "print(trainSamplesChunked[0])\n",
    "print(BIO_y_train[0])"
   ]
  },
  {
   "cell_type": "markdown",
   "metadata": {
    "id": "Pq_dcaoy2XZj"
   },
   "source": [
    "Conversion caractères BIO en entiers"
   ]
  },
  {
   "cell_type": "code",
   "execution_count": 167,
   "metadata": {
    "colab": {
     "base_uri": "https://localhost:8080/"
    },
    "executionInfo": {
     "elapsed": 3,
     "status": "ok",
     "timestamp": 1640862449599,
     "user": {
      "displayName": "William Jonas",
      "photoUrl": "https://lh3.googleusercontent.com/a/default-user=s64",
      "userId": "07205973325962472450"
     },
     "user_tz": -60
    },
    "id": "87fK1Wdr2pcI",
    "outputId": "b29ab11a-14fd-435d-fe26-6b64df877c30"
   },
   "outputs": [
    {
     "name": "stdout",
     "output_type": "stream",
     "text": [
      "[0 1 2]\n"
     ]
    }
   ],
   "source": [
    "from sklearn.preprocessing import LabelEncoder\n",
    "\n",
    "labelEncoder = LabelEncoder()\n",
    "labelEncoder.fit(['B', 'I', 'O'])\n",
    "print(labelEncoder.transform(['B', 'I', 'O']))"
   ]
  },
  {
   "cell_type": "code",
   "execution_count": 168,
   "metadata": {
    "colab": {
     "base_uri": "https://localhost:8080/"
    },
    "executionInfo": {
     "elapsed": 5,
     "status": "ok",
     "timestamp": 1640862449908,
     "user": {
      "displayName": "William Jonas",
      "photoUrl": "https://lh3.googleusercontent.com/a/default-user=s64",
      "userId": "07205973325962472450"
     },
     "user_tz": -60
    },
    "id": "sFSa_hKN1ISv",
    "outputId": "094e2f96-afb5-403a-f11a-a97f1885fc15"
   },
   "outputs": [
    {
     "name": "stdout",
     "output_type": "stream",
     "text": [
      "[ Former Nazi death camp guard Demjanjuk ] [ dead ] [ at 91 ]\n",
      "['B', 'I', 'I', 'I', 'I', 'I', 'B', 'B', 'I']\n",
      "[0 1 1 1 1 1 0 0 1]\n"
     ]
    }
   ],
   "source": [
    "BIO_int_y_train = []\n",
    "BIO_int_y_test = []\n",
    "\n",
    "for line in BIO_y_train:\n",
    "    BIO_int_y_train.append(labelEncoder.transform(np.array(line)))\n",
    "\n",
    "for line in BIO_y_test:\n",
    "    BIO_int_y_test.append(labelEncoder.transform(np.array(line)))\n",
    "\n",
    "print(trainSamplesChunked[0])\n",
    "print(BIO_y_train[0])\n",
    "print(BIO_int_y_train[0])"
   ]
  },
  {
   "cell_type": "markdown",
   "metadata": {
    "id": "2c872Ewr2a7d"
   },
   "source": [
    "Conservion One Hot "
   ]
  },
  {
   "cell_type": "code",
   "execution_count": 169,
   "metadata": {
    "colab": {
     "base_uri": "https://localhost:8080/"
    },
    "executionInfo": {
     "elapsed": 4,
     "status": "ok",
     "timestamp": 1640862450742,
     "user": {
      "displayName": "William Jonas",
      "photoUrl": "https://lh3.googleusercontent.com/a/default-user=s64",
      "userId": "07205973325962472450"
     },
     "user_tz": -60
    },
    "id": "xvFeLmWg0W03",
    "outputId": "45ca4439-e1e3-4c9d-a7cd-fcb0cab70985"
   },
   "outputs": [
    {
     "name": "stdout",
     "output_type": "stream",
     "text": [
      "[ Former Nazi death camp guard Demjanjuk ] [ dead ] [ at 91 ]\n",
      "['B', 'I', 'I', 'I', 'I', 'I', 'B', 'B', 'I']\n",
      "[0 1 1 1 1 1 0 0 1]\n",
      "[[1. 0. 0.]\n",
      " [0. 1. 0.]\n",
      " [0. 1. 0.]\n",
      " [0. 1. 0.]\n",
      " [0. 1. 0.]\n",
      " [0. 1. 0.]\n",
      " [1. 0. 0.]\n",
      " [1. 0. 0.]\n",
      " [0. 1. 0.]]\n"
     ]
    }
   ],
   "source": [
    "from keras.utils import np_utils\n",
    "\n",
    "y_train = []  #One hot encoded\n",
    "y_test = []\n",
    "\n",
    "for line in BIO_int_y_train:\n",
    "    y_train.append(np_utils.to_categorical(line, num_classes=3))\n",
    "\n",
    "for line in BIO_int_y_test:\n",
    "    y_test.append(np_utils.to_categorical(line, num_classes=3))\n",
    "\n",
    "print(trainSamplesChunked[0])\n",
    "print(BIO_y_train[0])\n",
    "print(BIO_int_y_train[0])\n",
    "print(y_train[0])"
   ]
  },
  {
   "cell_type": "markdown",
   "metadata": {
    "id": "AWijycYa_TDK"
   },
   "source": [
    "Conversion format input X"
   ]
  },
  {
   "cell_type": "code",
   "execution_count": 226,
   "metadata": {
    "colab": {
     "base_uri": "https://localhost:8080/"
    },
    "executionInfo": {
     "elapsed": 403,
     "status": "ok",
     "timestamp": 1640869348042,
     "user": {
      "displayName": "William Jonas",
      "photoUrl": "https://lh3.googleusercontent.com/a/default-user=s64",
      "userId": "07205973325962472450"
     },
     "user_tz": -60
    },
    "id": "NNs7C1OF_Yg7",
    "outputId": "78ce8e4e-1939-494e-a81d-7e0bdd20eccd"
   },
   "outputs": [
    {
     "name": "stdout",
     "output_type": "stream",
     "text": [
      "(756, 200)\n",
      "(756, 200)\n"
     ]
    }
   ],
   "source": [
    "def preprocessLines(lines):\n",
    "    return np.array(vectorizer(np.array([[s] for s in lines])))\n",
    "    # np.asrray(vectorizer(np.array([[s] for s in lines]))).astype('float32')#.numpy()\n",
    "\n",
    "x_train = preprocessLines(trainSamples)\n",
    "x_test = preprocessLines(testSamples)\n",
    "\n",
    "print(x_train.shape)\n",
    "print(x_test.shape)"
   ]
  },
  {
   "cell_type": "markdown",
   "metadata": {
    "id": "MCoRbhpbbL6l"
   },
   "source": [
    "Conversion format input Y\n",
    "\n",
    "> On complète le nombre de prédictions attendues pour en avoir le même nombre que de môts dans un sample de X (paddings INCLUS)"
   ]
  },
  {
   "cell_type": "code",
   "execution_count": 182,
   "metadata": {
    "colab": {
     "base_uri": "https://localhost:8080/"
    },
    "executionInfo": {
     "elapsed": 7,
     "status": "ok",
     "timestamp": 1640862803075,
     "user": {
      "displayName": "William Jonas",
      "photoUrl": "https://lh3.googleusercontent.com/a/default-user=s64",
      "userId": "07205973325962472450"
     },
     "user_tz": -60
    },
    "id": "QC3FCv8z_erE",
    "outputId": "fc379fe9-0a34-4ac9-d53e-703a369b97b3"
   },
   "outputs": [
    {
     "name": "stdout",
     "output_type": "stream",
     "text": [
      "(200, 3)\n"
     ]
    }
   ],
   "source": [
    "predictionForPaddingWord = [0, 0, 2]  # = 'O'\n",
    "lenSentence = x_train.shape[1]\n",
    "\n",
    "def completeLineLabels(lineLabels, lenSentence):\n",
    "    '''\n",
    "    Add 'O' labels for Padding words\n",
    "    '''\n",
    "    nbWordsInSample = len(lineLabels)\n",
    "    nbPaddingLabelsToAdd = lenSentence-nbWordsInSample\n",
    "\n",
    "    paddingLabels = np.array([predictionForPaddingWord for i in range(nbPaddingLabelsToAdd)])\n",
    "    lineLabels = np.concatenate((lineLabels,paddingLabels))\n",
    "\n",
    "    return lineLabels\n",
    "\n",
    "#Test\n",
    "y = np.array(completeLineLabels(y_train[0], 200))\n",
    "print(y.shape)"
   ]
  },
  {
   "cell_type": "code",
   "execution_count": 183,
   "metadata": {
    "colab": {
     "base_uri": "https://localhost:8080/"
    },
    "executionInfo": {
     "elapsed": 305,
     "status": "ok",
     "timestamp": 1640862851489,
     "user": {
      "displayName": "William Jonas",
      "photoUrl": "https://lh3.googleusercontent.com/a/default-user=s64",
      "userId": "07205973325962472450"
     },
     "user_tz": -60
    },
    "id": "SvkhLr2KBmrw",
    "outputId": "9a3a9430-67b7-46a4-ca03-4462b2eeb12d"
   },
   "outputs": [
    {
     "name": "stdout",
     "output_type": "stream",
     "text": [
      "(756, 200, 3)\n",
      "Sample size (200, 3)\n"
     ]
    }
   ],
   "source": [
    "# y_train = np.array(y_train)\n",
    "y_train = np.array([np.array(completeLineLabels(line_labels, lenSentence)) for line_labels in y_train])\n",
    "# y_test = np.array(y_test)\n",
    "y_test = np.array([np.array(completeLineLabels(line_labels, lenSentence)) for line_labels in y_test])\n",
    "\n",
    "print(y_train.shape)\n",
    "print(\"Sample size\", y_train[0].shape)\n",
    "# print(y_test.shape)"
   ]
  },
  {
   "cell_type": "markdown",
   "metadata": {
    "id": "OW7_k7nbh77G"
   },
   "source": [
    "#####Recherche / construction fonction preprocess\n",
    "\n",
    ">a supprimer plus tard"
   ]
  },
  {
   "cell_type": "code",
   "execution_count": 70,
   "metadata": {
    "colab": {
     "base_uri": "https://localhost:8080/"
    },
    "executionInfo": {
     "elapsed": 335,
     "status": "ok",
     "timestamp": 1640854077029,
     "user": {
      "displayName": "William Jonas",
      "photoUrl": "https://lh3.googleusercontent.com/a/default-user=s64",
      "userId": "07205973325962472450"
     },
     "user_tz": -60
    },
    "id": "YfQ5qfE0ZM9m",
    "outputId": "f39b7a44-9d13-4798-83e5-767789c393d9"
   },
   "outputs": [
    {
     "name": "stdout",
     "output_type": "stream",
     "text": [
      "\n",
      "  Syria peace plan conditions      unacceptable         opposition   says \n",
      "\n",
      " [' Syria peace plan conditions', '', '', 'unacceptable', '', '', '', ' opposition', ' says ']\n",
      "0  Syria peace plan conditions\n",
      "1 \n",
      "2  opposition\n",
      "3  says \n",
      "[' Syria peace plan conditions', 'unacceptable', ' opposition', ' says ']\n",
      "\n",
      " [' Syria peace plan conditions', 'unacceptable', ' opposition', ' says ']\n"
     ]
    }
   ],
   "source": [
    "#TEST\n",
    "\n",
    "idx = 3\n",
    "# print(sent1_lines[idx])\n",
    "# print(sent1_lines_chunked[idx])\n",
    "# print(sent1_lines_chunked[idx][0])\n",
    "\n",
    "\n",
    "ex = sent1_lines_chunked[idx]\n",
    "# ex = ex.split(\"] [\")\n",
    "# print(ex)\n",
    "# ex = [chunk.replace('[ ', \"\") for chunk in ex]\n",
    "# ex = [chunk.replace(' ]', \"\") for chunk in ex]\n",
    "# print(ex)\n",
    "\n",
    "ex2 = sent1_lines_chunked[idx]\n",
    "ex2 = removeNoise(ex2)\n",
    "print('\\n',ex2)\n",
    "# print(ex2.strip()[0])\n",
    "ex2 = ex2.split('  ')\n",
    "print('\\n',ex2)\n",
    "\n",
    "\n",
    "# mask = [len(chunk)!=0 for chunk in ex2]\n",
    "# print(mask)\n",
    "# ex2 = ex2[mask]\n",
    "\n",
    "# print(ex2[-2])\n",
    "for i, chunk in enumerate(ex2):\n",
    "    print(i, chunk)\n",
    "    if len(chunk)==0: \n",
    "        while chunk in ex2:\n",
    "            # del ex2[ex2.index(chunk)]\n",
    "            del ex2[ex2.index(chunk)]\n",
    "            #ex2.remove(chunk)\n",
    "print(ex2)\n",
    "print('\\n', chunkedLine2ListChunks(ex))\n",
    "\n",
    "\n",
    "# print(ex2[0])\n",
    "# print(ex2[1])\n",
    "# print(len(ex2[2]))\n",
    "# print(ex2[3])\n",
    "# while \"''\" in ex2:\n",
    "#   ex2.remove(\"''\")\n",
    "# print(ex2)\n",
    "# print(ex2[0])\n",
    "# print(ex2[1])\n",
    "\n",
    "\n",
    "\n",
    "# lines_marked = [line.strip() for line in open(filename)]\n",
    "# # .decode(\"utf-8\")\n",
    "# lines_clean1 = [line.replace('[ ', \"\") for line in lines_marked]\n",
    "# lines_clean2 = [line.replace(' ]', \"\") for line in lines_clean1]"
   ]
  },
  {
   "cell_type": "markdown",
   "metadata": {
    "id": "zppkWKJ4iTHH"
   },
   "source": [
    "#### Modèle tagging : Simple RNN"
   ]
  },
  {
   "cell_type": "code",
   "execution_count": 208,
   "metadata": {
    "colab": {
     "base_uri": "https://localhost:8080/"
    },
    "executionInfo": {
     "elapsed": 415,
     "status": "ok",
     "timestamp": 1640864901073,
     "user": {
      "displayName": "William Jonas",
      "photoUrl": "https://lh3.googleusercontent.com/a/default-user=s64",
      "userId": "07205973325962472450"
     },
     "user_tz": -60
    },
    "id": "bwleqItMiaC2",
    "outputId": "23ac5920-5ae8-48cc-c2db-f4540ba05a98"
   },
   "outputs": [
    {
     "name": "stdout",
     "output_type": "stream",
     "text": [
      "Model: \"sequential_10\"\n",
      "_________________________________________________________________\n",
      " Layer (type)                Output Shape              Param #   \n",
      "=================================================================\n",
      " embedding_10 (Embedding)    (None, None, 100)         213500    \n",
      "                                                                 \n",
      " simple_rnn_10 (SimpleRNN)   (None, None, 3)           312       \n",
      "                                                                 \n",
      "=================================================================\n",
      "Total params: 213,812\n",
      "Trainable params: 312\n",
      "Non-trainable params: 213,500\n",
      "_________________________________________________________________\n"
     ]
    }
   ],
   "source": [
    "from keras.models import Sequential\n",
    "from keras.layers import Dense, SimpleRNN, Embedding, Input\n",
    "\n",
    "nbClasses = 3 #BIO\n",
    "\n",
    "# SimpleRNN model\n",
    "model = Sequential()\n",
    "model.add(Input(shape=(None,), dtype=\"int64\"))  #integer_sequences_input\n",
    "model.add(Embedding(\n",
    "    input_dim=num_tokens, #Size of the vocabulary\n",
    "    output_dim=embedding_dim,\n",
    "    embeddings_initializer=keras.initializers.Constant(embedding_matrix),\n",
    "    trainable=False #Don't want to update embeddings\n",
    "                    ))\n",
    "model.add(SimpleRNN(units=nbClasses, #dim hidden state returned\n",
    "                    activation=\"softmax\", #'tanh'\n",
    "                    return_sequences=True\n",
    "                    )) #return_sequences=False pour obtenir uniquement la derniere couche RNN\n",
    "# model.add(Dense(nbClasses))\n",
    "\n",
    "#We use categorical crossentropy as our loss since we're doing softmax classification. Moreover, we use sparse_categorical_crossentropy since our labels are integers.\n",
    "#sparse_\n",
    "model.compile(loss=\"categorical_crossentropy\", optimizer=\"rmsprop\", metrics=[\"acc\"])\n",
    "# model.compile(optimizer = 'adam', loss='mean_squared_error')\n",
    "\n",
    "\n",
    "model.summary()"
   ]
  },
  {
   "cell_type": "markdown",
   "metadata": {
    "id": "W46wguvq0JpX"
   },
   "source": [
    "Entrainement"
   ]
  },
  {
   "cell_type": "code",
   "execution_count": 301,
   "metadata": {
    "executionInfo": {
     "elapsed": 350,
     "status": "ok",
     "timestamp": 1640872827697,
     "user": {
      "displayName": "William Jonas",
      "photoUrl": "https://lh3.googleusercontent.com/a/default-user=s64",
      "userId": "07205973325962472450"
     },
     "user_tz": -60
    },
    "id": "wV54m7yGGmne"
   },
   "outputs": [],
   "source": [
    "# pred = model.predict(np.array([x_train[0]]))\n",
    "\n",
    "# pred = model.predict(x_train[:2])\n",
    "# print(pred[0][:3])\n",
    "# print(y_train[0][:3])\n",
    "\n",
    "# print()\n",
    "# print(pred.shape)\n",
    "# print(y_train[:2].shape)"
   ]
  },
  {
   "cell_type": "code",
   "execution_count": 306,
   "metadata": {
    "colab": {
     "base_uri": "https://localhost:8080/"
    },
    "executionInfo": {
     "elapsed": 82640,
     "status": "ok",
     "timestamp": 1640873033049,
     "user": {
      "displayName": "William Jonas",
      "photoUrl": "https://lh3.googleusercontent.com/a/default-user=s64",
      "userId": "07205973325962472450"
     },
     "user_tz": -60
    },
    "id": "HHcTOcLmW5CD",
    "outputId": "45658c6b-433e-4517-cb8b-09229fc17e48"
   },
   "outputs": [
    {
     "name": "stdout",
     "output_type": "stream",
     "text": [
      "Epoch 1/50\n",
      "24/24 - 1s - loss: 0.1047 - acc: 0.9853 - val_loss: 0.1153 - val_acc: 0.9825 - 1s/epoch - 46ms/step\n",
      "Epoch 2/50\n",
      "24/24 - 1s - loss: 0.0992 - acc: 0.9853 - val_loss: 0.1102 - val_acc: 0.9825 - 1s/epoch - 44ms/step\n",
      "Epoch 3/50\n",
      "24/24 - 1s - loss: 0.0941 - acc: 0.9854 - val_loss: 0.1056 - val_acc: 0.9825 - 1s/epoch - 44ms/step\n",
      "Epoch 4/50\n",
      "24/24 - 1s - loss: 0.0895 - acc: 0.9854 - val_loss: 0.1013 - val_acc: 0.9825 - 1s/epoch - 44ms/step\n",
      "Epoch 5/50\n",
      "24/24 - 1s - loss: 0.0853 - acc: 0.9855 - val_loss: 0.0976 - val_acc: 0.9825 - 1s/epoch - 44ms/step\n",
      "Epoch 6/50\n",
      "24/24 - 1s - loss: 0.0814 - acc: 0.9854 - val_loss: 0.0940 - val_acc: 0.9825 - 1s/epoch - 44ms/step\n",
      "Epoch 7/50\n",
      "24/24 - 1s - loss: 0.0779 - acc: 0.9854 - val_loss: 0.0909 - val_acc: 0.9826 - 1s/epoch - 44ms/step\n",
      "Epoch 8/50\n",
      "24/24 - 1s - loss: 0.0746 - acc: 0.9855 - val_loss: 0.0880 - val_acc: 0.9826 - 1s/epoch - 44ms/step\n",
      "Epoch 9/50\n",
      "24/24 - 1s - loss: 0.0717 - acc: 0.9856 - val_loss: 0.0853 - val_acc: 0.9826 - 1s/epoch - 44ms/step\n",
      "Epoch 10/50\n",
      "24/24 - 1s - loss: 0.0690 - acc: 0.9855 - val_loss: 0.0830 - val_acc: 0.9826 - 1s/epoch - 44ms/step\n",
      "Epoch 11/50\n",
      "24/24 - 1s - loss: 0.0665 - acc: 0.9856 - val_loss: 0.0809 - val_acc: 0.9826 - 1s/epoch - 44ms/step\n",
      "Epoch 12/50\n",
      "24/24 - 1s - loss: 0.0643 - acc: 0.9856 - val_loss: 0.0790 - val_acc: 0.9826 - 1s/epoch - 45ms/step\n",
      "Epoch 13/50\n",
      "24/24 - 1s - loss: 0.0623 - acc: 0.9856 - val_loss: 0.0771 - val_acc: 0.9827 - 1s/epoch - 43ms/step\n",
      "Epoch 14/50\n",
      "24/24 - 1s - loss: 0.0604 - acc: 0.9856 - val_loss: 0.0755 - val_acc: 0.9827 - 1s/epoch - 45ms/step\n",
      "Epoch 15/50\n",
      "24/24 - 1s - loss: 0.0587 - acc: 0.9856 - val_loss: 0.0740 - val_acc: 0.9828 - 1s/epoch - 43ms/step\n",
      "Epoch 16/50\n",
      "24/24 - 1s - loss: 0.0572 - acc: 0.9857 - val_loss: 0.0729 - val_acc: 0.9827 - 1s/epoch - 44ms/step\n",
      "Epoch 17/50\n",
      "24/24 - 1s - loss: 0.0558 - acc: 0.9856 - val_loss: 0.0716 - val_acc: 0.9828 - 1s/epoch - 44ms/step\n",
      "Epoch 18/50\n",
      "24/24 - 1s - loss: 0.0545 - acc: 0.9857 - val_loss: 0.0708 - val_acc: 0.9827 - 1s/epoch - 43ms/step\n",
      "Epoch 19/50\n",
      "24/24 - 1s - loss: 0.0534 - acc: 0.9858 - val_loss: 0.0698 - val_acc: 0.9827 - 1s/epoch - 45ms/step\n",
      "Epoch 20/50\n",
      "24/24 - 1s - loss: 0.0524 - acc: 0.9857 - val_loss: 0.0689 - val_acc: 0.9828 - 1s/epoch - 43ms/step\n",
      "Epoch 21/50\n",
      "24/24 - 1s - loss: 0.0515 - acc: 0.9858 - val_loss: 0.0682 - val_acc: 0.9828 - 1s/epoch - 44ms/step\n",
      "Epoch 22/50\n",
      "24/24 - 1s - loss: 0.0506 - acc: 0.9857 - val_loss: 0.0675 - val_acc: 0.9829 - 1s/epoch - 44ms/step\n",
      "Epoch 23/50\n",
      "24/24 - 1s - loss: 0.0499 - acc: 0.9859 - val_loss: 0.0669 - val_acc: 0.9829 - 1s/epoch - 44ms/step\n",
      "Epoch 24/50\n",
      "24/24 - 1s - loss: 0.0492 - acc: 0.9859 - val_loss: 0.0664 - val_acc: 0.9828 - 1s/epoch - 44ms/step\n",
      "Epoch 25/50\n",
      "24/24 - 1s - loss: 0.0485 - acc: 0.9861 - val_loss: 0.0661 - val_acc: 0.9829 - 1s/epoch - 44ms/step\n",
      "Epoch 26/50\n",
      "24/24 - 1s - loss: 0.0480 - acc: 0.9860 - val_loss: 0.0657 - val_acc: 0.9829 - 1s/epoch - 45ms/step\n",
      "Epoch 27/50\n",
      "24/24 - 1s - loss: 0.0475 - acc: 0.9861 - val_loss: 0.0653 - val_acc: 0.9829 - 1s/epoch - 45ms/step\n",
      "Epoch 28/50\n",
      "24/24 - 1s - loss: 0.0470 - acc: 0.9861 - val_loss: 0.0650 - val_acc: 0.9829 - 1s/epoch - 44ms/step\n",
      "Epoch 29/50\n",
      "24/24 - 1s - loss: 0.0466 - acc: 0.9861 - val_loss: 0.0647 - val_acc: 0.9829 - 1s/epoch - 45ms/step\n",
      "Epoch 30/50\n",
      "24/24 - 1s - loss: 0.0462 - acc: 0.9861 - val_loss: 0.0644 - val_acc: 0.9829 - 1s/epoch - 45ms/step\n",
      "Epoch 31/50\n",
      "24/24 - 1s - loss: 0.0459 - acc: 0.9862 - val_loss: 0.0641 - val_acc: 0.9830 - 1s/epoch - 45ms/step\n",
      "Epoch 32/50\n",
      "24/24 - 1s - loss: 0.0456 - acc: 0.9862 - val_loss: 0.0640 - val_acc: 0.9830 - 1s/epoch - 44ms/step\n",
      "Epoch 33/50\n",
      "24/24 - 1s - loss: 0.0453 - acc: 0.9863 - val_loss: 0.0638 - val_acc: 0.9830 - 1s/epoch - 43ms/step\n",
      "Epoch 34/50\n",
      "24/24 - 1s - loss: 0.0451 - acc: 0.9863 - val_loss: 0.0633 - val_acc: 0.9830 - 1s/epoch - 43ms/step\n",
      "Epoch 35/50\n",
      "24/24 - 1s - loss: 0.0448 - acc: 0.9862 - val_loss: 0.0633 - val_acc: 0.9831 - 1s/epoch - 44ms/step\n",
      "Epoch 36/50\n",
      "24/24 - 1s - loss: 0.0446 - acc: 0.9863 - val_loss: 0.0631 - val_acc: 0.9831 - 1s/epoch - 44ms/step\n",
      "Epoch 37/50\n",
      "24/24 - 1s - loss: 0.0444 - acc: 0.9864 - val_loss: 0.0628 - val_acc: 0.9831 - 1s/epoch - 44ms/step\n",
      "Epoch 38/50\n",
      "24/24 - 1s - loss: 0.0442 - acc: 0.9864 - val_loss: 0.0626 - val_acc: 0.9832 - 1s/epoch - 44ms/step\n",
      "Epoch 39/50\n",
      "24/24 - 1s - loss: 0.0440 - acc: 0.9865 - val_loss: 0.0623 - val_acc: 0.9832 - 1s/epoch - 45ms/step\n",
      "Epoch 40/50\n",
      "24/24 - 1s - loss: 0.0438 - acc: 0.9865 - val_loss: 0.0621 - val_acc: 0.9831 - 1s/epoch - 44ms/step\n",
      "Epoch 41/50\n",
      "24/24 - 1s - loss: 0.0436 - acc: 0.9865 - val_loss: 0.0619 - val_acc: 0.9832 - 1s/epoch - 44ms/step\n",
      "Epoch 42/50\n",
      "24/24 - 1s - loss: 0.0434 - acc: 0.9866 - val_loss: 0.0618 - val_acc: 0.9832 - 1s/epoch - 45ms/step\n",
      "Epoch 43/50\n",
      "24/24 - 1s - loss: 0.0433 - acc: 0.9866 - val_loss: 0.0616 - val_acc: 0.9832 - 1s/epoch - 45ms/step\n",
      "Epoch 44/50\n",
      "24/24 - 1s - loss: 0.0431 - acc: 0.9867 - val_loss: 0.0615 - val_acc: 0.9832 - 1s/epoch - 45ms/step\n",
      "Epoch 45/50\n",
      "24/24 - 1s - loss: 0.0430 - acc: 0.9867 - val_loss: 0.0613 - val_acc: 0.9832 - 1s/epoch - 45ms/step\n",
      "Epoch 46/50\n",
      "24/24 - 1s - loss: 0.0428 - acc: 0.9867 - val_loss: 0.0610 - val_acc: 0.9833 - 1s/epoch - 45ms/step\n",
      "Epoch 47/50\n",
      "24/24 - 1s - loss: 0.0427 - acc: 0.9867 - val_loss: 0.0608 - val_acc: 0.9832 - 1s/epoch - 44ms/step\n",
      "Epoch 48/50\n",
      "24/24 - 1s - loss: 0.0425 - acc: 0.9867 - val_loss: 0.0606 - val_acc: 0.9832 - 1s/epoch - 44ms/step\n",
      "Epoch 49/50\n",
      "24/24 - 1s - loss: 0.0424 - acc: 0.9868 - val_loss: 0.0605 - val_acc: 0.9832 - 1s/epoch - 43ms/step\n",
      "Epoch 50/50\n",
      "24/24 - 1s - loss: 0.0423 - acc: 0.9868 - val_loss: 0.0602 - val_acc: 0.9833 - 1s/epoch - 43ms/step\n"
     ]
    }
   ],
   "source": [
    "history = model.fit(x_train, y_train, epochs=50, batch_size=32, verbose=2, validation_data=(x_test, y_test))"
   ]
  },
  {
   "cell_type": "code",
   "execution_count": 307,
   "metadata": {
    "colab": {
     "base_uri": "https://localhost:8080/",
     "height": 590
    },
    "executionInfo": {
     "elapsed": 20,
     "status": "ok",
     "timestamp": 1640873033052,
     "user": {
      "displayName": "William Jonas",
      "photoUrl": "https://lh3.googleusercontent.com/a/default-user=s64",
      "userId": "07205973325962472450"
     },
     "user_tz": -60
    },
    "id": "cvXgjigYpPb6",
    "outputId": "4c93b907-79bb-4790-a22f-7b31dd6bb115"
   },
   "outputs": [
    {
     "name": "stdout",
     "output_type": "stream",
     "text": [
      "dict_keys(['loss', 'acc', 'val_loss', 'val_acc'])\n"
     ]
    },
    {
     "data": {
      "image/png": "[encoded data removed]",
      "text/plain": [
       "<Figure size 432x288 with 1 Axes>"
      ]
     },
     "metadata": {
      "needs_background": "light"
     },
     "output_type": "display_data"
    },
    {
     "data": {
      "image/png": "[encoded data removed]",
      "text/plain": [
       "<Figure size 432x288 with 1 Axes>"
      ]
     },
     "metadata": {
      "needs_background": "light"
     },
     "output_type": "display_data"
    }
   ],
   "source": [
    "print(history.history.keys())\n",
    "# summarize history for accuracy\n",
    "plt.plot(history.history['acc'])\n",
    "plt.plot(history.history['val_acc'])\n",
    "plt.title('model accuracy')\n",
    "plt.ylabel('accuracy')\n",
    "plt.xlabel('epoch')\n",
    "plt.legend(['train', 'test'], loc='upper left')\n",
    "plt.show()\n",
    "# summarize history for loss\n",
    "plt.plot(history.history['loss'])\n",
    "plt.plot(history.history['val_loss'])\n",
    "plt.title('model loss')\n",
    "plt.ylabel('loss')\n",
    "plt.xlabel('epoch')\n",
    "plt.legend(['train', 'test'], loc='upper left')\n",
    "plt.show()"
   ]
  },
  {
   "cell_type": "markdown",
   "metadata": {
    "id": "T_JBKgEZiYjN"
   },
   "source": [
    "#### Evaluation"
   ]
  },
  {
   "cell_type": "code",
   "execution_count": 222,
   "metadata": {
    "executionInfo": {
     "elapsed": 273,
     "status": "ok",
     "timestamp": 1640867398688,
     "user": {
      "displayName": "William Jonas",
      "photoUrl": "https://lh3.googleusercontent.com/a/default-user=s64",
      "userId": "07205973325962472450"
     },
     "user_tz": -60
    },
    "id": "GovzKo-DiaWQ"
   },
   "outputs": [],
   "source": [
    "def getBatchAccuracy(y_pred, y_true):\n",
    "    '''\n",
    "    Input\n",
    "    -----\n",
    "    Batch labels hot encoded of dimension batch_size x 200 x 3\n",
    "    '''\n",
    "    assert len(y_pred.shape) == len(y_true.shape) == 3 \n",
    "\n",
    "    sum_acc = 0\n",
    "    for i in range(len(y_pred)):\n",
    "        sum_acc += getSampleAccuracy(y_pred[i], y_true[i])  #Attention ici on ne défini pas une prédiction de chunking de phrase uniquement comme correcte ou non, mais possiblement partiellement correcte\n",
    "    return sum_acc / len(y_pred)\n",
    "\n",
    "\n",
    "def getSampleAccuracy(y_sample_pred, y_sample_true):\n",
    "    '''\n",
    "    Input\n",
    "    -----\n",
    "    Sentence/Sample labels hot encoded of dimension 200 x 3\n",
    "    '''\n",
    "    assert len(y_sample_pred.shape) == len(y_sample_true.shape) == 2\n",
    "\n",
    "    pred_labels_integers = np.argmax(y_sample_pred, axis=1)\n",
    "    true_labels_integers = np.argmax(y_sample_true, axis=1)\n",
    "\n",
    "    true_counts = 0\n",
    "    for i in range(len(pred_labels_integers)):\n",
    "        if true_labels_integers[i] == pred_labels_integers[i]:\n",
    "            true_counts +=1\n",
    "    return true_counts/len(pred_labels_integers)"
   ]
  },
  {
   "cell_type": "code",
   "execution_count": 223,
   "metadata": {
    "colab": {
     "base_uri": "https://localhost:8080/"
    },
    "executionInfo": {
     "elapsed": 443,
     "status": "ok",
     "timestamp": 1640867465090,
     "user": {
      "displayName": "William Jonas",
      "photoUrl": "https://lh3.googleusercontent.com/a/default-user=s64",
      "userId": "07205973325962472450"
     },
     "user_tz": -60
    },
    "id": "NzqbMuPxUY7v",
    "outputId": "aa301624-c8be-4dc9-8470-516adc2ac9de"
   },
   "outputs": [
    {
     "name": "stdout",
     "output_type": "stream",
     "text": [
      "0.9824537037037131\n"
     ]
    }
   ],
   "source": [
    "y_pred = model.predict(x_test)\n",
    "\n",
    "acc = getBatchAccuracy(y_pred=y_pred, y_true=y_test)\n",
    "print(acc)"
   ]
  },
  {
   "cell_type": "markdown",
   "metadata": {
    "id": "PPZI5DHqU2hm"
   },
   "source": [
    "#### Final : Construction de phrases 'chunkées' à partir de phrases non-chunkées"
   ]
  },
  {
   "cell_type": "code",
   "execution_count": 299,
   "metadata": {
    "executionInfo": {
     "elapsed": 485,
     "status": "ok",
     "timestamp": 1640872734448,
     "user": {
      "displayName": "William Jonas",
      "photoUrl": "https://lh3.googleusercontent.com/a/default-user=s64",
      "userId": "07205973325962472450"
     },
     "user_tz": -60
    },
    "id": "PewUU3wCU83g"
   },
   "outputs": [],
   "source": [
    "def startChunk(word):\n",
    "    return '[ ' + word\n",
    "\n",
    "def endChunk(word):\n",
    "    return word + ' ]'\n",
    "\n",
    "def chunkLine(line, line_labels_integers, showErrors):\n",
    "\n",
    "    new_line = line.split()\n",
    "    previous_label = -1\n",
    "\n",
    "    i = -1\n",
    "    for word, label in zip(\n",
    "                        line.split(),\n",
    "                        line_labels_integers[:len(line.split())]\n",
    "                        ):  #enumerate ne fonctionne pas jsp pk :(\n",
    "    i +=1\n",
    "    # print(label)\n",
    "    if label == 0:  #\"B\"\n",
    "        new_line[i] = startChunk(word)\n",
    "        if previous_label == 1 or previous_label == 0:\n",
    "            new_line[i-1] = endChunk(new_line[i-1])\n",
    "        previous_label = 0\n",
    "\n",
    "    if label == 2:  #'O'\n",
    "        if previous_label == 0 or previous_label== 1:\n",
    "            new_line[i-1] = endChunk(new_line[i-1])\n",
    "        previous_label = 2\n",
    "\n",
    "    if label == 1 : #'I'\n",
    "        if previous_label == 2: \n",
    "            if showErrors : print(f\"Oups il y a eu une erreur de classification du mot '{word}' dans la phrase \\n {line}\\n\")\n",
    "        if previous_label == -1:  #Problème de prédiction d'un I en début de phrase pour des noms propres ...\n",
    "            if showErrors : print(f\"Erreur début de phrase : '{word}'\\n {line}\\n\")\n",
    "            new_line[i] = startChunk(word)  #TODO : comment faire pour ne pas tricher comme ça ?\n",
    "        previous_label = 1\n",
    "\n",
    "    if i == len(line.split()) - 1:  #Fin de phrase\n",
    "        if label == 0 or label == 1: # 'B' ou 'I'\n",
    "            new_line[i] = endChunk(word)\n",
    "    \n",
    "    separator = ' '\n",
    "    new_line = separator.join(new_line)\n",
    "    return new_line\n",
    "\n",
    "def chunkDataset(lines, showErrors=False):\n",
    "\n",
    "    #Preprocess 'lines' pour prédictions\n",
    "    x= preprocessLines(lines)\n",
    "\n",
    "    y_pred = model.predict(x)\n",
    "    lines_labels_integers = np.argmax(y_pred, axis=2)\n",
    "\n",
    "    chunkedLines = []\n",
    "\n",
    "    for line, line_labels_integers in zip(lines, lines_labels_integers):\n",
    "        chunkedLines.append(chunkLine(line, line_labels_integers, showErrors))\n",
    "\n",
    "    return chunkedLines"
   ]
  },
  {
   "cell_type": "code",
   "execution_count": 308,
   "metadata": {
    "colab": {
     "base_uri": "https://localhost:8080/"
    },
    "executionInfo": {
     "elapsed": 954,
     "status": "ok",
     "timestamp": 1640873061328,
     "user": {
      "displayName": "William Jonas",
      "photoUrl": "https://lh3.googleusercontent.com/a/default-user=s64",
      "userId": "07205973325962472450"
     },
     "user_tz": -60
    },
    "id": "HOIZiVkvcsmg",
    "outputId": "eae53aa8-fe1f-4d53-b6b6-93cc4137c815"
   },
   "outputs": [
    {
     "name": "stdout",
     "output_type": "stream",
     "text": [
      "Line : \t\t\t\t John Demjanjuk , convicted Nazi death camp guard , dies aged 91\n",
      "True chunked line : \t\t [ John Demjanjuk ] [ , ] [ convicted Nazi death camp guard ] [ , ] [ dies ] [ aged 91 ]\n",
      "Predicted chunked line : \t [ John Demjanjuk ] [ , convicted ] [ Nazi death camp ] [ guard ] , dies aged 91\n",
      "Predicted labels : \t\t [0 1 0 1 0 1 1 0 2 2 2 2]\n",
      "\n",
      "Line : \t\t\t\t Saudi Women Allowed To Compete At Olympics\n",
      "True chunked line : \t\t [ Saudi Women ] [ Allowed ] [ To Compete ] [ At Olympics ]\n",
      "Predicted chunked line : \t [ Saudi Women ] Allowed [ To Compete ] [ At Olympics ]\n",
      "Predicted labels : \t\t [0 1 2 0 1 0 1]\n",
      "\n",
      "Line : \t\t\t\t Drone strike kills four suspected militants in Pakistan\n",
      "True chunked line : \t\t [ Drone strike ] [ kills ] [ four suspected militants ] [ in Pakistan ]\n",
      "Predicted chunked line : \t [ Drone strike ] [ kills ] [ four ] [ suspected ] [ militants ] [ in Pakistan ]\n",
      "Predicted labels : \t\t [0 1 0 0 0 0 0 1]\n",
      "\n"
     ]
    }
   ],
   "source": [
    "chunkedLines = chunkDataset(testSamples, showErrors=False)\n",
    "nb = 3\n",
    "\n",
    "#Pour affichage uniquement\n",
    "x= preprocessLines(testSamples)\n",
    "y_pred = model.predict(x)\n",
    "lines_labels_integers = np.argmax(y_pred, axis=2)\n",
    "\n",
    "for line, trueChunkedLine, chunkedLine, lineLabels in zip(testSamples[:nb], testSamplesChunked[:nb], chunkedLines[:nb], lines_labels_integers[:nb]):\n",
    "    print('Line : \\t\\t\\t\\t', line)\n",
    "    print('True chunked line : \\t\\t', trueChunkedLine)\n",
    "    print('Predicted chunked line : \\t', chunkedLine)\n",
    "    print('Predicted labels : \\t\\t', lineLabels[:len(line.split())])\n",
    "    print()"
   ]
  },
  {
   "cell_type": "markdown",
   "metadata": {
    "id": "7IlMpjIA7nm9"
   },
   "source": [
    "# Alignement"
   ]
  },
  {
   "cell_type": "code",
   "execution_count": null,
   "metadata": {
    "id": "IPhvCFbL7o6U"
   },
   "outputs": [],
   "source": []
  }
 ],
 "metadata": {
  "colab": {
   "collapsed_sections": [
    "rfCH2_dLX1Qv",
    "cu7D2dr_iSK9",
    "cxu48kLsiXut",
    "LksnpqE24Kpi",
    "nzND6A7ziOfC",
    "EaNiMAa3ZJA-",
    "RJfx6Nlv2P9Q",
    "H806JWb2h3iH",
    "OW7_k7nbh77G",
    "T_JBKgEZiYjN",
    "7IlMpjIA7nm9"
   ],
   "name": "PROJ-PSTALN Baselines",
   "provenance": []
  },
  "kernelspec": {
   "display_name": "Python 3 (ipykernel)",
   "language": "python",
   "name": "python3"
  },
  "language_info": {
   "codemirror_mode": {
    "name": "ipython",
    "version": 3
   },
   "file_extension": ".py",
   "mimetype": "text/x-python",
   "name": "python",
   "nbconvert_exporter": "python",
   "pygments_lexer": "ipython3",
   "version": "3.8.0"
  }
 },
 "nbformat": 4,
 "nbformat_minor": 1
}