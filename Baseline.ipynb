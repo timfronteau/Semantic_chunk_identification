{
 "cells": [
  {
   "cell_type": "code",
   "execution_count": null,
   "metadata": {
    "colab": {
     "base_uri": "https://localhost:8080/"
    },
    "executionInfo": {
     "elapsed": 24842,
     "status": "ok",
     "timestamp": 1642011404993,
     "user": {
      "displayName": "William Jonas",
      "photoUrl": "https://lh3.googleusercontent.com/a/default-user=s64",
      "userId": "07205973325962472450"
     },
     "user_tz": -60
    },
    "id": "rNum4AAuVvpZ",
    "outputId": "b874a66a-8a3d-4852-b768-0ec1898ae7e7"
   },
   "outputs": [
    {
     "name": "stdout",
     "output_type": "stream",
     "text": [
      "Mounted at drive\n"
     ]
    }
   ],
   "source": [
    "import os\n",
    "import numpy as np\n",
    "import matplotlib.pyplot as plt\n",
    "\n",
    "##### UNCOMMENT #####\n",
    "# from google.colab import drive\n",
    "# drive.mount('drive', force_remount=True)"
   ]
  },
  {
   "cell_type": "markdown",
   "metadata": {
    "id": "LksnpqE24Kpi"
   },
   "source": [
    "# Chargement données"
   ]
  },
  {
   "cell_type": "code",
   "execution_count": null,
   "metadata": {
    "id": "99FDGYXEWDvd"
   },
   "outputs": [],
   "source": [
    "# import re #Regular expressions operation\n",
    "\n",
    "def readFile(filename):\n",
    "    return [line.strip() for line in open(filename)]\n",
    "#.decode(\"utf-8\")\n",
    "\n",
    "def readFileWithChunks(filename):\n",
    "    lines_marked = [line.strip() for line in open(filename)]\n",
    "    # .decode(\"utf-8\")\n",
    "    lines_clean1 = [line.replace('[ ', \"\") for line in lines_marked]\n",
    "    lines_clean2 = [line.replace(' ]', \"\") for line in lines_clean1]\n",
    "    return lines_clean2"
   ]
  },
  {
   "cell_type": "code",
   "execution_count": null,
   "metadata": {
    "id": "ZgTIdJUi4M5L"
   },
   "outputs": [],
   "source": [
    "path_headline1_chunked = '/content/drive/MyDrive/CENTRALE MARSEILLE/3A/PSTALN/Projet PSTALN/Downloaded files/train_2015_10_22.utf-8/STSint.input.headlines.sent1.chunk.txt'\n",
    "path_headline2_chunked = '/content/drive/MyDrive/CENTRALE MARSEILLE/3A/PSTALN/Projet PSTALN/Downloaded files/train_2015_10_22.utf-8/STSint.input.headlines.sent2.chunk.txt'\n",
    "path_headline1 = '/content/drive/MyDrive/CENTRALE MARSEILLE/3A/PSTALN/Projet PSTALN/Downloaded files/train_2015_10_22.utf-8/STSint.input.headlines.sent1.txt'\n",
    "path_headline2 = '/content/drive/MyDrive/CENTRALE MARSEILLE/3A/PSTALN/Projet PSTALN/Downloaded files/train_2015_10_22.utf-8/STSint.input.headlines.sent2.txt'\n",
    "\n",
    "\n",
    "sent1_lines = readFileWithChunks(path_headline1_chunked)\n",
    "sent2_lines = readFileWithChunks(path_headline2_chunked)\n",
    "sent1_lines_chunked = readFile(path_headline1_chunked)\n",
    "sent2_lines_chunked = readFile(path_headline2_chunked)"
   ]
  },
  {
   "cell_type": "markdown",
   "metadata": {
    "id": "gpUs6AEc43fn"
   },
   "source": [
    "Train Test split"
   ]
  },
  {
   "cell_type": "code",
   "execution_count": null,
   "metadata": {
    "colab": {
     "base_uri": "https://localhost:8080/"
    },
    "executionInfo": {
     "elapsed": 11,
     "status": "ok",
     "timestamp": 1642011407292,
     "user": {
      "displayName": "William Jonas",
      "photoUrl": "https://lh3.googleusercontent.com/a/default-user=s64",
      "userId": "07205973325962472450"
     },
     "user_tz": -60
    },
    "id": "_tsh4zcF43HW",
    "outputId": "b0ddb0e7-d8c6-4bef-a966-ebe65a96998c"
   },
   "outputs": [
    {
     "name": "stdout",
     "output_type": "stream",
     "text": [
      "Train size: 756\n",
      "Test size: 756\n"
     ]
    }
   ],
   "source": [
    "trainSamples = sent1_lines\n",
    "trainSamplesChunked = sent1_lines_chunked\n",
    "\n",
    "testSamples = sent2_lines\n",
    "testSamplesChunked = sent2_lines_chunked\n",
    "\n",
    "print('Train size:', len(trainSamples))\n",
    "print('Test size:', len(testSamples))"
   ]
  },
  {
   "cell_type": "markdown",
   "metadata": {
    "id": "nzND6A7ziOfC"
   },
   "source": [
    "# Embeddings\n",
    "\n",
    "Chargement d'Embeddings préentrainés de type GloVe pour obtenir des représentation des mots de notre dataset\n",
    "\n",
    "Inspiré de : https://keras.io/examples/nlp/pretrained_word_embeddings/"
   ]
  },
  {
   "cell_type": "code",
   "execution_count": null,
   "metadata": {
    "id": "TRXOEVkB7nBw"
   },
   "outputs": [],
   "source": [
    "#On suppose que l'embedding est disponible (voire préentrainé si possible) : cf Mouss\n",
    "\n",
    "import numpy as np\n",
    "import tensorflow as tf\n",
    "from tensorflow import keras"
   ]
  },
  {
   "cell_type": "markdown",
   "metadata": {
    "id": "OjM4R4o9UGiR"
   },
   "source": [
    "Creation vocabulaire indexes"
   ]
  },
  {
   "cell_type": "code",
   "execution_count": null,
   "metadata": {
    "id": "3dbf0JDnUIp4"
   },
   "outputs": [],
   "source": [
    "from tensorflow.keras.layers import TextVectorization\n",
    "\n",
    "vectorizer = TextVectorization(max_tokens=20000, output_sequence_length=200)\n",
    "text_ds = tf.data.Dataset.from_tensor_slices(trainSamples).batch(128)\n",
    "vectorizer.adapt(text_ds)"
   ]
  },
  {
   "cell_type": "code",
   "execution_count": null,
   "metadata": {
    "colab": {
     "base_uri": "https://localhost:8080/"
    },
    "executionInfo": {
     "elapsed": 23,
     "status": "ok",
     "timestamp": 1642011410351,
     "user": {
      "displayName": "William Jonas",
      "photoUrl": "https://lh3.googleusercontent.com/a/default-user=s64",
      "userId": "07205973325962472450"
     },
     "user_tz": -60
    },
    "id": "i5qV8cFYU4nK",
    "outputId": "f4b5d42c-4061-49d5-d19f-3c5fdaae5ca1"
   },
   "outputs": [
    {
     "data": {
      "text/plain": [
       "['', '[UNK]', 'in', 'to', 'on']"
      ]
     },
     "execution_count": 7,
     "metadata": {},
     "output_type": "execute_result"
    }
   ],
   "source": [
    "vectorizer.get_vocabulary()[:5]"
   ]
  },
  {
   "cell_type": "code",
   "execution_count": null,
   "metadata": {
    "colab": {
     "base_uri": "https://localhost:8080/"
    },
    "executionInfo": {
     "elapsed": 21,
     "status": "ok",
     "timestamp": 1642011410352,
     "user": {
      "displayName": "William Jonas",
      "photoUrl": "https://lh3.googleusercontent.com/a/default-user=s64",
      "userId": "07205973325962472450"
     },
     "user_tz": -60
    },
    "id": "XJXhykbkU8gD",
    "outputId": "6cf9c81f-7b83-46a3-800f-c7a8585304a7"
   },
   "outputs": [
    {
     "data": {
      "text/plain": [
       "array([17,  1,  1,  4, 17,  1])"
      ]
     },
     "execution_count": 8,
     "metadata": {},
     "output_type": "execute_result"
    }
   ],
   "source": [
    "output = vectorizer([[\"the cat sat on the mat\"]])\n",
    "output.numpy()[0, :6]\n",
    "#Dans cette phrase test : 3 mots ne font pas partie du voc de notre db et sont donc '<UNK>'"
   ]
  },
  {
   "cell_type": "code",
   "execution_count": null,
   "metadata": {
    "id": "UlhgWvL4VOxd"
   },
   "outputs": [],
   "source": [
    "voc = vectorizer.get_vocabulary()\n",
    "word_index = dict(zip(voc, range(len(voc))))"
   ]
  },
  {
   "cell_type": "markdown",
   "metadata": {
    "id": "70KnPXjEQbmR"
   },
   "source": [
    "Download GloVe embeddings"
   ]
  },
  {
   "cell_type": "code",
   "execution_count": null,
   "metadata": {
    "colab": {
     "base_uri": "https://localhost:8080/"
    },
    "executionInfo": {
     "elapsed": 185052,
     "status": "ok",
     "timestamp": 1642011595388,
     "user": {
      "displayName": "William Jonas",
      "photoUrl": "https://lh3.googleusercontent.com/a/default-user=s64",
      "userId": "07205973325962472450"
     },
     "user_tz": -60
    },
    "id": "GXIKaoUDQeHt",
    "outputId": "a65709c5-e784-4a76-d312-e0f4b286a3a0"
   },
   "outputs": [
    {
     "name": "stdout",
     "output_type": "stream",
     "text": [
      "--2022-01-12 18:16:50--  http://nlp.stanford.edu/data/glove.6B.zip\n",
      "Resolving nlp.stanford.edu (nlp.stanford.edu)... 171.64.67.140\n",
      "Connecting to nlp.stanford.edu (nlp.stanford.edu)|171.64.67.140|:80... connected.\n",
      "HTTP request sent, awaiting response... 302 Found\n",
      "Location: https://nlp.stanford.edu/data/glove.6B.zip [following]\n",
      "--2022-01-12 18:16:50--  https://nlp.stanford.edu/data/glove.6B.zip\n",
      "Connecting to nlp.stanford.edu (nlp.stanford.edu)|171.64.67.140|:443... connected.\n",
      "HTTP request sent, awaiting response... 301 Moved Permanently\n",
      "Location: http://downloads.cs.stanford.edu/nlp/data/glove.6B.zip [following]\n",
      "--2022-01-12 18:16:50--  http://downloads.cs.stanford.edu/nlp/data/glove.6B.zip\n",
      "Resolving downloads.cs.stanford.edu (downloads.cs.stanford.edu)... 171.64.64.22\n",
      "Connecting to downloads.cs.stanford.edu (downloads.cs.stanford.edu)|171.64.64.22|:80... connected.\n",
      "HTTP request sent, awaiting response... 200 OK\n",
      "Length: 862182613 (822M) [application/zip]\n",
      "Saving to: ‘glove.6B.zip’\n",
      "\n",
      "glove.6B.zip        100%[===================>] 822.24M  5.17MB/s    in 2m 40s  \n",
      "\n",
      "2022-01-12 18:19:30 (5.15 MB/s) - ‘glove.6B.zip’ saved [862182613/862182613]\n",
      "\n"
     ]
    }
   ],
   "source": [
    "!wget http://nlp.stanford.edu/data/glove.6B.zip\n",
    "!unzip -q glove.6B.zip"
   ]
  },
  {
   "cell_type": "code",
   "execution_count": null,
   "metadata": {
    "colab": {
     "base_uri": "https://localhost:8080/"
    },
    "executionInfo": {
     "elapsed": 10975,
     "status": "ok",
     "timestamp": 1642011606347,
     "user": {
      "displayName": "William Jonas",
      "photoUrl": "https://lh3.googleusercontent.com/a/default-user=s64",
      "userId": "07205973325962472450"
     },
     "user_tz": -60
    },
    "id": "2YBsm3snRISU",
    "outputId": "247f77de-1a0e-4843-cd62-980e34857f0e"
   },
   "outputs": [
    {
     "name": "stdout",
     "output_type": "stream",
     "text": [
      "Found 400000 word vectors.\n"
     ]
    }
   ],
   "source": [
    "path_to_glove_file = '/content/glove.6B.100d.txt'\n",
    "\n",
    "embeddings_index = {}\n",
    "with open(path_to_glove_file) as f:\n",
    "    for line in f:\n",
    "        word, coefs = line.split(maxsplit=1)\n",
    "        coefs = np.fromstring(coefs, \"f\", sep=\" \")\n",
    "        embeddings_index[word] = coefs\n",
    "\n",
    "print(\"Found %s word vectors.\" % len(embeddings_index))"
   ]
  },
  {
   "cell_type": "code",
   "execution_count": null,
   "metadata": {
    "colab": {
     "base_uri": "https://localhost:8080/"
    },
    "executionInfo": {
     "elapsed": 28,
     "status": "ok",
     "timestamp": 1642011606349,
     "user": {
      "displayName": "William Jonas",
      "photoUrl": "https://lh3.googleusercontent.com/a/default-user=s64",
      "userId": "07205973325962472450"
     },
     "user_tz": -60
    },
    "id": "GYHB-aRoRLWM",
    "outputId": "617cc9ff-43a0-4851-d4a7-af28032017e8"
   },
   "outputs": [
    {
     "name": "stdout",
     "output_type": "stream",
     "text": [
      "Converted 2075 words (58 misses)\n"
     ]
    }
   ],
   "source": [
    "num_tokens = len(voc) + 2\n",
    "embedding_dim = 100\n",
    "hits = 0\n",
    "misses = 0\n",
    "\n",
    "# Prepare embedding matrix\n",
    "embedding_matrix = np.zeros((num_tokens, embedding_dim))\n",
    "for word, i in word_index.items():\n",
    "    embedding_vector = embeddings_index.get(word)\n",
    "    if embedding_vector is not None:\n",
    "        # Words not found in embedding index will be all-zeros.\n",
    "        # This includes the representation for \"padding\" and \"OOV\"\n",
    "        embedding_matrix[i] = embedding_vector\n",
    "        hits += 1\n",
    "    else:\n",
    "        misses += 1\n",
    "print(\"Converted %d words (%d misses)\" % (hits, misses))"
   ]
  },
  {
   "cell_type": "markdown",
   "metadata": {
    "id": "EN3_Qiv17k1t"
   },
   "source": [
    "# Chunking"
   ]
  },
  {
   "cell_type": "markdown",
   "metadata": {
    "id": "EaNiMAa3ZJA-"
   },
   "source": [
    "#### Preprocessing\n",
    "\n",
    "> y_train / y_test"
   ]
  },
  {
   "cell_type": "code",
   "execution_count": null,
   "metadata": {
    "id": "UKFuTJsBMoBR"
   },
   "outputs": [],
   "source": [
    "nbClasses = 3 #3 pourBIO"
   ]
  },
  {
   "cell_type": "markdown",
   "metadata": {
    "id": "rEM-Bn35QtQ9"
   },
   "source": [
    "##### Y - BIO Encoding"
   ]
  },
  {
   "cell_type": "code",
   "execution_count": null,
   "metadata": {
    "id": "tJ3WhMTNhxj7"
   },
   "outputs": [],
   "source": [
    "def removeNoise(line):\n",
    "    noiseTokens = ['[', ']', ',', '.', ':', ';', '\"', \"'\", \"''\", \"`\", \"-\",]\n",
    "    for token in noiseTokens:\n",
    "      line = line.replace(token, \"\")\n",
    "    return line\n",
    "\n",
    "\n",
    "def chunkedLine2ListChunks(line):\n",
    "  line = removeNoise(line)\n",
    "  line = line.split('  ')\n",
    "  for chunk in line:\n",
    "    if len(chunk)==0: \n",
    "      while chunk in line:\n",
    "        del line[line.index(chunk)]\n",
    "  return line\n",
    "\n",
    "\n",
    "def isInsideChunk(word, chunk):\n",
    "  \"\"\"\n",
    "  Returns True if word have to be encoded as a O (BIO)\n",
    "  Else False\n",
    "  \"\"\"\n",
    "  return word in chunk\n",
    "\n",
    "# ex = sent1_lines_chunked[0]\n",
    "# l = chunkedLine2ListChunks(ex)\n",
    "# print(\"Nazi\" in l[0])\n",
    "# print(isInsideChunk(\"Nazi\", l[0]))\n",
    "\n",
    "\n",
    "def isFirstChunkWord(word, chunk):\n",
    "  \"\"\"\n",
    "  On suppose que le mot est présent dans le chunk\n",
    "\n",
    "  Returns True if word have to be encoded as a B (BIO)\n",
    "  Else False if word have to be encoded as a I (BIO)\n",
    "  \"\"\"\n",
    "  chunk = chunk.split()\n",
    "  return chunk[0] == word\n",
    "\n",
    "# isFirstChunkWord(\"Nazi\", l[0])\n",
    "\n",
    "def wordBIOencoding(word, chunk):\n",
    "  if isInsideChunk(word, chunk):\n",
    "    if isFirstChunkWord(word, chunk): return 'B'\n",
    "    else : return 'I'\n",
    "  else : return 'O'\n",
    "\n",
    "def sentenceBIOencoding(line, chunkedLine):\n",
    "  '''\n",
    "  La pertinence du 'O' n'est pas évidente ici étant donné que tous les mots de line semblent faire partie d'un chunk de chunkedLine\n",
    "  '''\n",
    "\n",
    "  words = line.split()\n",
    "  chunks = chunkedLine2ListChunks(chunkedLine)\n",
    "  BIOcodes = []\n",
    "\n",
    "  currentChunk = 0\n",
    "\n",
    "  for word in words:\n",
    "    code = wordBIOencoding(word, chunks[currentChunk])\n",
    "\n",
    "    if code == 'O':\n",
    "      if currentChunk+1<len(chunks):\n",
    "        currentChunk+=1 #Attention on explore le chunk suivant (si jamais c'est le début d'un autre chunk)\n",
    "        test_code = wordBIOencoding(word, chunks[currentChunk])\n",
    "        if test_code == 'B':\n",
    "          code = test_code\n",
    "\n",
    "    BIOcodes.append(code)\n",
    "  return BIOcodes\n",
    "\n",
    "\n",
    "# for idx in range(3):\n",
    "#   ex = sent1_lines_chunked[idx]\n",
    "#   print(ex)\n",
    "#   l = chunkedLine2ListChunks(ex)\n",
    "#   print(l)\n",
    "#   print()\n",
    "\n",
    "\n",
    "# nbSamples = 3 #len(sent1_lines)\n",
    "# for line, chunkedLine in zip(sent1_lines[:nbSamples], sent1_lines_chunked[:nbSamples]):\n",
    "#   BIOcodes = sentenceBIOencoding(line, chunkedLine)\n",
    "#   print(line.split())\n",
    "#   print(BIOcodes)\n",
    "#   print(chunkedLine)\n",
    "#   print()"
   ]
  },
  {
   "cell_type": "code",
   "execution_count": null,
   "metadata": {
    "colab": {
     "base_uri": "https://localhost:8080/"
    },
    "executionInfo": {
     "elapsed": 39,
     "status": "ok",
     "timestamp": 1642011606370,
     "user": {
      "displayName": "William Jonas",
      "photoUrl": "https://lh3.googleusercontent.com/a/default-user=s64",
      "userId": "07205973325962472450"
     },
     "user_tz": -60
    },
    "id": "d11QAAaTSzlh",
    "outputId": "487b28f0-d491-4b7d-8542-82dc91e2c1d9"
   },
   "outputs": [
    {
     "name": "stdout",
     "output_type": "stream",
     "text": [
      "756 756\n",
      "[ Former Nazi death camp guard Demjanjuk ] [ dead ] [ at 91 ]\n",
      "['B', 'I', 'I', 'I', 'I', 'I', 'B', 'B', 'I']\n"
     ]
    }
   ],
   "source": [
    "BIO_y_train = []  #Contains BIO codes\n",
    "BIO_y_test = []\n",
    "\n",
    "nbSamples = len(trainSamples)\n",
    "for line, chunkedLine in zip(trainSamples[:nbSamples], trainSamplesChunked[:nbSamples]):\n",
    "    BIOcodes = sentenceBIOencoding(line, chunkedLine)\n",
    "    BIO_y_train.append(BIOcodes)\n",
    "\n",
    "nbSamples = len(testSamples)\n",
    "for line, chunkedLine in zip(testSamples[:nbSamples], testSamplesChunked[:nbSamples]):\n",
    "    BIOcodes = sentenceBIOencoding(line, chunkedLine)\n",
    "    BIO_y_test.append(BIOcodes)\n",
    "\n",
    "print(len(trainSamples), len(BIO_y_train))\n",
    "print(trainSamplesChunked[0])\n",
    "print(BIO_y_train[0])"
   ]
  },
  {
   "cell_type": "markdown",
   "metadata": {
    "id": "Q6rKpdbdSq8p"
   },
   "source": [
    "##### Y - Conversion caractères BIO en entiers"
   ]
  },
  {
   "cell_type": "code",
   "execution_count": null,
   "metadata": {
    "colab": {
     "base_uri": "https://localhost:8080/"
    },
    "executionInfo": {
     "elapsed": 38,
     "status": "ok",
     "timestamp": 1642011606371,
     "user": {
      "displayName": "William Jonas",
      "photoUrl": "https://lh3.googleusercontent.com/a/default-user=s64",
      "userId": "07205973325962472450"
     },
     "user_tz": -60
    },
    "id": "S6PlUUGVS3Nr",
    "outputId": "12e85c3f-b61d-4daa-8ac1-390e09b72621"
   },
   "outputs": [
    {
     "name": "stdout",
     "output_type": "stream",
     "text": [
      "[0 1 2]\n"
     ]
    }
   ],
   "source": [
    "from sklearn.preprocessing import LabelEncoder\n",
    "\n",
    "labelEncoder = LabelEncoder()\n",
    "labelEncoder.fit(['B', 'I', 'O'])\n",
    "print(labelEncoder.transform(['B', 'I', 'O']))"
   ]
  },
  {
   "cell_type": "code",
   "execution_count": null,
   "metadata": {
    "colab": {
     "base_uri": "https://localhost:8080/"
    },
    "executionInfo": {
     "elapsed": 396,
     "status": "ok",
     "timestamp": 1642011606734,
     "user": {
      "displayName": "William Jonas",
      "photoUrl": "https://lh3.googleusercontent.com/a/default-user=s64",
      "userId": "07205973325962472450"
     },
     "user_tz": -60
    },
    "id": "sFSa_hKN1ISv",
    "outputId": "fc2eb2c9-f660-4d20-98d8-6c7b26fc7117"
   },
   "outputs": [
    {
     "name": "stdout",
     "output_type": "stream",
     "text": [
      "[ Former Nazi death camp guard Demjanjuk ] [ dead ] [ at 91 ]\n",
      "['B', 'I', 'I', 'I', 'I', 'I', 'B', 'B', 'I']\n",
      "[0 1 1 1 1 1 0 0 1]\n"
     ]
    }
   ],
   "source": [
    "BIO_int_y_train = []\n",
    "BIO_int_y_test = []\n",
    "\n",
    "for line in BIO_y_train:\n",
    "  BIO_int_y_train.append(labelEncoder.transform(np.array(line)))\n",
    "\n",
    "for line in BIO_y_test:\n",
    "  BIO_int_y_test.append(labelEncoder.transform(np.array(line)))\n",
    "\n",
    "print(trainSamplesChunked[0])\n",
    "print(BIO_y_train[0])\n",
    "print(BIO_int_y_train[0])"
   ]
  },
  {
   "cell_type": "markdown",
   "metadata": {
    "id": "2c872Ewr2a7d"
   },
   "source": [
    "##### Y - Conservion One Hot "
   ]
  },
  {
   "cell_type": "code",
   "execution_count": null,
   "metadata": {
    "colab": {
     "base_uri": "https://localhost:8080/"
    },
    "executionInfo": {
     "elapsed": 16,
     "status": "ok",
     "timestamp": 1642011606735,
     "user": {
      "displayName": "William Jonas",
      "photoUrl": "https://lh3.googleusercontent.com/a/default-user=s64",
      "userId": "07205973325962472450"
     },
     "user_tz": -60
    },
    "id": "xvFeLmWg0W03",
    "outputId": "c5e6f977-7f3f-42eb-b14e-e46530f5e3bb"
   },
   "outputs": [
    {
     "name": "stdout",
     "output_type": "stream",
     "text": [
      "[ Former Nazi death camp guard Demjanjuk ] [ dead ] [ at 91 ]\n",
      "['B', 'I', 'I', 'I', 'I', 'I', 'B', 'B', 'I']\n",
      "[0 1 1 1 1 1 0 0 1]\n",
      "[[1. 0. 0.]\n",
      " [0. 1. 0.]\n",
      " [0. 1. 0.]\n",
      " [0. 1. 0.]\n",
      " [0. 1. 0.]\n",
      " [0. 1. 0.]\n",
      " [1. 0. 0.]\n",
      " [1. 0. 0.]\n",
      " [0. 1. 0.]]\n"
     ]
    }
   ],
   "source": [
    "from keras.utils import np_utils\n",
    "\n",
    "y_train = []  #One hot encoded\n",
    "y_test = []\n",
    "\n",
    "for line in BIO_int_y_train:\n",
    "  y_train.append(np_utils.to_categorical(line, num_classes=nbClasses))\n",
    "\n",
    "for line in BIO_int_y_test:\n",
    "  y_test.append(np_utils.to_categorical(line, num_classes=nbClasses))\n",
    "\n",
    "print(trainSamplesChunked[0])\n",
    "print(BIO_y_train[0])\n",
    "print(BIO_int_y_train[0])\n",
    "print(y_train[0])"
   ]
  },
  {
   "cell_type": "markdown",
   "metadata": {
    "id": "AWijycYa_TDK"
   },
   "source": [
    "##### X - Conversion format input"
   ]
  },
  {
   "cell_type": "code",
   "execution_count": null,
   "metadata": {
    "colab": {
     "base_uri": "https://localhost:8080/"
    },
    "executionInfo": {
     "elapsed": 15,
     "status": "ok",
     "timestamp": 1642011606736,
     "user": {
      "displayName": "William Jonas",
      "photoUrl": "https://lh3.googleusercontent.com/a/default-user=s64",
      "userId": "07205973325962472450"
     },
     "user_tz": -60
    },
    "id": "NNs7C1OF_Yg7",
    "outputId": "53425ebf-2b71-4178-bc4e-aec396cbb8f7"
   },
   "outputs": [
    {
     "name": "stdout",
     "output_type": "stream",
     "text": [
      "(756, 200)\n",
      "(756, 200)\n"
     ]
    }
   ],
   "source": [
    "def preprocessLines(lines):\n",
    "  return np.array(vectorizer(np.array([[s] for s in lines])))\n",
    "\n",
    "x_train = preprocessLines(trainSamples)\n",
    "x_test = preprocessLines(testSamples)\n",
    "\n",
    "print(x_train.shape)\n",
    "print(x_test.shape)"
   ]
  },
  {
   "cell_type": "markdown",
   "metadata": {
    "id": "MCoRbhpbbL6l"
   },
   "source": [
    "##### Y - Conversion format input\n",
    "\n",
    "> On complète le nombre de prédictions attendues pour en avoir le même nombre que de môts dans un sample de X (paddings INCLUS)"
   ]
  },
  {
   "cell_type": "code",
   "execution_count": null,
   "metadata": {
    "colab": {
     "base_uri": "https://localhost:8080/"
    },
    "executionInfo": {
     "elapsed": 13,
     "status": "ok",
     "timestamp": 1642011606737,
     "user": {
      "displayName": "William Jonas",
      "photoUrl": "https://lh3.googleusercontent.com/a/default-user=s64",
      "userId": "07205973325962472450"
     },
     "user_tz": -60
    },
    "id": "QC3FCv8z_erE",
    "outputId": "7d0fd450-49c6-4c22-9903-89cc4855d1f1"
   },
   "outputs": [
    {
     "name": "stdout",
     "output_type": "stream",
     "text": [
      "(200, 3)\n"
     ]
    }
   ],
   "source": [
    "predictionForPaddingWord = [0, 0, 2]  # = 'O'\n",
    "lenSentence = x_train.shape[1]\n",
    "\n",
    "def completeLineLabels(lineLabels, lenSentence):\n",
    "  '''\n",
    "  Add 'O' labels for Padding words\n",
    "  '''\n",
    "  nbWordsInSample = len(lineLabels)\n",
    "  nbPaddingLabelsToAdd = lenSentence-nbWordsInSample\n",
    "\n",
    "  paddingLabels = np.array([predictionForPaddingWord for i in range(nbPaddingLabelsToAdd)])\n",
    "  lineLabels = np.concatenate((lineLabels,paddingLabels))\n",
    "\n",
    "  return lineLabels\n",
    "\n",
    "#Test\n",
    "y = np.array(completeLineLabels(y_train[0], 200))\n",
    "print(y.shape)"
   ]
  },
  {
   "cell_type": "code",
   "execution_count": null,
   "metadata": {
    "colab": {
     "base_uri": "https://localhost:8080/"
    },
    "executionInfo": {
     "elapsed": 290,
     "status": "ok",
     "timestamp": 1642011607017,
     "user": {
      "displayName": "William Jonas",
      "photoUrl": "https://lh3.googleusercontent.com/a/default-user=s64",
      "userId": "07205973325962472450"
     },
     "user_tz": -60
    },
    "id": "SvkhLr2KBmrw",
    "outputId": "7b36d85c-99de-42b9-9fb0-f938ac469bc0"
   },
   "outputs": [
    {
     "name": "stdout",
     "output_type": "stream",
     "text": [
      "(756, 200, 3)\n",
      "Sample size (200, 3)\n"
     ]
    }
   ],
   "source": [
    "y_train = np.array([np.array(completeLineLabels(line_labels, lenSentence)) for line_labels in y_train])\n",
    "y_test = np.array([np.array(completeLineLabels(line_labels, lenSentence)) for line_labels in y_test])\n",
    "\n",
    "print(y_train.shape)\n",
    "print(\"Sample size\", y_train[0].shape)"
   ]
  },
  {
   "cell_type": "markdown",
   "metadata": {
    "id": "zppkWKJ4iTHH"
   },
   "source": [
    "#### Modèle tagging : Simple RNN"
   ]
  },
  {
   "cell_type": "code",
   "execution_count": null,
   "metadata": {
    "colab": {
     "base_uri": "https://localhost:8080/"
    },
    "executionInfo": {
     "elapsed": 309,
     "status": "ok",
     "timestamp": 1642011607312,
     "user": {
      "displayName": "William Jonas",
      "photoUrl": "https://lh3.googleusercontent.com/a/default-user=s64",
      "userId": "07205973325962472450"
     },
     "user_tz": -60
    },
    "id": "bwleqItMiaC2",
    "outputId": "eb5ba2e8-4fb5-45a6-e987-aacc723a4385"
   },
   "outputs": [
    {
     "name": "stdout",
     "output_type": "stream",
     "text": [
      "Model: \"sequential\"\n",
      "_________________________________________________________________\n",
      " Layer (type)                Output Shape              Param #   \n",
      "=================================================================\n",
      " embedding (Embedding)       (None, None, 100)         213500    \n",
      "                                                                 \n",
      " simple_rnn (SimpleRNN)      (None, None, 3)           312       \n",
      "                                                                 \n",
      "=================================================================\n",
      "Total params: 213,812\n",
      "Trainable params: 312\n",
      "Non-trainable params: 213,500\n",
      "_________________________________________________________________\n"
     ]
    }
   ],
   "source": [
    "from keras.models import Sequential\n",
    "from keras.layers import Dense, SimpleRNN, Embedding, Input\n",
    "\n",
    "# SimpleRNN model\n",
    "model = Sequential()\n",
    "model.add(Input(shape=(None,), dtype=\"int64\"))\n",
    "model.add(Embedding(\n",
    "    input_dim=num_tokens, #Size of the vocabulary\n",
    "    output_dim=embedding_dim,\n",
    "    embeddings_initializer=keras.initializers.Constant(embedding_matrix),\n",
    "    trainable=False #Don't want to update embeddings\n",
    "                    ))\n",
    "model.add(SimpleRNN(units=nbClasses, #dim hidden state returned\n",
    "                    activation=\"softmax\", \n",
    "                    return_sequences=True\n",
    "                    )) #return_sequences=False pour obtenir uniquement la derniere couche RNN\n",
    "\n",
    "model.compile(loss=\"categorical_crossentropy\", optimizer=\"rmsprop\", metrics=[\"acc\"])\n",
    "\n",
    "model.summary()"
   ]
  },
  {
   "cell_type": "markdown",
   "metadata": {
    "id": "W46wguvq0JpX"
   },
   "source": [
    "Entrainement"
   ]
  },
  {
   "cell_type": "code",
   "execution_count": null,
   "metadata": {
    "colab": {
     "base_uri": "https://localhost:8080/"
    },
    "executionInfo": {
     "elapsed": 82950,
     "status": "ok",
     "timestamp": 1642011690244,
     "user": {
      "displayName": "William Jonas",
      "photoUrl": "https://lh3.googleusercontent.com/a/default-user=s64",
      "userId": "07205973325962472450"
     },
     "user_tz": -60
    },
    "id": "HHcTOcLmW5CD",
    "outputId": "0a25b0ca-8ebe-4c2c-e586-6c51e3691492"
   },
   "outputs": [
    {
     "name": "stdout",
     "output_type": "stream",
     "text": [
      "Epoch 1/50\n",
      "24/24 - 3s - loss: 2.0783 - acc: 0.0136 - val_loss: 2.0102 - val_acc: 0.0170 - 3s/epoch - 110ms/step\n",
      "Epoch 2/50\n",
      "24/24 - 1s - loss: 1.9605 - acc: 0.0203 - val_loss: 1.9057 - val_acc: 0.0245 - 1s/epoch - 48ms/step\n",
      "Epoch 3/50\n",
      "24/24 - 1s - loss: 1.8592 - acc: 0.6969 - val_loss: 1.8079 - val_acc: 0.9801 - 1s/epoch - 49ms/step\n",
      "Epoch 4/50\n",
      "24/24 - 1s - loss: 1.7632 - acc: 0.9818 - val_loss: 1.7143 - val_acc: 0.9813 - 1s/epoch - 48ms/step\n",
      "Epoch 5/50\n",
      "24/24 - 1s - loss: 1.6710 - acc: 0.9831 - val_loss: 1.6243 - val_acc: 0.9819 - 1s/epoch - 48ms/step\n",
      "Epoch 6/50\n",
      "24/24 - 1s - loss: 1.5823 - acc: 0.9840 - val_loss: 1.5377 - val_acc: 0.9827 - 1s/epoch - 48ms/step\n",
      "Epoch 7/50\n",
      "24/24 - 1s - loss: 1.4968 - acc: 0.9848 - val_loss: 1.4542 - val_acc: 0.9831 - 1s/epoch - 48ms/step\n",
      "Epoch 8/50\n",
      "24/24 - 1s - loss: 1.4145 - acc: 0.9853 - val_loss: 1.3739 - val_acc: 0.9833 - 1s/epoch - 49ms/step\n",
      "Epoch 9/50\n",
      "24/24 - 1s - loss: 1.3354 - acc: 0.9855 - val_loss: 1.2967 - val_acc: 0.9834 - 1s/epoch - 48ms/step\n",
      "Epoch 10/50\n",
      "24/24 - 1s - loss: 1.2594 - acc: 0.9857 - val_loss: 1.2226 - val_acc: 0.9834 - 1s/epoch - 49ms/step\n",
      "Epoch 11/50\n",
      "24/24 - 1s - loss: 1.1864 - acc: 0.9859 - val_loss: 1.1515 - val_acc: 0.9834 - 1s/epoch - 47ms/step\n",
      "Epoch 12/50\n",
      "24/24 - 1s - loss: 1.1165 - acc: 0.9861 - val_loss: 1.0834 - val_acc: 0.9832 - 1s/epoch - 47ms/step\n",
      "Epoch 13/50\n",
      "24/24 - 1s - loss: 1.0496 - acc: 0.9862 - val_loss: 1.0184 - val_acc: 0.9832 - 1s/epoch - 47ms/step\n",
      "Epoch 14/50\n",
      "24/24 - 1s - loss: 0.9856 - acc: 0.9863 - val_loss: 0.9562 - val_acc: 0.9834 - 1s/epoch - 47ms/step\n",
      "Epoch 15/50\n",
      "24/24 - 1s - loss: 0.9246 - acc: 0.9865 - val_loss: 0.8970 - val_acc: 0.9834 - 1s/epoch - 48ms/step\n",
      "Epoch 16/50\n",
      "24/24 - 1s - loss: 0.8664 - acc: 0.9865 - val_loss: 0.8406 - val_acc: 0.9834 - 1s/epoch - 47ms/step\n",
      "Epoch 17/50\n",
      "24/24 - 1s - loss: 0.8111 - acc: 0.9866 - val_loss: 0.7870 - val_acc: 0.9835 - 1s/epoch - 48ms/step\n",
      "Epoch 18/50\n",
      "24/24 - 1s - loss: 0.7586 - acc: 0.9865 - val_loss: 0.7362 - val_acc: 0.9836 - 1s/epoch - 48ms/step\n",
      "Epoch 19/50\n",
      "24/24 - 1s - loss: 0.7088 - acc: 0.9865 - val_loss: 0.6881 - val_acc: 0.9836 - 1s/epoch - 47ms/step\n",
      "Epoch 20/50\n",
      "24/24 - 1s - loss: 0.6617 - acc: 0.9866 - val_loss: 0.6427 - val_acc: 0.9836 - 1s/epoch - 48ms/step\n",
      "Epoch 21/50\n",
      "24/24 - 1s - loss: 0.6173 - acc: 0.9865 - val_loss: 0.5999 - val_acc: 0.9836 - 1s/epoch - 47ms/step\n",
      "Epoch 22/50\n",
      "24/24 - 1s - loss: 0.5754 - acc: 0.9865 - val_loss: 0.5595 - val_acc: 0.9835 - 1s/epoch - 48ms/step\n",
      "Epoch 23/50\n",
      "24/24 - 1s - loss: 0.5359 - acc: 0.9865 - val_loss: 0.5217 - val_acc: 0.9836 - 1s/epoch - 48ms/step\n",
      "Epoch 24/50\n",
      "24/24 - 1s - loss: 0.4989 - acc: 0.9864 - val_loss: 0.4861 - val_acc: 0.9834 - 1s/epoch - 47ms/step\n",
      "Epoch 25/50\n",
      "24/24 - 1s - loss: 0.4641 - acc: 0.9864 - val_loss: 0.4529 - val_acc: 0.9834 - 1s/epoch - 48ms/step\n",
      "Epoch 26/50\n",
      "24/24 - 1s - loss: 0.4316 - acc: 0.9863 - val_loss: 0.4218 - val_acc: 0.9833 - 1s/epoch - 47ms/step\n",
      "Epoch 27/50\n",
      "24/24 - 1s - loss: 0.4013 - acc: 0.9863 - val_loss: 0.3928 - val_acc: 0.9833 - 1s/epoch - 49ms/step\n",
      "Epoch 28/50\n",
      "24/24 - 1s - loss: 0.3729 - acc: 0.9862 - val_loss: 0.3658 - val_acc: 0.9833 - 1s/epoch - 48ms/step\n",
      "Epoch 29/50\n",
      "24/24 - 1s - loss: 0.3466 - acc: 0.9862 - val_loss: 0.3407 - val_acc: 0.9832 - 1s/epoch - 48ms/step\n",
      "Epoch 30/50\n",
      "24/24 - 1s - loss: 0.3221 - acc: 0.9860 - val_loss: 0.3175 - val_acc: 0.9831 - 1s/epoch - 48ms/step\n",
      "Epoch 31/50\n",
      "24/24 - 1s - loss: 0.2993 - acc: 0.9861 - val_loss: 0.2959 - val_acc: 0.9831 - 1s/epoch - 47ms/step\n",
      "Epoch 32/50\n",
      "24/24 - 1s - loss: 0.2782 - acc: 0.9860 - val_loss: 0.2760 - val_acc: 0.9830 - 1s/epoch - 47ms/step\n",
      "Epoch 33/50\n",
      "24/24 - 1s - loss: 0.2587 - acc: 0.9860 - val_loss: 0.2576 - val_acc: 0.9830 - 1s/epoch - 48ms/step\n",
      "Epoch 34/50\n",
      "24/24 - 1s - loss: 0.2407 - acc: 0.9859 - val_loss: 0.2406 - val_acc: 0.9831 - 1s/epoch - 47ms/step\n",
      "Epoch 35/50\n",
      "24/24 - 1s - loss: 0.2241 - acc: 0.9860 - val_loss: 0.2249 - val_acc: 0.9829 - 1s/epoch - 48ms/step\n",
      "Epoch 36/50\n",
      "24/24 - 1s - loss: 0.2087 - acc: 0.9858 - val_loss: 0.2106 - val_acc: 0.9830 - 1s/epoch - 48ms/step\n",
      "Epoch 37/50\n",
      "24/24 - 1s - loss: 0.1946 - acc: 0.9859 - val_loss: 0.1973 - val_acc: 0.9829 - 1s/epoch - 48ms/step\n",
      "Epoch 38/50\n",
      "24/24 - 1s - loss: 0.1816 - acc: 0.9858 - val_loss: 0.1852 - val_acc: 0.9828 - 1s/epoch - 47ms/step\n",
      "Epoch 39/50\n",
      "24/24 - 1s - loss: 0.1697 - acc: 0.9857 - val_loss: 0.1741 - val_acc: 0.9828 - 1s/epoch - 47ms/step\n",
      "Epoch 40/50\n",
      "24/24 - 1s - loss: 0.1587 - acc: 0.9858 - val_loss: 0.1639 - val_acc: 0.9828 - 1s/epoch - 48ms/step\n",
      "Epoch 41/50\n",
      "24/24 - 1s - loss: 0.1486 - acc: 0.9857 - val_loss: 0.1546 - val_acc: 0.9828 - 1s/epoch - 48ms/step\n",
      "Epoch 42/50\n",
      "24/24 - 1s - loss: 0.1394 - acc: 0.9857 - val_loss: 0.1460 - val_acc: 0.9829 - 1s/epoch - 48ms/step\n",
      "Epoch 43/50\n",
      "24/24 - 1s - loss: 0.1309 - acc: 0.9858 - val_loss: 0.1382 - val_acc: 0.9830 - 1s/epoch - 48ms/step\n",
      "Epoch 44/50\n",
      "24/24 - 1s - loss: 0.1231 - acc: 0.9858 - val_loss: 0.1311 - val_acc: 0.9829 - 1s/epoch - 48ms/step\n",
      "Epoch 45/50\n",
      "24/24 - 1s - loss: 0.1160 - acc: 0.9858 - val_loss: 0.1245 - val_acc: 0.9830 - 1s/epoch - 48ms/step\n",
      "Epoch 46/50\n",
      "24/24 - 1s - loss: 0.1095 - acc: 0.9859 - val_loss: 0.1185 - val_acc: 0.9830 - 1s/epoch - 47ms/step\n",
      "Epoch 47/50\n",
      "24/24 - 1s - loss: 0.1035 - acc: 0.9859 - val_loss: 0.1130 - val_acc: 0.9829 - 1s/epoch - 47ms/step\n",
      "Epoch 48/50\n",
      "24/24 - 1s - loss: 0.0980 - acc: 0.9860 - val_loss: 0.1080 - val_acc: 0.9831 - 1s/epoch - 47ms/step\n",
      "Epoch 49/50\n",
      "24/24 - 1s - loss: 0.0930 - acc: 0.9860 - val_loss: 0.1033 - val_acc: 0.9832 - 1s/epoch - 48ms/step\n",
      "Epoch 50/50\n",
      "24/24 - 1s - loss: 0.0883 - acc: 0.9861 - val_loss: 0.0991 - val_acc: 0.9832 - 1s/epoch - 48ms/step\n"
     ]
    }
   ],
   "source": [
    "callback = tf.keras.callbacks.EarlyStopping(monitor='loss', patience=3)\n",
    "\n",
    "history = model.fit(x_train, y_train, epochs=50, batch_size=32, verbose=2, validation_data=(x_test, y_test), callbacks=[callback])"
   ]
  },
  {
   "cell_type": "code",
   "execution_count": null,
   "metadata": {
    "colab": {
     "base_uri": "https://localhost:8080/",
     "height": 590
    },
    "executionInfo": {
     "elapsed": 643,
     "status": "ok",
     "timestamp": 1642011690864,
     "user": {
      "displayName": "William Jonas",
      "photoUrl": "https://lh3.googleusercontent.com/a/default-user=s64",
      "userId": "07205973325962472450"
     },
     "user_tz": -60
    },
    "id": "cvXgjigYpPb6",
    "outputId": "95a6ad34-7cb8-45e8-9abb-750aee4af81a"
   },
   "outputs": [
    {
     "name": "stdout",
     "output_type": "stream",
     "text": [
      "dict_keys(['loss', 'acc', 'val_loss', 'val_acc'])\n"
     ]
    },
    {
     "data": {
      "image/png": "[encoded data removed]",
      "text/plain": [
       "<Figure size 432x288 with 1 Axes>"
      ]
     },
     "metadata": {
      "needs_background": "light"
     },
     "output_type": "display_data"
    },
    {
     "data": {
      "image/png": "[encoded data removed]",
      "text/plain": [
       "<Figure size 432x288 with 1 Axes>"
      ]
     },
     "metadata": {
      "needs_background": "light"
     },
     "output_type": "display_data"
    }
   ],
   "source": [
    "print(history.history.keys())\n",
    "# summarize history for accuracy\n",
    "plt.plot(history.history['acc'])\n",
    "plt.plot(history.history['val_acc'])\n",
    "plt.title('model accuracy')\n",
    "plt.ylabel('accuracy')\n",
    "plt.xlabel('epoch')\n",
    "plt.legend(['train', 'test'], loc='upper left')\n",
    "plt.show()\n",
    "# summarize history for loss\n",
    "plt.plot(history.history['loss'])\n",
    "plt.plot(history.history['val_loss'])\n",
    "plt.title('model loss')\n",
    "plt.ylabel('loss')\n",
    "plt.xlabel('epoch')\n",
    "plt.legend(['train', 'test'], loc='upper left')\n",
    "plt.show()"
   ]
  },
  {
   "cell_type": "markdown",
   "metadata": {
    "id": "G8f-3YibuCw2"
   },
   "source": [
    "**Remarque:** Il nous faudrait probablement moins entrainer le modèle afin qu'il se préoccupe moins de la prédiction des paddings en fin de phrase.\n",
    "\n",
    "La moindre prise en compte des paddings en fin de phrase par le modèle est un des problèmes à résoudre ici si l'on souhaite améliorer les performances de ce modèle baseline."
   ]
  },
  {
   "cell_type": "markdown",
   "metadata": {
    "id": "PPZI5DHqU2hm"
   },
   "source": [
    "#### 📌 Construction de phrases 'chunkées' à partir de phrases non-chunkées"
   ]
  },
  {
   "cell_type": "code",
   "execution_count": null,
   "metadata": {
    "id": "PewUU3wCU83g"
   },
   "outputs": [],
   "source": [
    "def startChunk(word):\n",
    "  return '[ ' + word\n",
    "\n",
    "def endChunk(word):\n",
    "  return word + ' ]'\n",
    "\n",
    "def chunkLine(line, line_labels_integers, showErrors):\n",
    "\n",
    "  new_line = line.split()\n",
    "  previous_label = -1\n",
    "\n",
    "  i = -1\n",
    "  for word, label in zip(\n",
    "                        line.split(),\n",
    "                        line_labels_integers[:len(line.split())]\n",
    "                        ):\n",
    "    i +=1\n",
    "    if label == 0:  #\"B\"\n",
    "      new_line[i] = startChunk(word)\n",
    "      if previous_label == 1 or previous_label == 0:\n",
    "        new_line[i-1] = endChunk(new_line[i-1])\n",
    "      previous_label = 0\n",
    "\n",
    "    if label == 2:  #'O'\n",
    "      if previous_label == 0 or previous_label== 1:\n",
    "        new_line[i-1] = endChunk(new_line[i-1])\n",
    "      previous_label = 2\n",
    "\n",
    "    if label == 1 : #'I'\n",
    "      if previous_label == 2: \n",
    "        if showErrors : print(f\"Oups il y a eu une erreur de classification du mot '{word}' dans la phrase \\n {line}\\n\")\n",
    "      if previous_label == -1:  #Problème de prédiction d'un I en début de phrase pour des noms propres ...\n",
    "        if showErrors : print(f\"Erreur début de phrase : '{word}'\\n {line}\\n\")\n",
    "        new_line[i] = startChunk(word) \n",
    "      previous_label = 1\n",
    "\n",
    "    if i == len(line.split()) - 1:  #Fin de phrase\n",
    "      if label == 0 or label == 1: # 'B' ou 'I'\n",
    "        new_line[i] = endChunk(word)\n",
    "    \n",
    "  separator = ' '\n",
    "  new_line = separator.join(new_line)\n",
    "  return new_line\n",
    "\n",
    "def chunkDataset(lines, showErrors=False):\n",
    "\n",
    "  #Preprocess 'lines' pour prédictions\n",
    "  x= preprocessLines(lines)\n",
    "\n",
    "  y_pred = model.predict(x)\n",
    "  lines_labels_integers = np.argmax(y_pred, axis=2)\n",
    "\n",
    "  chunkedLines = []\n",
    "\n",
    "  for line, line_labels_integers in zip(lines, lines_labels_integers):\n",
    "    chunkedLines.append(chunkLine(line, line_labels_integers, showErrors))\n",
    "\n",
    "  return chunkedLines"
   ]
  },
  {
   "cell_type": "code",
   "execution_count": null,
   "metadata": {
    "colab": {
     "base_uri": "https://localhost:8080/"
    },
    "executionInfo": {
     "elapsed": 988,
     "status": "ok",
     "timestamp": 1642011692651,
     "user": {
      "displayName": "William Jonas",
      "photoUrl": "https://lh3.googleusercontent.com/a/default-user=s64",
      "userId": "07205973325962472450"
     },
     "user_tz": -60
    },
    "id": "HOIZiVkvcsmg",
    "outputId": "2f11db26-a81f-4640-ca7d-ca8008242d96"
   },
   "outputs": [
    {
     "name": "stdout",
     "output_type": "stream",
     "text": [
      "Line : \t\t\t\t John Demjanjuk , convicted Nazi death camp guard , dies aged 91\n",
      "True chunked line : \t\t [ John Demjanjuk ] [ , ] [ convicted Nazi death camp guard ] [ , ] [ dies ] [ aged 91 ]\n",
      "Predicted chunked line : \t [ John ] Demjanjuk [ , convicted ] [ Nazi death camp ] [ guard ] , dies aged 91\n",
      "Predicted labels : \t\t [0 2 0 1 0 1 1 0 2 2 2 2]\n",
      "\n",
      "Line : \t\t\t\t Saudi Women Allowed To Compete At Olympics\n",
      "True chunked line : \t\t [ Saudi Women ] [ Allowed ] [ To Compete ] [ At Olympics ]\n",
      "Predicted chunked line : \t [ Saudi Women ] Allowed [ To ] [ Compete ] [ At Olympics ]\n",
      "Predicted labels : \t\t [0 1 2 0 0 0 1]\n",
      "\n",
      "Line : \t\t\t\t Drone strike kills four suspected militants in Pakistan\n",
      "True chunked line : \t\t [ Drone strike ] [ kills ] [ four suspected militants ] [ in Pakistan ]\n",
      "Predicted chunked line : \t [ Drone strike ] [ kills ] [ four ] [ suspected ] [ militants ] [ in Pakistan ]\n",
      "Predicted labels : \t\t [0 1 0 0 0 0 0 1]\n",
      "\n"
     ]
    }
   ],
   "source": [
    "chunkedLines = chunkDataset(testSamples, showErrors=False)\n",
    "nb = 3\n",
    "\n",
    "#Pour affichage uniquement\n",
    "x= preprocessLines(testSamples)\n",
    "y_pred = model.predict(x)\n",
    "lines_labels_integers = np.argmax(y_pred, axis=2)\n",
    "\n",
    "for line, trueChunkedLine, chunkedLine, lineLabels in zip(testSamples[:nb], testSamplesChunked[:nb], chunkedLines[:nb], lines_labels_integers[:nb]):\n",
    "  print('Line : \\t\\t\\t\\t', line)\n",
    "  print('True chunked line : \\t\\t', trueChunkedLine)\n",
    "  print('Predicted chunked line : \\t', chunkedLine)\n",
    "  print('Predicted labels : \\t\\t', lineLabels[:len(line.split())])\n",
    "  print()"
   ]
  },
  {
   "cell_type": "markdown",
   "metadata": {
    "id": "NXr0_32J_B1x"
   },
   "source": [
    "#### Evaluation"
   ]
  },
  {
   "cell_type": "markdown",
   "metadata": {
    "id": "T_JBKgEZiYjN"
   },
   "source": [
    "##### Evaluation par label"
   ]
  },
  {
   "cell_type": "code",
   "execution_count": null,
   "metadata": {
    "id": "GovzKo-DiaWQ"
   },
   "outputs": [],
   "source": [
    "def getBatchAccuracy(y_pred, y_true):\n",
    "  '''\n",
    "  Input\n",
    "  -----\n",
    "  Batch labels hot encoded of dimension batch_size x 200 x 3\n",
    "  '''\n",
    "  assert len(y_pred.shape) == len(y_true.shape) == 3 \n",
    "\n",
    "  sum_acc = 0\n",
    "  for i in range(len(y_pred)):\n",
    "    sum_acc += getSampleAccuracy(y_pred[i], y_true[i])  #Attention ici on ne défini pas une prédiction de chunking de phrase uniquement comme correcte ou non, mais possiblement partiellement correcte\n",
    "  return sum_acc / len(y_pred)\n",
    "\n",
    "\n",
    "def getSampleAccuracy(y_sample_pred, y_sample_true):\n",
    "  '''\n",
    "  Input\n",
    "  -----\n",
    "  Sentence/Sample labels hot encoded of dimension 200 x 3\n",
    "  '''\n",
    "  # assert len(y_sample_pred.shape) == len(y_sample_true.shape) == 2\n",
    "\n",
    "  pred_labels_integers = np.argmax(y_sample_pred, axis=1)\n",
    "  true_labels_integers = np.argmax(y_sample_true, axis=1)\n",
    "\n",
    "  true_counts = 0\n",
    "  insideSentence = False\n",
    "  lenSentence = 0\n",
    "  for i in range(len(pred_labels_integers)-1, -1, -1):\n",
    "\n",
    "    #On ne prend pas en compte les paddings àjoutés à la fin des phrases pour le calcul du score\n",
    "    if (true_labels_integers[i] != 2) and not(insideSentence):\n",
    "      insideSentence = True\n",
    "\n",
    "    if insideSentence: lenSentence += 1\n",
    "    if true_labels_integers[i] == pred_labels_integers[i] and insideSentence:\n",
    "      true_counts +=1\n",
    "  \n",
    "  # if lenSentence !=0 : print(pred_labels_integers)\n",
    "  return true_counts/(lenSentence+1)"
   ]
  },
  {
   "cell_type": "code",
   "execution_count": null,
   "metadata": {
    "colab": {
     "base_uri": "https://localhost:8080/"
    },
    "executionInfo": {
     "elapsed": 437,
     "status": "ok",
     "timestamp": 1642011691290,
     "user": {
      "displayName": "William Jonas",
      "photoUrl": "https://lh3.googleusercontent.com/a/default-user=s64",
      "userId": "07205973325962472450"
     },
     "user_tz": -60
    },
    "id": "k5EqAqXenKnD",
    "outputId": "1c1a0eae-5160-4c24-fd03-5f7deedc1e05"
   },
   "outputs": [
    {
     "name": "stdout",
     "output_type": "stream",
     "text": [
      "0.5713044275164956\n"
     ]
    }
   ],
   "source": [
    "y_pred = model.predict(x_train)\n",
    "\n",
    "acc = getBatchAccuracy(y_pred=y_pred, y_true=y_train)\n",
    "print(acc)"
   ]
  },
  {
   "cell_type": "code",
   "execution_count": null,
   "metadata": {
    "colab": {
     "base_uri": "https://localhost:8080/"
    },
    "executionInfo": {
     "elapsed": 394,
     "status": "ok",
     "timestamp": 1642011691668,
     "user": {
      "displayName": "William Jonas",
      "photoUrl": "https://lh3.googleusercontent.com/a/default-user=s64",
      "userId": "07205973325962472450"
     },
     "user_tz": -60
    },
    "id": "NzqbMuPxUY7v",
    "outputId": "86b71362-a23f-4874-8a3f-d86952dd393c"
   },
   "outputs": [
    {
     "name": "stdout",
     "output_type": "stream",
     "text": [
      "0.5124096600783107\n"
     ]
    }
   ],
   "source": [
    "y_pred = model.predict(x_test)\n",
    "\n",
    "acc = getBatchAccuracy(y_pred=y_pred, y_true=y_test)\n",
    "print(acc)"
   ]
  },
  {
   "cell_type": "markdown",
   "metadata": {
    "id": "F2HNxzgY-y_w"
   },
   "source": [
    "##### Evaluation par chunk\n",
    "\n",
    "Méthode retenue pour la comparaison avec le modèle state of the art.\n",
    "\n",
    "Cette méthode est à nuancer car on considère ici qu'un chunck est soit bon soit faut (et non pas partiellement bon)."
   ]
  },
  {
   "cell_type": "code",
   "execution_count": null,
   "metadata": {
    "id": "sJm7NFGIY8jx"
   },
   "outputs": [],
   "source": [
    "def chunking_score(output_chunks, gold_chunks):\n",
    "    score = 0\n",
    "    for i in range(len(output_chunks)):\n",
    "        sent_score = 0\n",
    "        for chk in output_chunks[i]:\n",
    "            if chk in gold_chunks[i]:\n",
    "                sent_score += 1\n",
    "        score += sent_score/len(gold_chunks[i])\n",
    "    return score/len(output_chunks)"
   ]
  },
  {
   "cell_type": "code",
   "execution_count": null,
   "metadata": {
    "id": "u5vESgZmb4pG"
   },
   "outputs": [],
   "source": [
    "def removeWordsOutOfChunks(line):\n",
    "  new_line = []\n",
    "\n",
    "  c = ''  #current chunk\n",
    "  insideChunk = False\n",
    "\n",
    "  for char in line:\n",
    "\n",
    "    if char == ']': \n",
    "      insideChunk = False\n",
    "      new_line.append(c.strip())\n",
    "      c = ''\n",
    "\n",
    "    if insideChunk : c += char\n",
    "\n",
    "    if char == '[': \n",
    "      insideChunk = True\n",
    "\n",
    "\n",
    "  return new_line"
   ]
  },
  {
   "cell_type": "code",
   "execution_count": null,
   "metadata": {
    "colab": {
     "base_uri": "https://localhost:8080/"
    },
    "executionInfo": {
     "elapsed": 4,
     "status": "ok",
     "timestamp": 1642012270540,
     "user": {
      "displayName": "William Jonas",
      "photoUrl": "https://lh3.googleusercontent.com/a/default-user=s64",
      "userId": "07205973325962472450"
     },
     "user_tz": -60
    },
    "id": "yd7oJRa6Y-rg",
    "outputId": "cd6417ea-0d17-4396-9d8b-ce9912990d20"
   },
   "outputs": [
    {
     "data": {
      "text/plain": [
       "0.37132096665826797"
      ]
     },
     "execution_count": 49,
     "metadata": {},
     "output_type": "execute_result"
    }
   ],
   "source": [
    "output_chunks = []\n",
    "gold_chunks = []\n",
    "for true_line, line in zip(testSamplesChunked, chunkedLines):\n",
    "  ## Filtrage des mots : Suppression des mots prédis comme hors des chunks (pour fit la méthode d'évaluation proposée)\n",
    "  newLine = removeWordsOutOfChunks(line)\n",
    "\n",
    "  #Transformation phrase chuckée en liste de chunks\n",
    "  # newLine déja au bon format\n",
    "  gold_chunk = true_line.strip(\"[ \").strip(\" ]\").split(\" ] [ \")\n",
    "\n",
    "  output_chunks.append(newLine)\n",
    "  gold_chunks.append(gold_chunk)\n",
    "\n",
    "#Calculer score\n",
    "chunking_score(output_chunks, gold_chunks)\n"
   ]
  },
  {
   "cell_type": "markdown",
   "metadata": {
    "id": "DCnuyPMRSYEG"
   },
   "source": [
    "# Alignement"
   ]
  },
  {
   "cell_type": "markdown",
   "metadata": {
    "id": "udgIkrpTTdA7"
   },
   "source": [
    "### Définition des méthodes"
   ]
  },
  {
   "cell_type": "code",
   "execution_count": null,
   "metadata": {
    "id": "701F4RjgTxIE"
   },
   "outputs": [],
   "source": [
    "from math import *\n",
    "from scipy.optimize import linear_sum_assignment\n",
    "\n",
    "def norm(x):\n",
    "    norm=0\n",
    "    for elt in x:\n",
    "        norm+=elt**2\n",
    "    norm=sqrt(norm)\n",
    "    return(norm)\n",
    "\n",
    "def similarity(x,y):\n",
    "    '''\n",
    "    Cosine Similarity\n",
    "    '''\n",
    "    sim=np.dot(x, y)\n",
    "    sim=sim/(norm(x)*norm(y))\n",
    "    return(sim)"
   ]
  },
  {
   "cell_type": "markdown",
   "metadata": {
    "id": "X2if93NkTgH5"
   },
   "source": [
    "Méthode d'alignement : Hungarian Algorithm (a.k.a. the Kuhn-Munkres algorithm)"
   ]
  },
  {
   "cell_type": "code",
   "execution_count": null,
   "metadata": {
    "id": "lFMEkA8qTWGT"
   },
   "outputs": [],
   "source": [
    "def alignment_chunks(sentence_1, sentence_2):\n",
    "    '''\n",
    "    Hungarian Algorithm : aligner chunks pour meilleur score possible de phrase \n",
    "\n",
    "    Idea for improvement : \n",
    "    Normalize chunk similarity by number of tokens in shorter chunk \n",
    "    such that it assigned higher scores to pairs of chunks such as physician and general physician.\n",
    "    '''\n",
    "    cost=[]\n",
    "    if len(sentence_2)<len(sentence_1): ##If more rows than columns, not every row needs to be assigned to a column, and vice versa.\n",
    "        s1, s2 = sentence_2, sentence_1 #Always select shorter sentence as first sentence !\n",
    "        inv=True\n",
    "    else:\n",
    "        s1, s2=sentence_1, sentence_2\n",
    "        inv=False\n",
    "\n",
    "    for i in range (len(s1)):\n",
    "        inter=[]\n",
    "        for j in range(len(s2)):\n",
    "            sim=alignment_mots(s1[i], s2[j])        \n",
    "            inter.append(sim)\n",
    "        cost.append(inter)\n",
    "    cost=np.array(cost)\n",
    "\n",
    "    row_ind, col_ind = linear_sum_assignment(-cost) # - car linear_sum_assignment minimise normalement\n",
    "    \n",
    "    #Liste de score de similarité pour chaque alignement optimal de chunks\n",
    "    sim=cost[row_ind, col_ind]\n",
    "    sim=min_max_scaler(sim)\n",
    "\n",
    "    if inv:\n",
    "        row_ind, col_ind=col_ind, row_ind\n",
    "\n",
    "    list_couples_chunks_et_score=[]\n",
    "    for i in range(len(sim)):\n",
    "        list_couples_chunks_et_score.append((row_ind[i], col_ind[i], sim[i]))\n",
    "\n",
    "    return(list_couples_chunks_et_score)\n",
    "\n",
    "\n",
    "def alignment_mots(chunk_1, chunk_2):\n",
    "    '''\n",
    "    Hungarian Algorithm sur 2 chunks : aligner mots pour meilleur score possible\n",
    "    '''\n",
    "    if len(chunk_2)<len(chunk_1): ##If more rows than columns, not every row needs to be assigned to a column, and vice versa.\n",
    "        c1, c2 = chunk_2, chunk_1 #Always select shorter sentence as first sentence !\n",
    "    else:\n",
    "        c1, c2 = chunk_1, chunk_2\n",
    "    cost=[]\n",
    "    for i in range (len(c1)):\n",
    "        inter=[]\n",
    "        for j in range(len(c2)):\n",
    "            inter.append(similarity(c1[i], c2[j]))\n",
    "        cost.append(inter)\n",
    "    cost=np.array(cost)\n",
    "\n",
    "    # print(cost.shape)\n",
    "    # print(chunk_1, chunk_2)\n",
    "    # print()\n",
    "\n",
    "    #col_ind, #col_ind donne alignement des mots pour obtenir meilleur score de similarité possible\n",
    "    row_ind, col_ind = linear_sum_assignment(-cost) #- car linear_sum_assignment minimise normalement\n",
    "    \n",
    "    #score de similarité entre 2 chunks\n",
    "    sim=cost[row_ind, col_ind].sum()\n",
    "\n",
    "    return(sim)\n",
    " \n",
    "\n",
    "def min_max_scaler(sim):\n",
    "    scaled=[]\n",
    "    a, b = 3, 1 #On remarque que les scores non scalés sont tous entre 1 et 3 #np.max(sim), np.min(sim) \n",
    "    \n",
    "    for elt in sim:\n",
    "        inter = (elt-b)/(a-b)\n",
    "        inter = inter*5 #Pour avoir des scores entre 0 et 5\n",
    "        inter = round(inter) #Pour avoir des scores entiers\n",
    "        scaled.append(inter)\n",
    "    return(scaled)"
   ]
  },
  {
   "cell_type": "code",
   "execution_count": null,
   "metadata": {
    "id": "jNs2oIEYT__G"
   },
   "outputs": [],
   "source": [
    "def create_list_of_embedded_chunks_exploitable_for_alignement(chunked_sentence):\n",
    "  chunk=''\n",
    "\n",
    "  list_sentence=[]\n",
    "  for i in range(len(chunked_sentence)):\n",
    "    elt = chunked_sentence[i]\n",
    "    if elt!='[' or elt !=']' or elt!=' ':\n",
    "      chunk += elt\n",
    "    if elt==']':\n",
    "      chunk = removeNoise(chunk)\n",
    "      list_sentence.append(chunk)\n",
    "      chunk = ''\n",
    "\n",
    "  list_sentence_embedded=[]\n",
    "  for elt in list_sentence:\n",
    "    inter = elt.split(' ')\n",
    "    inter_copy=inter[:] #inter without '\n",
    "\n",
    "    for elt_bis in inter_copy:\n",
    "      if elt_bis=='':\n",
    "        inter_copy.remove(elt_bis)\n",
    "\n",
    "    inter_embedded=[]\n",
    "    for elt_ter in inter_copy:\n",
    "      elt = vectorizer(elt_ter)\n",
    "      elt = elt.numpy()\n",
    "      elt = list(elt)\n",
    "      if len(elt)!=0:\n",
    "        inter_embedded.append(elt)\n",
    "\n",
    "    list_sentence_embedded.append(inter_embedded)\n",
    "\n",
    "  return(list_sentence_embedded)"
   ]
  },
  {
   "cell_type": "markdown",
   "metadata": {
    "id": "euTfkt6cayVY"
   },
   "source": [
    "### Tests préliminaires performance algo\n",
    "\n",
    "**Remarque:** Notre algorithme d'alignement de chunks ne fonctionne pas pour certaines phrases et nous n'avons pas trouvé d'explications à celà pour le moment.\n",
    "\n",
    "> Calcul de la proportion de combinaisons de phrases renvoyant un message d'erreur en prenant les 10 premières phrases du corpus."
   ]
  },
  {
   "cell_type": "code",
   "execution_count": null,
   "metadata": {
    "colab": {
     "base_uri": "https://localhost:8080/"
    },
    "executionInfo": {
     "elapsed": 5149,
     "status": "ok",
     "timestamp": 1642014961503,
     "user": {
      "displayName": "William Jonas",
      "photoUrl": "https://lh3.googleusercontent.com/a/default-user=s64",
      "userId": "07205973325962472450"
     },
     "user_tz": -60
    },
    "id": "2i8S-DzjSYEH",
    "outputId": "c1189d74-f7d7-410c-bfe5-588dc49b05ab"
   },
   "outputs": [
    {
     "name": "stdout",
     "output_type": "stream",
     "text": [
      "[(0, 3, 2), (1, 1, 0), (2, 0, 2), (3, 2, 2)]\n",
      "[(3, 0, 2), (2, 1, 0), (0, 2, 2)]\n",
      "[(0, 4, 2), (1, 2, 0), (2, 3, 2), (3, 1, 0)]\n",
      "[(0, 3, 2), (1, 2, 0), (2, 0, 2), (3, 1, 0)]\n",
      "[(0, 3, 2), (1, 2, 0), (2, 1, 0), (3, 0, 0)]\n",
      "[(3, 0, 2), (1, 1, 0), (2, 2, 5)]\n",
      "[(0, 4, 2), (1, 2, 0), (2, 3, 5), (3, 1, 0)]\n",
      "[(0, 3, 2), (1, 2, 0), (2, 0, 2), (3, 1, 0)]\n",
      "[(0, 1, 0), (1, 2, 0), (2, 3, 5), (3, 0, 0)]\n",
      "[(0, 4, 2), (1, 2, 0), (2, 3, 5)]\n",
      "[(0, 3, 2), (1, 2, 0), (2, 0, 2)]\n",
      "[(0, 1, 0), (1, 2, 0), (2, 3, 5)]\n",
      "[(4, 0, 2), (1, 1, 0), (2, 2, 0), (3, 3, 2)]\n",
      "[(4, 0, 0), (1, 1, 0), (2, 2, 0), (3, 3, 5)]\n",
      "[(0, 3, 2), (1, 2, 0), (2, 1, 0), (3, 0, 0)]\n",
      "0.5454545454545454\n"
     ]
    }
   ],
   "source": [
    "n= 10#len(testSamplesChunked)\n",
    "\n",
    "n_failed=0\n",
    "\n",
    "for i in range(n-1):\n",
    "  for j in range(i+1,n):\n",
    "    try:\n",
    "\n",
    "      sentence_1=testSamplesChunked[i]\n",
    "      sentence_2=testSamplesChunked[j]\n",
    "\n",
    "      sentence_a=create_list_of_embedded_chunks_exploitable_for_alignement(sentence_1)\n",
    "      sentence_b=create_list_of_embedded_chunks_exploitable_for_alignement(sentence_2)\n",
    "\n",
    "      print(alignment_chunks(sentence_a, sentence_b))\n",
    "    except:\n",
    "      n_failed+=1\n",
    "      pass\n",
    "\n",
    "nb_couples=n*(n+1)*0.5\n",
    "print(n_failed/nb_couples) #Proportions de combinaisons ne fonctionnant pas m"
   ]
  },
  {
   "cell_type": "markdown",
   "metadata": {
    "id": "fzKphd8tk0i0"
   },
   "source": [
    "Recherche des chunks alignés avec des scores de similarités égaux à 5 pour étudier les performances de notre modèle"
   ]
  },
  {
   "cell_type": "code",
   "execution_count": null,
   "metadata": {
    "id": "YO9W0igMSYEH"
   },
   "outputs": [],
   "source": [
    "n= 100#len(testSamplesChunked)\n",
    "\n",
    "n_failed=0\n",
    "list_best_scores=[]\n",
    "\n",
    "for i in range(1,n-1):\n",
    "  for j in range(i+1,n):\n",
    "    try:\n",
    "\n",
    "      sentence_1=testSamplesChunked[i]\n",
    "      sentence_2=testSamplesChunked[j]\n",
    "\n",
    "      sentence_a=create_list_of_embedded_chunks_exploitable_for_alignement(sentence_1)\n",
    "      sentence_b=create_list_of_embedded_chunks_exploitable_for_alignement(sentence_2)\n",
    "\n",
    "      for elt in alignment_chunks(sentence_a, sentence_b)[:][2]:\n",
    "        if elt==5:\n",
    "          list_best_scores.append((i,j))\n",
    "\n",
    "      #print(alignment_chunks(sentence_a, sentence_b), (i,j))\n",
    "    except:\n",
    "      n_failed+=1\n",
    "      pass"
   ]
  },
  {
   "cell_type": "code",
   "execution_count": null,
   "metadata": {
    "id": "Otesl0Yyu1XB"
   },
   "outputs": [],
   "source": [
    "for (i,j) in list_best_scores:\n",
    "    sentence_1=testSamplesChunked[i]\n",
    "    sentence_2=testSamplesChunked[j]\n",
    "\n",
    "    sentence_a=create_list_of_embedded_chunks_exploitable_for_alignement(sentence_1)\n",
    "    sentence_b=create_list_of_embedded_chunks_exploitable_for_alignement(sentence_2)\n",
    "\n",
    "    print(alignment_chunks(sentence_a, sentence_b))\n",
    "    print(sentence_1)\n",
    "    print(sentence_2)"
   ]
  },
  {
   "cell_type": "markdown",
   "metadata": {
    "id": "Dd6H3JoolfvL"
   },
   "source": [
    "### Script"
   ]
  },
  {
   "cell_type": "markdown",
   "metadata": {
    "id": "3X7w6tJWnOxZ"
   },
   "source": [
    "Alignement sur les gold chunks"
   ]
  },
  {
   "cell_type": "code",
   "execution_count": null,
   "metadata": {
    "colab": {
     "base_uri": "https://localhost:8080/",
     "height": 769
    },
    "executionInfo": {
     "elapsed": 549,
     "status": "error",
     "timestamp": 1642014887702,
     "user": {
      "displayName": "William Jonas",
      "photoUrl": "https://lh3.googleusercontent.com/a/default-user=s64",
      "userId": "07205973325962472450"
     },
     "user_tz": -60
    },
    "id": "DIaBZr-elhXJ",
    "outputId": "8f1c7ac5-f0a0-4857-ec61-341a47d68514"
   },
   "outputs": [
    {
     "name": "stdout",
     "output_type": "stream",
     "text": [
      "[[[259, 0, 0, 0, 0, 0, 0, 0, 0, 0, 0, 0, 0, 0, 0, 0, 0, 0, 0, 0, 0, 0, 0, 0, 0, 0, 0, 0, 0, 0, 0, 0, 0, 0, 0, 0, 0, 0, 0, 0, 0, 0, 0, 0, 0, 0, 0, 0, 0, 0, 0, 0, 0, 0, 0, 0, 0, 0, 0, 0, 0, 0, 0, 0, 0, 0, 0, 0, 0, 0, 0, 0, 0, 0, 0, 0, 0, 0, 0, 0, 0, 0, 0, 0, 0, 0, 0, 0, 0, 0, 0, 0, 0, 0, 0, 0, 0, 0, 0, 0, 0, 0, 0, 0, 0, 0, 0, 0, 0, 0, 0, 0, 0, 0, 0, 0, 0, 0, 0, 0, 0, 0, 0, 0, 0, 0, 0, 0, 0, 0, 0, 0, 0, 0, 0, 0, 0, 0, 0, 0, 0, 0, 0, 0, 0, 0, 0, 0, 0, 0, 0, 0, 0, 0, 0, 0, 0, 0, 0, 0, 0, 0, 0, 0, 0, 0, 0, 0, 0, 0, 0, 0, 0, 0, 0, 0, 0, 0, 0, 0, 0, 0, 0, 0, 0, 0, 0, 0, 0, 0, 0, 0, 0, 0, 0, 0, 0, 0, 0, 0], [1291, 0, 0, 0, 0, 0, 0, 0, 0, 0, 0, 0, 0, 0, 0, 0, 0, 0, 0, 0, 0, 0, 0, 0, 0, 0, 0, 0, 0, 0, 0, 0, 0, 0, 0, 0, 0, 0, 0, 0, 0, 0, 0, 0, 0, 0, 0, 0, 0, 0, 0, 0, 0, 0, 0, 0, 0, 0, 0, 0, 0, 0, 0, 0, 0, 0, 0, 0, 0, 0, 0, 0, 0, 0, 0, 0, 0, 0, 0, 0, 0, 0, 0, 0, 0, 0, 0, 0, 0, 0, 0, 0, 0, 0, 0, 0, 0, 0, 0, 0, 0, 0, 0, 0, 0, 0, 0, 0, 0, 0, 0, 0, 0, 0, 0, 0, 0, 0, 0, 0, 0, 0, 0, 0, 0, 0, 0, 0, 0, 0, 0, 0, 0, 0, 0, 0, 0, 0, 0, 0, 0, 0, 0, 0, 0, 0, 0, 0, 0, 0, 0, 0, 0, 0, 0, 0, 0, 0, 0, 0, 0, 0, 0, 0, 0, 0, 0, 0, 0, 0, 0, 0, 0, 0, 0, 0, 0, 0, 0, 0, 0, 0, 0, 0, 0, 0, 0, 0, 0, 0, 0, 0, 0, 0, 0, 0, 0, 0, 0, 0], [22, 0, 0, 0, 0, 0, 0, 0, 0, 0, 0, 0, 0, 0, 0, 0, 0, 0, 0, 0, 0, 0, 0, 0, 0, 0, 0, 0, 0, 0, 0, 0, 0, 0, 0, 0, 0, 0, 0, 0, 0, 0, 0, 0, 0, 0, 0, 0, 0, 0, 0, 0, 0, 0, 0, 0, 0, 0, 0, 0, 0, 0, 0, 0, 0, 0, 0, 0, 0, 0, 0, 0, 0, 0, 0, 0, 0, 0, 0, 0, 0, 0, 0, 0, 0, 0, 0, 0, 0, 0, 0, 0, 0, 0, 0, 0, 0, 0, 0, 0, 0, 0, 0, 0, 0, 0, 0, 0, 0, 0, 0, 0, 0, 0, 0, 0, 0, 0, 0, 0, 0, 0, 0, 0, 0, 0, 0, 0, 0, 0, 0, 0, 0, 0, 0, 0, 0, 0, 0, 0, 0, 0, 0, 0, 0, 0, 0, 0, 0, 0, 0, 0, 0, 0, 0, 0, 0, 0, 0, 0, 0, 0, 0, 0, 0, 0, 0, 0, 0, 0, 0, 0, 0, 0, 0, 0, 0, 0, 0, 0, 0, 0, 0, 0, 0, 0, 0, 0, 0, 0, 0, 0, 0, 0, 0, 0, 0, 0, 0, 0], [682, 0, 0, 0, 0, 0, 0, 0, 0, 0, 0, 0, 0, 0, 0, 0, 0, 0, 0, 0, 0, 0, 0, 0, 0, 0, 0, 0, 0, 0, 0, 0, 0, 0, 0, 0, 0, 0, 0, 0, 0, 0, 0, 0, 0, 0, 0, 0, 0, 0, 0, 0, 0, 0, 0, 0, 0, 0, 0, 0, 0, 0, 0, 0, 0, 0, 0, 0, 0, 0, 0, 0, 0, 0, 0, 0, 0, 0, 0, 0, 0, 0, 0, 0, 0, 0, 0, 0, 0, 0, 0, 0, 0, 0, 0, 0, 0, 0, 0, 0, 0, 0, 0, 0, 0, 0, 0, 0, 0, 0, 0, 0, 0, 0, 0, 0, 0, 0, 0, 0, 0, 0, 0, 0, 0, 0, 0, 0, 0, 0, 0, 0, 0, 0, 0, 0, 0, 0, 0, 0, 0, 0, 0, 0, 0, 0, 0, 0, 0, 0, 0, 0, 0, 0, 0, 0, 0, 0, 0, 0, 0, 0, 0, 0, 0, 0, 0, 0, 0, 0, 0, 0, 0, 0, 0, 0, 0, 0, 0, 0, 0, 0, 0, 0, 0, 0, 0, 0, 0, 0, 0, 0, 0, 0, 0, 0, 0, 0, 0, 0], [1560, 0, 0, 0, 0, 0, 0, 0, 0, 0, 0, 0, 0, 0, 0, 0, 0, 0, 0, 0, 0, 0, 0, 0, 0, 0, 0, 0, 0, 0, 0, 0, 0, 0, 0, 0, 0, 0, 0, 0, 0, 0, 0, 0, 0, 0, 0, 0, 0, 0, 0, 0, 0, 0, 0, 0, 0, 0, 0, 0, 0, 0, 0, 0, 0, 0, 0, 0, 0, 0, 0, 0, 0, 0, 0, 0, 0, 0, 0, 0, 0, 0, 0, 0, 0, 0, 0, 0, 0, 0, 0, 0, 0, 0, 0, 0, 0, 0, 0, 0, 0, 0, 0, 0, 0, 0, 0, 0, 0, 0, 0, 0, 0, 0, 0, 0, 0, 0, 0, 0, 0, 0, 0, 0, 0, 0, 0, 0, 0, 0, 0, 0, 0, 0, 0, 0, 0, 0, 0, 0, 0, 0, 0, 0, 0, 0, 0, 0, 0, 0, 0, 0, 0, 0, 0, 0, 0, 0, 0, 0, 0, 0, 0, 0, 0, 0, 0, 0, 0, 0, 0, 0, 0, 0, 0, 0, 0, 0, 0, 0, 0, 0, 0, 0, 0, 0, 0, 0, 0, 0, 0, 0, 0, 0, 0, 0, 0, 0, 0, 0], [1749, 0, 0, 0, 0, 0, 0, 0, 0, 0, 0, 0, 0, 0, 0, 0, 0, 0, 0, 0, 0, 0, 0, 0, 0, 0, 0, 0, 0, 0, 0, 0, 0, 0, 0, 0, 0, 0, 0, 0, 0, 0, 0, 0, 0, 0, 0, 0, 0, 0, 0, 0, 0, 0, 0, 0, 0, 0, 0, 0, 0, 0, 0, 0, 0, 0, 0, 0, 0, 0, 0, 0, 0, 0, 0, 0, 0, 0, 0, 0, 0, 0, 0, 0, 0, 0, 0, 0, 0, 0, 0, 0, 0, 0, 0, 0, 0, 0, 0, 0, 0, 0, 0, 0, 0, 0, 0, 0, 0, 0, 0, 0, 0, 0, 0, 0, 0, 0, 0, 0, 0, 0, 0, 0, 0, 0, 0, 0, 0, 0, 0, 0, 0, 0, 0, 0, 0, 0, 0, 0, 0, 0, 0, 0, 0, 0, 0, 0, 0, 0, 0, 0, 0, 0, 0, 0, 0, 0, 0, 0, 0, 0, 0, 0, 0, 0, 0, 0, 0, 0, 0, 0, 0, 0, 0, 0, 0, 0, 0, 0, 0, 0, 0, 0, 0, 0, 0, 0, 0, 0, 0, 0, 0, 0, 0, 0, 0, 0, 0, 0]], [[21, 0, 0, 0, 0, 0, 0, 0, 0, 0, 0, 0, 0, 0, 0, 0, 0, 0, 0, 0, 0, 0, 0, 0, 0, 0, 0, 0, 0, 0, 0, 0, 0, 0, 0, 0, 0, 0, 0, 0, 0, 0, 0, 0, 0, 0, 0, 0, 0, 0, 0, 0, 0, 0, 0, 0, 0, 0, 0, 0, 0, 0, 0, 0, 0, 0, 0, 0, 0, 0, 0, 0, 0, 0, 0, 0, 0, 0, 0, 0, 0, 0, 0, 0, 0, 0, 0, 0, 0, 0, 0, 0, 0, 0, 0, 0, 0, 0, 0, 0, 0, 0, 0, 0, 0, 0, 0, 0, 0, 0, 0, 0, 0, 0, 0, 0, 0, 0, 0, 0, 0, 0, 0, 0, 0, 0, 0, 0, 0, 0, 0, 0, 0, 0, 0, 0, 0, 0, 0, 0, 0, 0, 0, 0, 0, 0, 0, 0, 0, 0, 0, 0, 0, 0, 0, 0, 0, 0, 0, 0, 0, 0, 0, 0, 0, 0, 0, 0, 0, 0, 0, 0, 0, 0, 0, 0, 0, 0, 0, 0, 0, 0, 0, 0, 0, 0, 0, 0, 0, 0, 0, 0, 0, 0, 0, 0, 0, 0, 0, 0]], [[11, 0, 0, 0, 0, 0, 0, 0, 0, 0, 0, 0, 0, 0, 0, 0, 0, 0, 0, 0, 0, 0, 0, 0, 0, 0, 0, 0, 0, 0, 0, 0, 0, 0, 0, 0, 0, 0, 0, 0, 0, 0, 0, 0, 0, 0, 0, 0, 0, 0, 0, 0, 0, 0, 0, 0, 0, 0, 0, 0, 0, 0, 0, 0, 0, 0, 0, 0, 0, 0, 0, 0, 0, 0, 0, 0, 0, 0, 0, 0, 0, 0, 0, 0, 0, 0, 0, 0, 0, 0, 0, 0, 0, 0, 0, 0, 0, 0, 0, 0, 0, 0, 0, 0, 0, 0, 0, 0, 0, 0, 0, 0, 0, 0, 0, 0, 0, 0, 0, 0, 0, 0, 0, 0, 0, 0, 0, 0, 0, 0, 0, 0, 0, 0, 0, 0, 0, 0, 0, 0, 0, 0, 0, 0, 0, 0, 0, 0, 0, 0, 0, 0, 0, 0, 0, 0, 0, 0, 0, 0, 0, 0, 0, 0, 0, 0, 0, 0, 0, 0, 0, 0, 0, 0, 0, 0, 0, 0, 0, 0, 0, 0, 0, 0, 0, 0, 0, 0, 0, 0, 0, 0, 0, 0, 0, 0, 0, 0, 0, 0], [738, 0, 0, 0, 0, 0, 0, 0, 0, 0, 0, 0, 0, 0, 0, 0, 0, 0, 0, 0, 0, 0, 0, 0, 0, 0, 0, 0, 0, 0, 0, 0, 0, 0, 0, 0, 0, 0, 0, 0, 0, 0, 0, 0, 0, 0, 0, 0, 0, 0, 0, 0, 0, 0, 0, 0, 0, 0, 0, 0, 0, 0, 0, 0, 0, 0, 0, 0, 0, 0, 0, 0, 0, 0, 0, 0, 0, 0, 0, 0, 0, 0, 0, 0, 0, 0, 0, 0, 0, 0, 0, 0, 0, 0, 0, 0, 0, 0, 0, 0, 0, 0, 0, 0, 0, 0, 0, 0, 0, 0, 0, 0, 0, 0, 0, 0, 0, 0, 0, 0, 0, 0, 0, 0, 0, 0, 0, 0, 0, 0, 0, 0, 0, 0, 0, 0, 0, 0, 0, 0, 0, 0, 0, 0, 0, 0, 0, 0, 0, 0, 0, 0, 0, 0, 0, 0, 0, 0, 0, 0, 0, 0, 0, 0, 0, 0, 0, 0, 0, 0, 0, 0, 0, 0, 0, 0, 0, 0, 0, 0, 0, 0, 0, 0, 0, 0, 0, 0, 0, 0, 0, 0, 0, 0, 0, 0, 0, 0, 0, 0]]]\n",
      "[[[1453, 0, 0, 0, 0, 0, 0, 0, 0, 0, 0, 0, 0, 0, 0, 0, 0, 0, 0, 0, 0, 0, 0, 0, 0, 0, 0, 0, 0, 0, 0, 0, 0, 0, 0, 0, 0, 0, 0, 0, 0, 0, 0, 0, 0, 0, 0, 0, 0, 0, 0, 0, 0, 0, 0, 0, 0, 0, 0, 0, 0, 0, 0, 0, 0, 0, 0, 0, 0, 0, 0, 0, 0, 0, 0, 0, 0, 0, 0, 0, 0, 0, 0, 0, 0, 0, 0, 0, 0, 0, 0, 0, 0, 0, 0, 0, 0, 0, 0, 0, 0, 0, 0, 0, 0, 0, 0, 0, 0, 0, 0, 0, 0, 0, 0, 0, 0, 0, 0, 0, 0, 0, 0, 0, 0, 0, 0, 0, 0, 0, 0, 0, 0, 0, 0, 0, 0, 0, 0, 0, 0, 0, 0, 0, 0, 0, 0, 0, 0, 0, 0, 0, 0, 0, 0, 0, 0, 0, 0, 0, 0, 0, 0, 0, 0, 0, 0, 0, 0, 0, 0, 0, 0, 0, 0, 0, 0, 0, 0, 0, 0, 0, 0, 0, 0, 0, 0, 0, 0, 0, 0, 0, 0, 0, 0, 0, 0, 0, 0, 0], [1749, 0, 0, 0, 0, 0, 0, 0, 0, 0, 0, 0, 0, 0, 0, 0, 0, 0, 0, 0, 0, 0, 0, 0, 0, 0, 0, 0, 0, 0, 0, 0, 0, 0, 0, 0, 0, 0, 0, 0, 0, 0, 0, 0, 0, 0, 0, 0, 0, 0, 0, 0, 0, 0, 0, 0, 0, 0, 0, 0, 0, 0, 0, 0, 0, 0, 0, 0, 0, 0, 0, 0, 0, 0, 0, 0, 0, 0, 0, 0, 0, 0, 0, 0, 0, 0, 0, 0, 0, 0, 0, 0, 0, 0, 0, 0, 0, 0, 0, 0, 0, 0, 0, 0, 0, 0, 0, 0, 0, 0, 0, 0, 0, 0, 0, 0, 0, 0, 0, 0, 0, 0, 0, 0, 0, 0, 0, 0, 0, 0, 0, 0, 0, 0, 0, 0, 0, 0, 0, 0, 0, 0, 0, 0, 0, 0, 0, 0, 0, 0, 0, 0, 0, 0, 0, 0, 0, 0, 0, 0, 0, 0, 0, 0, 0, 0, 0, 0, 0, 0, 0, 0, 0, 0, 0, 0, 0, 0, 0, 0, 0, 0, 0, 0, 0, 0, 0, 0, 0, 0, 0, 0, 0, 0, 0, 0, 0, 0, 0, 0]], [], [[667, 0, 0, 0, 0, 0, 0, 0, 0, 0, 0, 0, 0, 0, 0, 0, 0, 0, 0, 0, 0, 0, 0, 0, 0, 0, 0, 0, 0, 0, 0, 0, 0, 0, 0, 0, 0, 0, 0, 0, 0, 0, 0, 0, 0, 0, 0, 0, 0, 0, 0, 0, 0, 0, 0, 0, 0, 0, 0, 0, 0, 0, 0, 0, 0, 0, 0, 0, 0, 0, 0, 0, 0, 0, 0, 0, 0, 0, 0, 0, 0, 0, 0, 0, 0, 0, 0, 0, 0, 0, 0, 0, 0, 0, 0, 0, 0, 0, 0, 0, 0, 0, 0, 0, 0, 0, 0, 0, 0, 0, 0, 0, 0, 0, 0, 0, 0, 0, 0, 0, 0, 0, 0, 0, 0, 0, 0, 0, 0, 0, 0, 0, 0, 0, 0, 0, 0, 0, 0, 0, 0, 0, 0, 0, 0, 0, 0, 0, 0, 0, 0, 0, 0, 0, 0, 0, 0, 0, 0, 0, 0, 0, 0, 0, 0, 0, 0, 0, 0, 0, 0, 0, 0, 0, 0, 0, 0, 0, 0, 0, 0, 0, 0, 0, 0, 0, 0, 0, 0, 0, 0, 0, 0, 0, 0, 0, 0, 0, 0, 0], [1291, 0, 0, 0, 0, 0, 0, 0, 0, 0, 0, 0, 0, 0, 0, 0, 0, 0, 0, 0, 0, 0, 0, 0, 0, 0, 0, 0, 0, 0, 0, 0, 0, 0, 0, 0, 0, 0, 0, 0, 0, 0, 0, 0, 0, 0, 0, 0, 0, 0, 0, 0, 0, 0, 0, 0, 0, 0, 0, 0, 0, 0, 0, 0, 0, 0, 0, 0, 0, 0, 0, 0, 0, 0, 0, 0, 0, 0, 0, 0, 0, 0, 0, 0, 0, 0, 0, 0, 0, 0, 0, 0, 0, 0, 0, 0, 0, 0, 0, 0, 0, 0, 0, 0, 0, 0, 0, 0, 0, 0, 0, 0, 0, 0, 0, 0, 0, 0, 0, 0, 0, 0, 0, 0, 0, 0, 0, 0, 0, 0, 0, 0, 0, 0, 0, 0, 0, 0, 0, 0, 0, 0, 0, 0, 0, 0, 0, 0, 0, 0, 0, 0, 0, 0, 0, 0, 0, 0, 0, 0, 0, 0, 0, 0, 0, 0, 0, 0, 0, 0, 0, 0, 0, 0, 0, 0, 0, 0, 0, 0, 0, 0, 0, 0, 0, 0, 0, 0, 0, 0, 0, 0, 0, 0, 0, 0, 0, 0, 0, 0], [22, 0, 0, 0, 0, 0, 0, 0, 0, 0, 0, 0, 0, 0, 0, 0, 0, 0, 0, 0, 0, 0, 0, 0, 0, 0, 0, 0, 0, 0, 0, 0, 0, 0, 0, 0, 0, 0, 0, 0, 0, 0, 0, 0, 0, 0, 0, 0, 0, 0, 0, 0, 0, 0, 0, 0, 0, 0, 0, 0, 0, 0, 0, 0, 0, 0, 0, 0, 0, 0, 0, 0, 0, 0, 0, 0, 0, 0, 0, 0, 0, 0, 0, 0, 0, 0, 0, 0, 0, 0, 0, 0, 0, 0, 0, 0, 0, 0, 0, 0, 0, 0, 0, 0, 0, 0, 0, 0, 0, 0, 0, 0, 0, 0, 0, 0, 0, 0, 0, 0, 0, 0, 0, 0, 0, 0, 0, 0, 0, 0, 0, 0, 0, 0, 0, 0, 0, 0, 0, 0, 0, 0, 0, 0, 0, 0, 0, 0, 0, 0, 0, 0, 0, 0, 0, 0, 0, 0, 0, 0, 0, 0, 0, 0, 0, 0, 0, 0, 0, 0, 0, 0, 0, 0, 0, 0, 0, 0, 0, 0, 0, 0, 0, 0, 0, 0, 0, 0, 0, 0, 0, 0, 0, 0, 0, 0, 0, 0, 0, 0], [682, 0, 0, 0, 0, 0, 0, 0, 0, 0, 0, 0, 0, 0, 0, 0, 0, 0, 0, 0, 0, 0, 0, 0, 0, 0, 0, 0, 0, 0, 0, 0, 0, 0, 0, 0, 0, 0, 0, 0, 0, 0, 0, 0, 0, 0, 0, 0, 0, 0, 0, 0, 0, 0, 0, 0, 0, 0, 0, 0, 0, 0, 0, 0, 0, 0, 0, 0, 0, 0, 0, 0, 0, 0, 0, 0, 0, 0, 0, 0, 0, 0, 0, 0, 0, 0, 0, 0, 0, 0, 0, 0, 0, 0, 0, 0, 0, 0, 0, 0, 0, 0, 0, 0, 0, 0, 0, 0, 0, 0, 0, 0, 0, 0, 0, 0, 0, 0, 0, 0, 0, 0, 0, 0, 0, 0, 0, 0, 0, 0, 0, 0, 0, 0, 0, 0, 0, 0, 0, 0, 0, 0, 0, 0, 0, 0, 0, 0, 0, 0, 0, 0, 0, 0, 0, 0, 0, 0, 0, 0, 0, 0, 0, 0, 0, 0, 0, 0, 0, 0, 0, 0, 0, 0, 0, 0, 0, 0, 0, 0, 0, 0, 0, 0, 0, 0, 0, 0, 0, 0, 0, 0, 0, 0, 0, 0, 0, 0, 0, 0], [1560, 0, 0, 0, 0, 0, 0, 0, 0, 0, 0, 0, 0, 0, 0, 0, 0, 0, 0, 0, 0, 0, 0, 0, 0, 0, 0, 0, 0, 0, 0, 0, 0, 0, 0, 0, 0, 0, 0, 0, 0, 0, 0, 0, 0, 0, 0, 0, 0, 0, 0, 0, 0, 0, 0, 0, 0, 0, 0, 0, 0, 0, 0, 0, 0, 0, 0, 0, 0, 0, 0, 0, 0, 0, 0, 0, 0, 0, 0, 0, 0, 0, 0, 0, 0, 0, 0, 0, 0, 0, 0, 0, 0, 0, 0, 0, 0, 0, 0, 0, 0, 0, 0, 0, 0, 0, 0, 0, 0, 0, 0, 0, 0, 0, 0, 0, 0, 0, 0, 0, 0, 0, 0, 0, 0, 0, 0, 0, 0, 0, 0, 0, 0, 0, 0, 0, 0, 0, 0, 0, 0, 0, 0, 0, 0, 0, 0, 0, 0, 0, 0, 0, 0, 0, 0, 0, 0, 0, 0, 0, 0, 0, 0, 0, 0, 0, 0, 0, 0, 0, 0, 0, 0, 0, 0, 0, 0, 0, 0, 0, 0, 0, 0, 0, 0, 0, 0, 0, 0, 0, 0, 0, 0, 0, 0, 0, 0, 0, 0, 0]], [], [[50, 0, 0, 0, 0, 0, 0, 0, 0, 0, 0, 0, 0, 0, 0, 0, 0, 0, 0, 0, 0, 0, 0, 0, 0, 0, 0, 0, 0, 0, 0, 0, 0, 0, 0, 0, 0, 0, 0, 0, 0, 0, 0, 0, 0, 0, 0, 0, 0, 0, 0, 0, 0, 0, 0, 0, 0, 0, 0, 0, 0, 0, 0, 0, 0, 0, 0, 0, 0, 0, 0, 0, 0, 0, 0, 0, 0, 0, 0, 0, 0, 0, 0, 0, 0, 0, 0, 0, 0, 0, 0, 0, 0, 0, 0, 0, 0, 0, 0, 0, 0, 0, 0, 0, 0, 0, 0, 0, 0, 0, 0, 0, 0, 0, 0, 0, 0, 0, 0, 0, 0, 0, 0, 0, 0, 0, 0, 0, 0, 0, 0, 0, 0, 0, 0, 0, 0, 0, 0, 0, 0, 0, 0, 0, 0, 0, 0, 0, 0, 0, 0, 0, 0, 0, 0, 0, 0, 0, 0, 0, 0, 0, 0, 0, 0, 0, 0, 0, 0, 0, 0, 0, 0, 0, 0, 0, 0, 0, 0, 0, 0, 0, 0, 0, 0, 0, 0, 0, 0, 0, 0, 0, 0, 0, 0, 0, 0, 0, 0, 0]], [[1, 0, 0, 0, 0, 0, 0, 0, 0, 0, 0, 0, 0, 0, 0, 0, 0, 0, 0, 0, 0, 0, 0, 0, 0, 0, 0, 0, 0, 0, 0, 0, 0, 0, 0, 0, 0, 0, 0, 0, 0, 0, 0, 0, 0, 0, 0, 0, 0, 0, 0, 0, 0, 0, 0, 0, 0, 0, 0, 0, 0, 0, 0, 0, 0, 0, 0, 0, 0, 0, 0, 0, 0, 0, 0, 0, 0, 0, 0, 0, 0, 0, 0, 0, 0, 0, 0, 0, 0, 0, 0, 0, 0, 0, 0, 0, 0, 0, 0, 0, 0, 0, 0, 0, 0, 0, 0, 0, 0, 0, 0, 0, 0, 0, 0, 0, 0, 0, 0, 0, 0, 0, 0, 0, 0, 0, 0, 0, 0, 0, 0, 0, 0, 0, 0, 0, 0, 0, 0, 0, 0, 0, 0, 0, 0, 0, 0, 0, 0, 0, 0, 0, 0, 0, 0, 0, 0, 0, 0, 0, 0, 0, 0, 0, 0, 0, 0, 0, 0, 0, 0, 0, 0, 0, 0, 0, 0, 0, 0, 0, 0, 0, 0, 0, 0, 0, 0, 0, 0, 0, 0, 0, 0, 0, 0, 0, 0, 0, 0, 0], [738, 0, 0, 0, 0, 0, 0, 0, 0, 0, 0, 0, 0, 0, 0, 0, 0, 0, 0, 0, 0, 0, 0, 0, 0, 0, 0, 0, 0, 0, 0, 0, 0, 0, 0, 0, 0, 0, 0, 0, 0, 0, 0, 0, 0, 0, 0, 0, 0, 0, 0, 0, 0, 0, 0, 0, 0, 0, 0, 0, 0, 0, 0, 0, 0, 0, 0, 0, 0, 0, 0, 0, 0, 0, 0, 0, 0, 0, 0, 0, 0, 0, 0, 0, 0, 0, 0, 0, 0, 0, 0, 0, 0, 0, 0, 0, 0, 0, 0, 0, 0, 0, 0, 0, 0, 0, 0, 0, 0, 0, 0, 0, 0, 0, 0, 0, 0, 0, 0, 0, 0, 0, 0, 0, 0, 0, 0, 0, 0, 0, 0, 0, 0, 0, 0, 0, 0, 0, 0, 0, 0, 0, 0, 0, 0, 0, 0, 0, 0, 0, 0, 0, 0, 0, 0, 0, 0, 0, 0, 0, 0, 0, 0, 0, 0, 0, 0, 0, 0, 0, 0, 0, 0, 0, 0, 0, 0, 0, 0, 0, 0, 0, 0, 0, 0, 0, 0, 0, 0, 0, 0, 0, 0, 0, 0, 0, 0, 0, 0, 0]]]\n",
      "(2, 6)\n",
      "[[259, 0, 0, 0, 0, 0, 0, 0, 0, 0, 0, 0, 0, 0, 0, 0, 0, 0, 0, 0, 0, 0, 0, 0, 0, 0, 0, 0, 0, 0, 0, 0, 0, 0, 0, 0, 0, 0, 0, 0, 0, 0, 0, 0, 0, 0, 0, 0, 0, 0, 0, 0, 0, 0, 0, 0, 0, 0, 0, 0, 0, 0, 0, 0, 0, 0, 0, 0, 0, 0, 0, 0, 0, 0, 0, 0, 0, 0, 0, 0, 0, 0, 0, 0, 0, 0, 0, 0, 0, 0, 0, 0, 0, 0, 0, 0, 0, 0, 0, 0, 0, 0, 0, 0, 0, 0, 0, 0, 0, 0, 0, 0, 0, 0, 0, 0, 0, 0, 0, 0, 0, 0, 0, 0, 0, 0, 0, 0, 0, 0, 0, 0, 0, 0, 0, 0, 0, 0, 0, 0, 0, 0, 0, 0, 0, 0, 0, 0, 0, 0, 0, 0, 0, 0, 0, 0, 0, 0, 0, 0, 0, 0, 0, 0, 0, 0, 0, 0, 0, 0, 0, 0, 0, 0, 0, 0, 0, 0, 0, 0, 0, 0, 0, 0, 0, 0, 0, 0, 0, 0, 0, 0, 0, 0, 0, 0, 0, 0, 0, 0], [1291, 0, 0, 0, 0, 0, 0, 0, 0, 0, 0, 0, 0, 0, 0, 0, 0, 0, 0, 0, 0, 0, 0, 0, 0, 0, 0, 0, 0, 0, 0, 0, 0, 0, 0, 0, 0, 0, 0, 0, 0, 0, 0, 0, 0, 0, 0, 0, 0, 0, 0, 0, 0, 0, 0, 0, 0, 0, 0, 0, 0, 0, 0, 0, 0, 0, 0, 0, 0, 0, 0, 0, 0, 0, 0, 0, 0, 0, 0, 0, 0, 0, 0, 0, 0, 0, 0, 0, 0, 0, 0, 0, 0, 0, 0, 0, 0, 0, 0, 0, 0, 0, 0, 0, 0, 0, 0, 0, 0, 0, 0, 0, 0, 0, 0, 0, 0, 0, 0, 0, 0, 0, 0, 0, 0, 0, 0, 0, 0, 0, 0, 0, 0, 0, 0, 0, 0, 0, 0, 0, 0, 0, 0, 0, 0, 0, 0, 0, 0, 0, 0, 0, 0, 0, 0, 0, 0, 0, 0, 0, 0, 0, 0, 0, 0, 0, 0, 0, 0, 0, 0, 0, 0, 0, 0, 0, 0, 0, 0, 0, 0, 0, 0, 0, 0, 0, 0, 0, 0, 0, 0, 0, 0, 0, 0, 0, 0, 0, 0, 0], [22, 0, 0, 0, 0, 0, 0, 0, 0, 0, 0, 0, 0, 0, 0, 0, 0, 0, 0, 0, 0, 0, 0, 0, 0, 0, 0, 0, 0, 0, 0, 0, 0, 0, 0, 0, 0, 0, 0, 0, 0, 0, 0, 0, 0, 0, 0, 0, 0, 0, 0, 0, 0, 0, 0, 0, 0, 0, 0, 0, 0, 0, 0, 0, 0, 0, 0, 0, 0, 0, 0, 0, 0, 0, 0, 0, 0, 0, 0, 0, 0, 0, 0, 0, 0, 0, 0, 0, 0, 0, 0, 0, 0, 0, 0, 0, 0, 0, 0, 0, 0, 0, 0, 0, 0, 0, 0, 0, 0, 0, 0, 0, 0, 0, 0, 0, 0, 0, 0, 0, 0, 0, 0, 0, 0, 0, 0, 0, 0, 0, 0, 0, 0, 0, 0, 0, 0, 0, 0, 0, 0, 0, 0, 0, 0, 0, 0, 0, 0, 0, 0, 0, 0, 0, 0, 0, 0, 0, 0, 0, 0, 0, 0, 0, 0, 0, 0, 0, 0, 0, 0, 0, 0, 0, 0, 0, 0, 0, 0, 0, 0, 0, 0, 0, 0, 0, 0, 0, 0, 0, 0, 0, 0, 0, 0, 0, 0, 0, 0, 0], [682, 0, 0, 0, 0, 0, 0, 0, 0, 0, 0, 0, 0, 0, 0, 0, 0, 0, 0, 0, 0, 0, 0, 0, 0, 0, 0, 0, 0, 0, 0, 0, 0, 0, 0, 0, 0, 0, 0, 0, 0, 0, 0, 0, 0, 0, 0, 0, 0, 0, 0, 0, 0, 0, 0, 0, 0, 0, 0, 0, 0, 0, 0, 0, 0, 0, 0, 0, 0, 0, 0, 0, 0, 0, 0, 0, 0, 0, 0, 0, 0, 0, 0, 0, 0, 0, 0, 0, 0, 0, 0, 0, 0, 0, 0, 0, 0, 0, 0, 0, 0, 0, 0, 0, 0, 0, 0, 0, 0, 0, 0, 0, 0, 0, 0, 0, 0, 0, 0, 0, 0, 0, 0, 0, 0, 0, 0, 0, 0, 0, 0, 0, 0, 0, 0, 0, 0, 0, 0, 0, 0, 0, 0, 0, 0, 0, 0, 0, 0, 0, 0, 0, 0, 0, 0, 0, 0, 0, 0, 0, 0, 0, 0, 0, 0, 0, 0, 0, 0, 0, 0, 0, 0, 0, 0, 0, 0, 0, 0, 0, 0, 0, 0, 0, 0, 0, 0, 0, 0, 0, 0, 0, 0, 0, 0, 0, 0, 0, 0, 0], [1560, 0, 0, 0, 0, 0, 0, 0, 0, 0, 0, 0, 0, 0, 0, 0, 0, 0, 0, 0, 0, 0, 0, 0, 0, 0, 0, 0, 0, 0, 0, 0, 0, 0, 0, 0, 0, 0, 0, 0, 0, 0, 0, 0, 0, 0, 0, 0, 0, 0, 0, 0, 0, 0, 0, 0, 0, 0, 0, 0, 0, 0, 0, 0, 0, 0, 0, 0, 0, 0, 0, 0, 0, 0, 0, 0, 0, 0, 0, 0, 0, 0, 0, 0, 0, 0, 0, 0, 0, 0, 0, 0, 0, 0, 0, 0, 0, 0, 0, 0, 0, 0, 0, 0, 0, 0, 0, 0, 0, 0, 0, 0, 0, 0, 0, 0, 0, 0, 0, 0, 0, 0, 0, 0, 0, 0, 0, 0, 0, 0, 0, 0, 0, 0, 0, 0, 0, 0, 0, 0, 0, 0, 0, 0, 0, 0, 0, 0, 0, 0, 0, 0, 0, 0, 0, 0, 0, 0, 0, 0, 0, 0, 0, 0, 0, 0, 0, 0, 0, 0, 0, 0, 0, 0, 0, 0, 0, 0, 0, 0, 0, 0, 0, 0, 0, 0, 0, 0, 0, 0, 0, 0, 0, 0, 0, 0, 0, 0, 0, 0], [1749, 0, 0, 0, 0, 0, 0, 0, 0, 0, 0, 0, 0, 0, 0, 0, 0, 0, 0, 0, 0, 0, 0, 0, 0, 0, 0, 0, 0, 0, 0, 0, 0, 0, 0, 0, 0, 0, 0, 0, 0, 0, 0, 0, 0, 0, 0, 0, 0, 0, 0, 0, 0, 0, 0, 0, 0, 0, 0, 0, 0, 0, 0, 0, 0, 0, 0, 0, 0, 0, 0, 0, 0, 0, 0, 0, 0, 0, 0, 0, 0, 0, 0, 0, 0, 0, 0, 0, 0, 0, 0, 0, 0, 0, 0, 0, 0, 0, 0, 0, 0, 0, 0, 0, 0, 0, 0, 0, 0, 0, 0, 0, 0, 0, 0, 0, 0, 0, 0, 0, 0, 0, 0, 0, 0, 0, 0, 0, 0, 0, 0, 0, 0, 0, 0, 0, 0, 0, 0, 0, 0, 0, 0, 0, 0, 0, 0, 0, 0, 0, 0, 0, 0, 0, 0, 0, 0, 0, 0, 0, 0, 0, 0, 0, 0, 0, 0, 0, 0, 0, 0, 0, 0, 0, 0, 0, 0, 0, 0, 0, 0, 0, 0, 0, 0, 0, 0, 0, 0, 0, 0, 0, 0, 0, 0, 0, 0, 0, 0, 0]] [[1453, 0, 0, 0, 0, 0, 0, 0, 0, 0, 0, 0, 0, 0, 0, 0, 0, 0, 0, 0, 0, 0, 0, 0, 0, 0, 0, 0, 0, 0, 0, 0, 0, 0, 0, 0, 0, 0, 0, 0, 0, 0, 0, 0, 0, 0, 0, 0, 0, 0, 0, 0, 0, 0, 0, 0, 0, 0, 0, 0, 0, 0, 0, 0, 0, 0, 0, 0, 0, 0, 0, 0, 0, 0, 0, 0, 0, 0, 0, 0, 0, 0, 0, 0, 0, 0, 0, 0, 0, 0, 0, 0, 0, 0, 0, 0, 0, 0, 0, 0, 0, 0, 0, 0, 0, 0, 0, 0, 0, 0, 0, 0, 0, 0, 0, 0, 0, 0, 0, 0, 0, 0, 0, 0, 0, 0, 0, 0, 0, 0, 0, 0, 0, 0, 0, 0, 0, 0, 0, 0, 0, 0, 0, 0, 0, 0, 0, 0, 0, 0, 0, 0, 0, 0, 0, 0, 0, 0, 0, 0, 0, 0, 0, 0, 0, 0, 0, 0, 0, 0, 0, 0, 0, 0, 0, 0, 0, 0, 0, 0, 0, 0, 0, 0, 0, 0, 0, 0, 0, 0, 0, 0, 0, 0, 0, 0, 0, 0, 0, 0], [1749, 0, 0, 0, 0, 0, 0, 0, 0, 0, 0, 0, 0, 0, 0, 0, 0, 0, 0, 0, 0, 0, 0, 0, 0, 0, 0, 0, 0, 0, 0, 0, 0, 0, 0, 0, 0, 0, 0, 0, 0, 0, 0, 0, 0, 0, 0, 0, 0, 0, 0, 0, 0, 0, 0, 0, 0, 0, 0, 0, 0, 0, 0, 0, 0, 0, 0, 0, 0, 0, 0, 0, 0, 0, 0, 0, 0, 0, 0, 0, 0, 0, 0, 0, 0, 0, 0, 0, 0, 0, 0, 0, 0, 0, 0, 0, 0, 0, 0, 0, 0, 0, 0, 0, 0, 0, 0, 0, 0, 0, 0, 0, 0, 0, 0, 0, 0, 0, 0, 0, 0, 0, 0, 0, 0, 0, 0, 0, 0, 0, 0, 0, 0, 0, 0, 0, 0, 0, 0, 0, 0, 0, 0, 0, 0, 0, 0, 0, 0, 0, 0, 0, 0, 0, 0, 0, 0, 0, 0, 0, 0, 0, 0, 0, 0, 0, 0, 0, 0, 0, 0, 0, 0, 0, 0, 0, 0, 0, 0, 0, 0, 0, 0, 0, 0, 0, 0, 0, 0, 0, 0, 0, 0, 0, 0, 0, 0, 0, 0, 0]]\n",
      "\n",
      "(0,)\n",
      "[[259, 0, 0, 0, 0, 0, 0, 0, 0, 0, 0, 0, 0, 0, 0, 0, 0, 0, 0, 0, 0, 0, 0, 0, 0, 0, 0, 0, 0, 0, 0, 0, 0, 0, 0, 0, 0, 0, 0, 0, 0, 0, 0, 0, 0, 0, 0, 0, 0, 0, 0, 0, 0, 0, 0, 0, 0, 0, 0, 0, 0, 0, 0, 0, 0, 0, 0, 0, 0, 0, 0, 0, 0, 0, 0, 0, 0, 0, 0, 0, 0, 0, 0, 0, 0, 0, 0, 0, 0, 0, 0, 0, 0, 0, 0, 0, 0, 0, 0, 0, 0, 0, 0, 0, 0, 0, 0, 0, 0, 0, 0, 0, 0, 0, 0, 0, 0, 0, 0, 0, 0, 0, 0, 0, 0, 0, 0, 0, 0, 0, 0, 0, 0, 0, 0, 0, 0, 0, 0, 0, 0, 0, 0, 0, 0, 0, 0, 0, 0, 0, 0, 0, 0, 0, 0, 0, 0, 0, 0, 0, 0, 0, 0, 0, 0, 0, 0, 0, 0, 0, 0, 0, 0, 0, 0, 0, 0, 0, 0, 0, 0, 0, 0, 0, 0, 0, 0, 0, 0, 0, 0, 0, 0, 0, 0, 0, 0, 0, 0, 0], [1291, 0, 0, 0, 0, 0, 0, 0, 0, 0, 0, 0, 0, 0, 0, 0, 0, 0, 0, 0, 0, 0, 0, 0, 0, 0, 0, 0, 0, 0, 0, 0, 0, 0, 0, 0, 0, 0, 0, 0, 0, 0, 0, 0, 0, 0, 0, 0, 0, 0, 0, 0, 0, 0, 0, 0, 0, 0, 0, 0, 0, 0, 0, 0, 0, 0, 0, 0, 0, 0, 0, 0, 0, 0, 0, 0, 0, 0, 0, 0, 0, 0, 0, 0, 0, 0, 0, 0, 0, 0, 0, 0, 0, 0, 0, 0, 0, 0, 0, 0, 0, 0, 0, 0, 0, 0, 0, 0, 0, 0, 0, 0, 0, 0, 0, 0, 0, 0, 0, 0, 0, 0, 0, 0, 0, 0, 0, 0, 0, 0, 0, 0, 0, 0, 0, 0, 0, 0, 0, 0, 0, 0, 0, 0, 0, 0, 0, 0, 0, 0, 0, 0, 0, 0, 0, 0, 0, 0, 0, 0, 0, 0, 0, 0, 0, 0, 0, 0, 0, 0, 0, 0, 0, 0, 0, 0, 0, 0, 0, 0, 0, 0, 0, 0, 0, 0, 0, 0, 0, 0, 0, 0, 0, 0, 0, 0, 0, 0, 0, 0], [22, 0, 0, 0, 0, 0, 0, 0, 0, 0, 0, 0, 0, 0, 0, 0, 0, 0, 0, 0, 0, 0, 0, 0, 0, 0, 0, 0, 0, 0, 0, 0, 0, 0, 0, 0, 0, 0, 0, 0, 0, 0, 0, 0, 0, 0, 0, 0, 0, 0, 0, 0, 0, 0, 0, 0, 0, 0, 0, 0, 0, 0, 0, 0, 0, 0, 0, 0, 0, 0, 0, 0, 0, 0, 0, 0, 0, 0, 0, 0, 0, 0, 0, 0, 0, 0, 0, 0, 0, 0, 0, 0, 0, 0, 0, 0, 0, 0, 0, 0, 0, 0, 0, 0, 0, 0, 0, 0, 0, 0, 0, 0, 0, 0, 0, 0, 0, 0, 0, 0, 0, 0, 0, 0, 0, 0, 0, 0, 0, 0, 0, 0, 0, 0, 0, 0, 0, 0, 0, 0, 0, 0, 0, 0, 0, 0, 0, 0, 0, 0, 0, 0, 0, 0, 0, 0, 0, 0, 0, 0, 0, 0, 0, 0, 0, 0, 0, 0, 0, 0, 0, 0, 0, 0, 0, 0, 0, 0, 0, 0, 0, 0, 0, 0, 0, 0, 0, 0, 0, 0, 0, 0, 0, 0, 0, 0, 0, 0, 0, 0], [682, 0, 0, 0, 0, 0, 0, 0, 0, 0, 0, 0, 0, 0, 0, 0, 0, 0, 0, 0, 0, 0, 0, 0, 0, 0, 0, 0, 0, 0, 0, 0, 0, 0, 0, 0, 0, 0, 0, 0, 0, 0, 0, 0, 0, 0, 0, 0, 0, 0, 0, 0, 0, 0, 0, 0, 0, 0, 0, 0, 0, 0, 0, 0, 0, 0, 0, 0, 0, 0, 0, 0, 0, 0, 0, 0, 0, 0, 0, 0, 0, 0, 0, 0, 0, 0, 0, 0, 0, 0, 0, 0, 0, 0, 0, 0, 0, 0, 0, 0, 0, 0, 0, 0, 0, 0, 0, 0, 0, 0, 0, 0, 0, 0, 0, 0, 0, 0, 0, 0, 0, 0, 0, 0, 0, 0, 0, 0, 0, 0, 0, 0, 0, 0, 0, 0, 0, 0, 0, 0, 0, 0, 0, 0, 0, 0, 0, 0, 0, 0, 0, 0, 0, 0, 0, 0, 0, 0, 0, 0, 0, 0, 0, 0, 0, 0, 0, 0, 0, 0, 0, 0, 0, 0, 0, 0, 0, 0, 0, 0, 0, 0, 0, 0, 0, 0, 0, 0, 0, 0, 0, 0, 0, 0, 0, 0, 0, 0, 0, 0], [1560, 0, 0, 0, 0, 0, 0, 0, 0, 0, 0, 0, 0, 0, 0, 0, 0, 0, 0, 0, 0, 0, 0, 0, 0, 0, 0, 0, 0, 0, 0, 0, 0, 0, 0, 0, 0, 0, 0, 0, 0, 0, 0, 0, 0, 0, 0, 0, 0, 0, 0, 0, 0, 0, 0, 0, 0, 0, 0, 0, 0, 0, 0, 0, 0, 0, 0, 0, 0, 0, 0, 0, 0, 0, 0, 0, 0, 0, 0, 0, 0, 0, 0, 0, 0, 0, 0, 0, 0, 0, 0, 0, 0, 0, 0, 0, 0, 0, 0, 0, 0, 0, 0, 0, 0, 0, 0, 0, 0, 0, 0, 0, 0, 0, 0, 0, 0, 0, 0, 0, 0, 0, 0, 0, 0, 0, 0, 0, 0, 0, 0, 0, 0, 0, 0, 0, 0, 0, 0, 0, 0, 0, 0, 0, 0, 0, 0, 0, 0, 0, 0, 0, 0, 0, 0, 0, 0, 0, 0, 0, 0, 0, 0, 0, 0, 0, 0, 0, 0, 0, 0, 0, 0, 0, 0, 0, 0, 0, 0, 0, 0, 0, 0, 0, 0, 0, 0, 0, 0, 0, 0, 0, 0, 0, 0, 0, 0, 0, 0, 0], [1749, 0, 0, 0, 0, 0, 0, 0, 0, 0, 0, 0, 0, 0, 0, 0, 0, 0, 0, 0, 0, 0, 0, 0, 0, 0, 0, 0, 0, 0, 0, 0, 0, 0, 0, 0, 0, 0, 0, 0, 0, 0, 0, 0, 0, 0, 0, 0, 0, 0, 0, 0, 0, 0, 0, 0, 0, 0, 0, 0, 0, 0, 0, 0, 0, 0, 0, 0, 0, 0, 0, 0, 0, 0, 0, 0, 0, 0, 0, 0, 0, 0, 0, 0, 0, 0, 0, 0, 0, 0, 0, 0, 0, 0, 0, 0, 0, 0, 0, 0, 0, 0, 0, 0, 0, 0, 0, 0, 0, 0, 0, 0, 0, 0, 0, 0, 0, 0, 0, 0, 0, 0, 0, 0, 0, 0, 0, 0, 0, 0, 0, 0, 0, 0, 0, 0, 0, 0, 0, 0, 0, 0, 0, 0, 0, 0, 0, 0, 0, 0, 0, 0, 0, 0, 0, 0, 0, 0, 0, 0, 0, 0, 0, 0, 0, 0, 0, 0, 0, 0, 0, 0, 0, 0, 0, 0, 0, 0, 0, 0, 0, 0, 0, 0, 0, 0, 0, 0, 0, 0, 0, 0, 0, 0, 0, 0, 0, 0, 0, 0]] []\n",
      "\n"
     ]
    },
    {
     "ename": "ValueError",
     "evalue": "ignored",
     "output_type": "error",
     "traceback": [
      "\u001b[0;31m---------------------------------------------------------------------------\u001b[0m",
      "\u001b[0;31mValueError\u001b[0m                                Traceback (most recent call last)",
      "\u001b[0;32m<ipython-input-67-9456ef3dcdd5>\u001b[0m in \u001b[0;36m<module>\u001b[0;34m()\u001b[0m\n\u001b[1;32m     12\u001b[0m   \u001b[0mprint\u001b[0m\u001b[0;34m(\u001b[0m\u001b[0ms2\u001b[0m\u001b[0;34m)\u001b[0m\u001b[0;34m\u001b[0m\u001b[0;34m\u001b[0m\u001b[0m\n\u001b[1;32m     13\u001b[0m \u001b[0;34m\u001b[0m\u001b[0m\n\u001b[0;32m---> 14\u001b[0;31m   \u001b[0mscore_line\u001b[0m \u001b[0;34m=\u001b[0m \u001b[0malignment_chunks\u001b[0m\u001b[0;34m(\u001b[0m\u001b[0ms1\u001b[0m\u001b[0;34m,\u001b[0m \u001b[0ms2\u001b[0m\u001b[0;34m)\u001b[0m\u001b[0;34m\u001b[0m\u001b[0;34m\u001b[0m\u001b[0m\n\u001b[0m\u001b[1;32m     15\u001b[0m   \u001b[0malignements_gold\u001b[0m\u001b[0;34m.\u001b[0m\u001b[0mappend\u001b[0m\u001b[0;34m(\u001b[0m\u001b[0mscore_line\u001b[0m\u001b[0;34m)\u001b[0m\u001b[0;34m\u001b[0m\u001b[0;34m\u001b[0m\u001b[0m\n\u001b[1;32m     16\u001b[0m \u001b[0;34m\u001b[0m\u001b[0m\n",
      "\u001b[0;32m<ipython-input-64-34226fd07207>\u001b[0m in \u001b[0;36malignment_chunks\u001b[0;34m(sentence_1, sentence_2)\u001b[0m\n\u001b[1;32m     18\u001b[0m         \u001b[0minter\u001b[0m\u001b[0;34m=\u001b[0m\u001b[0;34m[\u001b[0m\u001b[0;34m]\u001b[0m\u001b[0;34m\u001b[0m\u001b[0;34m\u001b[0m\u001b[0m\n\u001b[1;32m     19\u001b[0m         \u001b[0;32mfor\u001b[0m \u001b[0mj\u001b[0m \u001b[0;32min\u001b[0m \u001b[0mrange\u001b[0m\u001b[0;34m(\u001b[0m\u001b[0mlen\u001b[0m\u001b[0;34m(\u001b[0m\u001b[0ms2\u001b[0m\u001b[0;34m)\u001b[0m\u001b[0;34m)\u001b[0m\u001b[0;34m:\u001b[0m\u001b[0;34m\u001b[0m\u001b[0;34m\u001b[0m\u001b[0m\n\u001b[0;32m---> 20\u001b[0;31m             \u001b[0msim\u001b[0m\u001b[0;34m=\u001b[0m\u001b[0malignment_mots\u001b[0m\u001b[0;34m(\u001b[0m\u001b[0ms1\u001b[0m\u001b[0;34m[\u001b[0m\u001b[0mi\u001b[0m\u001b[0;34m]\u001b[0m\u001b[0;34m,\u001b[0m \u001b[0ms2\u001b[0m\u001b[0;34m[\u001b[0m\u001b[0mj\u001b[0m\u001b[0;34m]\u001b[0m\u001b[0;34m)\u001b[0m\u001b[0;34m\u001b[0m\u001b[0;34m\u001b[0m\u001b[0m\n\u001b[0m\u001b[1;32m     21\u001b[0m             \u001b[0minter\u001b[0m\u001b[0;34m.\u001b[0m\u001b[0mappend\u001b[0m\u001b[0;34m(\u001b[0m\u001b[0msim\u001b[0m\u001b[0;34m)\u001b[0m\u001b[0;34m\u001b[0m\u001b[0;34m\u001b[0m\u001b[0m\n\u001b[1;32m     22\u001b[0m         \u001b[0mcost\u001b[0m\u001b[0;34m.\u001b[0m\u001b[0mappend\u001b[0m\u001b[0;34m(\u001b[0m\u001b[0minter\u001b[0m\u001b[0;34m)\u001b[0m\u001b[0;34m\u001b[0m\u001b[0;34m\u001b[0m\u001b[0m\n",
      "\u001b[0;32m<ipython-input-64-34226fd07207>\u001b[0m in \u001b[0;36malignment_mots\u001b[0;34m(chunk_1, chunk_2)\u001b[0m\n\u001b[1;32m     60\u001b[0m \u001b[0;34m\u001b[0m\u001b[0m\n\u001b[1;32m     61\u001b[0m     \u001b[0;31m#col_ind, #col_ind donne alignement des mots pour obtenir meilleur score de similarité possible\u001b[0m\u001b[0;34m\u001b[0m\u001b[0;34m\u001b[0m\u001b[0;34m\u001b[0m\u001b[0m\n\u001b[0;32m---> 62\u001b[0;31m     \u001b[0mrow_ind\u001b[0m\u001b[0;34m,\u001b[0m \u001b[0mcol_ind\u001b[0m \u001b[0;34m=\u001b[0m \u001b[0mlinear_sum_assignment\u001b[0m\u001b[0;34m(\u001b[0m\u001b[0;34m-\u001b[0m\u001b[0mcost\u001b[0m\u001b[0;34m)\u001b[0m \u001b[0;31m#- car linear_sum_assignment minimise normalement\u001b[0m\u001b[0;34m\u001b[0m\u001b[0;34m\u001b[0m\u001b[0m\n\u001b[0m\u001b[1;32m     63\u001b[0m \u001b[0;34m\u001b[0m\u001b[0m\n\u001b[1;32m     64\u001b[0m     \u001b[0;31m#score de similarité entre 2 chunks\u001b[0m\u001b[0;34m\u001b[0m\u001b[0;34m\u001b[0m\u001b[0;34m\u001b[0m\u001b[0m\n",
      "\u001b[0;32m/usr/local/lib/python3.7/dist-packages/scipy/optimize/_lsap.py\u001b[0m in \u001b[0;36mlinear_sum_assignment\u001b[0;34m(cost_matrix, maximize)\u001b[0m\n\u001b[1;32m     80\u001b[0m     \u001b[0;32mif\u001b[0m \u001b[0mlen\u001b[0m\u001b[0;34m(\u001b[0m\u001b[0mcost_matrix\u001b[0m\u001b[0;34m.\u001b[0m\u001b[0mshape\u001b[0m\u001b[0;34m)\u001b[0m \u001b[0;34m!=\u001b[0m \u001b[0;36m2\u001b[0m\u001b[0;34m:\u001b[0m\u001b[0;34m\u001b[0m\u001b[0;34m\u001b[0m\u001b[0m\n\u001b[1;32m     81\u001b[0m         raise ValueError(\"expected a matrix (2-d array), got a %r array\"\n\u001b[0;32m---> 82\u001b[0;31m                          % (cost_matrix.shape,))\n\u001b[0m\u001b[1;32m     83\u001b[0m \u001b[0;34m\u001b[0m\u001b[0m\n\u001b[1;32m     84\u001b[0m     if not (np.issubdtype(cost_matrix.dtype, np.number) or\n",
      "\u001b[0;31mValueError\u001b[0m: expected a matrix (2-d array), got a (0,) array"
     ]
    }
   ],
   "source": [
    "dataset1_chunked = trainSamplesChunked\n",
    "dataset2_chunked = testSamplesChunked\n",
    "\n",
    "alignements_gold = []\n",
    "for S1, S2 in zip(dataset1_chunked, dataset2_chunked): \n",
    "\n",
    "  #Preprocess\n",
    "  s1 = create_list_of_embedded_chunks_exploitable_for_alignement(S1)\n",
    "  s2 = create_list_of_embedded_chunks_exploitable_for_alignement(S2)\n",
    "\n",
    "  print(s1)\n",
    "  print(s2)\n",
    "\n",
    "  score_line = alignment_chunks(s1, s2)\n",
    "  alignements_gold.append(score_line)\n",
    "\n",
    "#alignements_gold"
   ]
  },
  {
   "cell_type": "markdown",
   "metadata": {
    "id": "YvBf4zCsnSLi"
   },
   "source": [
    "Alignement sur les chunks prédits"
   ]
  },
  {
   "cell_type": "code",
   "execution_count": null,
   "metadata": {
    "colab": {
     "base_uri": "https://localhost:8080/",
     "height": 375
    },
    "executionInfo": {
     "elapsed": 942,
     "status": "error",
     "timestamp": 1642015002047,
     "user": {
      "displayName": "William Jonas",
      "photoUrl": "https://lh3.googleusercontent.com/a/default-user=s64",
      "userId": "07205973325962472450"
     },
     "user_tz": -60
    },
    "id": "Oao7bfxwlheF",
    "outputId": "8a0edaeb-4781-428b-b299-df660a721820"
   },
   "outputs": [
    {
     "ename": "ValueError",
     "evalue": "ignored",
     "output_type": "error",
     "traceback": [
      "\u001b[0;31m---------------------------------------------------------------------------\u001b[0m",
      "\u001b[0;31mValueError\u001b[0m                                Traceback (most recent call last)",
      "\u001b[0;32m<ipython-input-70-64f1439cbd97>\u001b[0m in \u001b[0;36m<module>\u001b[0;34m()\u001b[0m\n\u001b[1;32m     13\u001b[0m   \u001b[0ms2\u001b[0m \u001b[0;34m=\u001b[0m \u001b[0mcreate_list_of_embedded_chunks_exploitable_for_alignement\u001b[0m\u001b[0;34m(\u001b[0m\u001b[0ms2\u001b[0m\u001b[0;34m)\u001b[0m\u001b[0;34m\u001b[0m\u001b[0;34m\u001b[0m\u001b[0m\n\u001b[1;32m     14\u001b[0m \u001b[0;34m\u001b[0m\u001b[0m\n\u001b[0;32m---> 15\u001b[0;31m   \u001b[0mscore_line\u001b[0m \u001b[0;34m=\u001b[0m \u001b[0malignment_chunks\u001b[0m\u001b[0;34m(\u001b[0m\u001b[0ms1\u001b[0m\u001b[0;34m,\u001b[0m \u001b[0ms2\u001b[0m\u001b[0;34m)\u001b[0m\u001b[0;34m\u001b[0m\u001b[0;34m\u001b[0m\u001b[0m\n\u001b[0m\u001b[1;32m     16\u001b[0m   \u001b[0malignements_pred\u001b[0m\u001b[0;34m.\u001b[0m\u001b[0mappend\u001b[0m\u001b[0;34m(\u001b[0m\u001b[0mscore_line\u001b[0m\u001b[0;34m)\u001b[0m\u001b[0;34m\u001b[0m\u001b[0;34m\u001b[0m\u001b[0m\n\u001b[1;32m     17\u001b[0m \u001b[0;34m\u001b[0m\u001b[0m\n",
      "\u001b[0;32m<ipython-input-68-260fd4abc0e3>\u001b[0m in \u001b[0;36malignment_chunks\u001b[0;34m(sentence_1, sentence_2)\u001b[0m\n\u001b[1;32m     23\u001b[0m     \u001b[0mcost\u001b[0m\u001b[0;34m=\u001b[0m\u001b[0mnp\u001b[0m\u001b[0;34m.\u001b[0m\u001b[0marray\u001b[0m\u001b[0;34m(\u001b[0m\u001b[0mcost\u001b[0m\u001b[0;34m)\u001b[0m\u001b[0;34m\u001b[0m\u001b[0;34m\u001b[0m\u001b[0m\n\u001b[1;32m     24\u001b[0m \u001b[0;34m\u001b[0m\u001b[0m\n\u001b[0;32m---> 25\u001b[0;31m     \u001b[0mrow_ind\u001b[0m\u001b[0;34m,\u001b[0m \u001b[0mcol_ind\u001b[0m \u001b[0;34m=\u001b[0m \u001b[0mlinear_sum_assignment\u001b[0m\u001b[0;34m(\u001b[0m\u001b[0;34m-\u001b[0m\u001b[0mcost\u001b[0m\u001b[0;34m)\u001b[0m \u001b[0;31m# - car linear_sum_assignment minimise normalement\u001b[0m\u001b[0;34m\u001b[0m\u001b[0;34m\u001b[0m\u001b[0m\n\u001b[0m\u001b[1;32m     26\u001b[0m \u001b[0;34m\u001b[0m\u001b[0m\n\u001b[1;32m     27\u001b[0m     \u001b[0;31m#Liste de score de similarité pour chaque alignement optimal de chunks\u001b[0m\u001b[0;34m\u001b[0m\u001b[0;34m\u001b[0m\u001b[0;34m\u001b[0m\u001b[0m\n",
      "\u001b[0;32m/usr/local/lib/python3.7/dist-packages/scipy/optimize/_lsap.py\u001b[0m in \u001b[0;36mlinear_sum_assignment\u001b[0;34m(cost_matrix, maximize)\u001b[0m\n\u001b[1;32m     80\u001b[0m     \u001b[0;32mif\u001b[0m \u001b[0mlen\u001b[0m\u001b[0;34m(\u001b[0m\u001b[0mcost_matrix\u001b[0m\u001b[0;34m.\u001b[0m\u001b[0mshape\u001b[0m\u001b[0;34m)\u001b[0m \u001b[0;34m!=\u001b[0m \u001b[0;36m2\u001b[0m\u001b[0;34m:\u001b[0m\u001b[0;34m\u001b[0m\u001b[0;34m\u001b[0m\u001b[0m\n\u001b[1;32m     81\u001b[0m         raise ValueError(\"expected a matrix (2-d array), got a %r array\"\n\u001b[0;32m---> 82\u001b[0;31m                          % (cost_matrix.shape,))\n\u001b[0m\u001b[1;32m     83\u001b[0m \u001b[0;34m\u001b[0m\u001b[0m\n\u001b[1;32m     84\u001b[0m     if not (np.issubdtype(cost_matrix.dtype, np.number) or\n",
      "\u001b[0;31mValueError\u001b[0m: expected a matrix (2-d array), got a (0,) array"
     ]
    }
   ],
   "source": [
    "chunkedLines1 = chunkDataset(trainSamples, showErrors=False)\n",
    "chunkedLines2 = chunkDataset(testSamples, showErrors=False)\n",
    "\n",
    "alignements_pred = []\n",
    "for S1, S2 in zip (chunkedLines1, chunkedLines2): \n",
    "\n",
    "  # Suppression des mots hors des chunks avant alignement\n",
    "  s1 = removeWordsOutOfChunks(S1)\n",
    "  s2 = removeWordsOutOfChunks(S2)\n",
    "\n",
    "  #Preprocess\n",
    "  s1 = create_list_of_embedded_chunks_exploitable_for_alignement(s1)\n",
    "  s2 = create_list_of_embedded_chunks_exploitable_for_alignement(s2)\n",
    "\n",
    "  score_line = alignment_chunks(s1, s2)\n",
    "  alignements_pred.append(score_line)\n",
    "\n",
    "# alignements_pred"
   ]
  },
  {
   "cell_type": "markdown",
   "metadata": {
    "id": "XqgED7x7P8HY"
   },
   "source": [
    "On crée une fonction permettant de mettre les résultats de l'alignement des segments sous forme d'un fichier .wa"
   ]
  },
  {
   "cell_type": "code",
   "execution_count": null,
   "metadata": {
    "id": "MaJ5rK-mP6v0"
   },
   "outputs": [],
   "source": [
    "def enumerate_word_with_indexe(sentence):\n",
    "  list_words=[]\n",
    "  a=sentence.split(']')\n",
    "  counter=1\n",
    "  for i in range(len(a)):\n",
    "    b=a[i]\n",
    "    b=b.replace('[','')\n",
    "    indices=[]\n",
    "    for elt in b.split():\n",
    "      print(counter,'', elt)\n",
    "      indices.append(counter)\n",
    "      counter+=1\n",
    "    list_words.append(b.split()+[indices])\n",
    "  return(list_words)\n",
    "\n",
    "sentence_1=testSamplesChunked[1]\n",
    "sentence_2=testSamplesChunked[2]\n",
    "\n",
    "sentence_a=create_list_of_embedded_chunks_exploitable_for_alignement(sentence_1)\n",
    "sentence_b=create_list_of_embedded_chunks_exploitable_for_alignement(sentence_2)\n",
    "\n",
    "str_liste_indices_token_chunk1, str_liste_indices_token_chunk2, scores=[], [], []\n",
    "for elt in alignment_chunks(sentence_a, sentence_b):\n",
    "  str_liste_indices_token_chunk1.append(elt[0])\n",
    "  str_liste_indices_token_chunk2.append(elt[1])\n",
    "  scores.append(elt[2])"
   ]
  },
  {
   "cell_type": "code",
   "execution_count": null,
   "metadata": {
    "id": "_aa5mVB_QIWT"
   },
   "outputs": [],
   "source": [
    "#def format_wa(path_to_write, chunked_sentence1, chunked_sentence2):\n",
    "print('<sentence id=\"' + str(id) + '\" status=\"\">')\n",
    "print('// ' + sentence1)\n",
    "print('// ' + sentence2)\n",
    "print('<source>')\n",
    "chunks1=enumerate_word_with_indexe(sentence_1)\n",
    "print('</source>')\n",
    "print('<translation>')\n",
    "chunks2=enumerate_word_with_indexe(sentence_2)\n",
    "print('</translation>')\n",
    "print('<alignment>')\n",
    "for i in range(len(scores)): \n",
    "  a, b=str_liste_indices_token_chunk1[i], str_liste_indices_token_chunk2[i]\n",
    "  print(str(chunks1[a][-1]) + ' <==> ' + str(chunks2[b][-1])\n",
    "      + ' // EQUI // ' + str(scores[i]) + ' // ' + str(chunks1[a][:-1]) + ' <==> ' + str(chunks2[b][:-1]))\n",
    "print('</alignment>')\n",
    "print('</sentence>')"
   ]
  }
 ],
 "metadata": {
  "colab": {
   "collapsed_sections": [
    "nzND6A7ziOfC",
    "EaNiMAa3ZJA-",
    "rEM-Bn35QtQ9",
    "Q6rKpdbdSq8p",
    "2c872Ewr2a7d",
    "zppkWKJ4iTHH",
    "T_JBKgEZiYjN",
    "F2HNxzgY-y_w",
    "udgIkrpTTdA7",
    "euTfkt6cayVY"
   ],
   "name": "Baseline",
   "provenance": [
    {
     "file_id": "1AuryuY6IqRlIkNAj4Jdybm7fd4tlri9O",
     "timestamp": 1641931370216
    }
   ]
  },
  "kernelspec": {
   "display_name": "Python 3 (ipykernel)",
   "language": "python",
   "name": "python3"
  },
  "language_info": {
   "codemirror_mode": {
    "name": "ipython",
    "version": 3
   },
   "file_extension": ".py",
   "mimetype": "text/x-python",
   "name": "python",
   "nbconvert_exporter": "python",
   "pygments_lexer": "ipython3",
   "version": "3.8.0"
  }
 },
 "nbformat": 4,
 "nbformat_minor": 1
}
